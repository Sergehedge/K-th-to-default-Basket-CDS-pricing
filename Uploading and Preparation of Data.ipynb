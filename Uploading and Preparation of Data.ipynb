{
 "cells": [
  {
   "cell_type": "code",
   "execution_count": 1,
   "id": "6a543641",
   "metadata": {},
   "outputs": [
    {
     "data": {
      "text/html": [
       "        <script type=\"text/javascript\">\n",
       "        window.PlotlyConfig = {MathJaxConfig: 'local'};\n",
       "        if (window.MathJax && window.MathJax.Hub && window.MathJax.Hub.Config) {window.MathJax.Hub.Config({SVG: {font: \"STIX-Web\"}});}\n",
       "        if (typeof require !== 'undefined') {\n",
       "        require.undef(\"plotly\");\n",
       "        requirejs.config({\n",
       "            paths: {\n",
       "                'plotly': ['https://cdn.plot.ly/plotly-2.12.1.min']\n",
       "            }\n",
       "        });\n",
       "        require(['plotly'], function(Plotly) {\n",
       "            window._Plotly = Plotly;\n",
       "        });\n",
       "        }\n",
       "        </script>\n",
       "        "
      ]
     },
     "metadata": {},
     "output_type": "display_data"
    },
    {
     "data": {
      "text/html": [
       "        <script type=\"text/javascript\">\n",
       "        window.PlotlyConfig = {MathJaxConfig: 'local'};\n",
       "        if (window.MathJax && window.MathJax.Hub && window.MathJax.Hub.Config) {window.MathJax.Hub.Config({SVG: {font: \"STIX-Web\"}});}\n",
       "        if (typeof require !== 'undefined') {\n",
       "        require.undef(\"plotly\");\n",
       "        requirejs.config({\n",
       "            paths: {\n",
       "                'plotly': ['https://cdn.plot.ly/plotly-2.12.1.min']\n",
       "            }\n",
       "        });\n",
       "        require(['plotly'], function(Plotly) {\n",
       "            window._Plotly = Plotly;\n",
       "        });\n",
       "        }\n",
       "        </script>\n",
       "        "
      ]
     },
     "metadata": {},
     "output_type": "display_data"
    }
   ],
   "source": [
    "import pandas as pd\n",
    "pd.options.mode.chained_assignment = None \n",
    "import numpy as np\n",
    "import matplotlib\n",
    "import matplotlib.pyplot as plt\n",
    "# Plot settings\n",
    "matplotlib.rcParams['figure.figsize'] = [14.0, 8.0]\n",
    "matplotlib.rcParams['font.size'] = 18\n",
    "matplotlib.rcParams['lines.linewidth'] = 2.0\n",
    "# Interactive plotting\n",
    "import cufflinks as cf\n",
    "cf.set_config_file(offline=True)\n",
    "cf.set_config_file(theme = 'pearl')\n",
    "#cf.getThemes() "
   ]
  },
  {
   "cell_type": "markdown",
   "id": "bf82e7fe",
   "metadata": {},
   "source": [
    "### Contents:\n",
    "\n",
    "1. Discounting curve\n",
    "2. CDS historical spreads uploading\n",
    "3. CDS term structure uploading\n",
    "4. Hazard rates bootstrapping\n",
    "    - 4.1. Helper functions\n",
    "    - 4.2. Hazard rates bootstrapping\n",
    "    - 4.3. Survival metrics visualized\n",
    "    - 4.4. Effect of recovery rate"
   ]
  },
  {
   "cell_type": "markdown",
   "id": "17f86527",
   "metadata": {},
   "source": [
    "### 1. Discounting curve - Bloomberg (SWAP SOFR curve - S490)"
   ]
  },
  {
   "cell_type": "code",
   "execution_count": 2,
   "id": "8d0873f0",
   "metadata": {},
   "outputs": [],
   "source": [
    "curve = pd.read_excel(r\"Input Data\\SOFR_curve_BBB_S490_mid.xlsx\")"
   ]
  },
  {
   "cell_type": "code",
   "execution_count": 3,
   "id": "4c964250",
   "metadata": {},
   "outputs": [],
   "source": [
    "## Set tenors in years numberically\n",
    "tenors = {\n",
    "    '1M': 1/12, \n",
    "    '2M': 1/6,\n",
    "    '3M': 1/4,\n",
    "    '4M': 1/3,\n",
    "    '5M': 5/12,\n",
    "    '6M': 0.5,\n",
    "    '7M': 7/12,\n",
    "    '8M': 1/3,\n",
    "    '9M': 3/4,\n",
    "    '10M': 10/12,\n",
    "    '11M': 11/12,\n",
    "    '12M': 1.0,\n",
    "    '18M': 1.5,\n",
    "    '2Y': 2.0,\n",
    "    '3Y': 3.0,\n",
    "    '4Y': 4.0,\n",
    "    '5Y': 5.0,\n",
    "    '6Y': 6.0,\n",
    "    '7Y': 7.0,\n",
    "    '8Y': 8.0,\n",
    "    '9Y': 9.0,\n",
    "    '10Y': 10.0,\n",
    "}\n",
    "\n",
    "curve['maturity'] = curve['Tenor'].apply(lambda x: tenors[x])"
   ]
  },
  {
   "cell_type": "code",
   "execution_count": 4,
   "id": "f809fbc7",
   "metadata": {},
   "outputs": [],
   "source": [
    "## Calculate discounting factors for each tenor\n",
    "\n",
    "curve = curve.sort_values(['maturity'], ascending=True)\n",
    "curve['Disc_factor'] = 0\n",
    "\n",
    "for i in range(curve.shape[0]):\n",
    "    if i==0:\n",
    "        curve['Disc_factor'][i] = np.exp(-curve['Yield'][i]/100*curve['maturity'][i])\n",
    "    else:\n",
    "        curve['Disc_factor'][i] = np.exp(-curve['Yield'][i]/100*(curve['maturity'][i]-curve['maturity'][i-1]))\\\n",
    "        *curve['Disc_factor'][i-1]"
   ]
  },
  {
   "cell_type": "code",
   "execution_count": 5,
   "id": "82dc1203",
   "metadata": {
    "scrolled": false
   },
   "outputs": [
    {
     "data": {
      "text/html": [
       "<div>\n",
       "<style scoped>\n",
       "    .dataframe tbody tr th:only-of-type {\n",
       "        vertical-align: middle;\n",
       "    }\n",
       "\n",
       "    .dataframe tbody tr th {\n",
       "        vertical-align: top;\n",
       "    }\n",
       "\n",
       "    .dataframe thead th {\n",
       "        text-align: right;\n",
       "    }\n",
       "</style>\n",
       "<table border=\"1\" class=\"dataframe\">\n",
       "  <thead>\n",
       "    <tr style=\"text-align: right;\">\n",
       "      <th></th>\n",
       "      <th>Tenor</th>\n",
       "      <th>Description</th>\n",
       "      <th>Yield</th>\n",
       "      <th>maturity</th>\n",
       "      <th>Disc_factor</th>\n",
       "    </tr>\n",
       "  </thead>\n",
       "  <tbody>\n",
       "    <tr>\n",
       "      <th>0</th>\n",
       "      <td>1M</td>\n",
       "      <td>US0FRA BGN Curncy</td>\n",
       "      <td>5.358</td>\n",
       "      <td>0.083333</td>\n",
       "      <td>0.995545</td>\n",
       "    </tr>\n",
       "    <tr>\n",
       "      <th>1</th>\n",
       "      <td>2M</td>\n",
       "      <td>US0FRB BGN Curncy</td>\n",
       "      <td>5.356</td>\n",
       "      <td>0.166667</td>\n",
       "      <td>0.991111</td>\n",
       "    </tr>\n",
       "    <tr>\n",
       "      <th>2</th>\n",
       "      <td>3M</td>\n",
       "      <td>US0FRC BGN Curncy</td>\n",
       "      <td>5.347</td>\n",
       "      <td>0.250000</td>\n",
       "      <td>0.986705</td>\n",
       "    </tr>\n",
       "    <tr>\n",
       "      <th>3</th>\n",
       "      <td>4M</td>\n",
       "      <td>US0FRD BGN Curncy</td>\n",
       "      <td>5.306</td>\n",
       "      <td>0.333333</td>\n",
       "      <td>0.982352</td>\n",
       "    </tr>\n",
       "    <tr>\n",
       "      <th>7</th>\n",
       "      <td>8M</td>\n",
       "      <td>US0FRH BGN Curncy</td>\n",
       "      <td>5.032</td>\n",
       "      <td>0.333333</td>\n",
       "      <td>0.982012</td>\n",
       "    </tr>\n",
       "    <tr>\n",
       "      <th>4</th>\n",
       "      <td>5M</td>\n",
       "      <td>US0FRE BGN Curncy</td>\n",
       "      <td>5.239</td>\n",
       "      <td>0.416667</td>\n",
       "      <td>0.978072</td>\n",
       "    </tr>\n",
       "    <tr>\n",
       "      <th>5</th>\n",
       "      <td>6M</td>\n",
       "      <td>US0FRF BGN Curncy</td>\n",
       "      <td>5.170</td>\n",
       "      <td>0.500000</td>\n",
       "      <td>0.973868</td>\n",
       "    </tr>\n",
       "    <tr>\n",
       "      <th>6</th>\n",
       "      <td>7M</td>\n",
       "      <td>US0FRG BGN Curncy</td>\n",
       "      <td>5.102</td>\n",
       "      <td>0.583333</td>\n",
       "      <td>0.969736</td>\n",
       "    </tr>\n",
       "    <tr>\n",
       "      <th>8</th>\n",
       "      <td>9M</td>\n",
       "      <td>US0FRI BGN Curncy</td>\n",
       "      <td>4.965</td>\n",
       "      <td>0.750000</td>\n",
       "      <td>0.961905</td>\n",
       "    </tr>\n",
       "    <tr>\n",
       "      <th>9</th>\n",
       "      <td>10M</td>\n",
       "      <td>US0FRJ BGN Curncy</td>\n",
       "      <td>4.897</td>\n",
       "      <td>0.833333</td>\n",
       "      <td>0.957988</td>\n",
       "    </tr>\n",
       "    <tr>\n",
       "      <th>10</th>\n",
       "      <td>11M</td>\n",
       "      <td>US0FRK BGN Curncy</td>\n",
       "      <td>4.834</td>\n",
       "      <td>0.916667</td>\n",
       "      <td>0.954137</td>\n",
       "    </tr>\n",
       "    <tr>\n",
       "      <th>11</th>\n",
       "      <td>12M</td>\n",
       "      <td>US0FR1 BGN Curncy</td>\n",
       "      <td>4.773</td>\n",
       "      <td>1.000000</td>\n",
       "      <td>0.950349</td>\n",
       "    </tr>\n",
       "    <tr>\n",
       "      <th>12</th>\n",
       "      <td>18M</td>\n",
       "      <td>US0FR1F BGN Curncy</td>\n",
       "      <td>4.375</td>\n",
       "      <td>1.500000</td>\n",
       "      <td>0.929786</td>\n",
       "    </tr>\n",
       "    <tr>\n",
       "      <th>13</th>\n",
       "      <td>2Y</td>\n",
       "      <td>US0FR2 BGN Curncy</td>\n",
       "      <td>4.104</td>\n",
       "      <td>2.000000</td>\n",
       "      <td>0.910901</td>\n",
       "    </tr>\n",
       "    <tr>\n",
       "      <th>14</th>\n",
       "      <td>3Y</td>\n",
       "      <td>US0FR3 BGN Curncy</td>\n",
       "      <td>3.795</td>\n",
       "      <td>3.000000</td>\n",
       "      <td>0.876980</td>\n",
       "    </tr>\n",
       "    <tr>\n",
       "      <th>15</th>\n",
       "      <td>4Y</td>\n",
       "      <td>US0FR4 BGN Curncy</td>\n",
       "      <td>3.645</td>\n",
       "      <td>4.000000</td>\n",
       "      <td>0.845590</td>\n",
       "    </tr>\n",
       "    <tr>\n",
       "      <th>16</th>\n",
       "      <td>5Y</td>\n",
       "      <td>US0FR5 BGN Curncy</td>\n",
       "      <td>3.571</td>\n",
       "      <td>5.000000</td>\n",
       "      <td>0.815927</td>\n",
       "    </tr>\n",
       "    <tr>\n",
       "      <th>17</th>\n",
       "      <td>6Y</td>\n",
       "      <td>US0FR6 BGN Curncy</td>\n",
       "      <td>3.534</td>\n",
       "      <td>6.000000</td>\n",
       "      <td>0.787595</td>\n",
       "    </tr>\n",
       "    <tr>\n",
       "      <th>18</th>\n",
       "      <td>7Y</td>\n",
       "      <td>US0FR7 BGN Curncy</td>\n",
       "      <td>3.515</td>\n",
       "      <td>7.000000</td>\n",
       "      <td>0.760392</td>\n",
       "    </tr>\n",
       "    <tr>\n",
       "      <th>19</th>\n",
       "      <td>8Y</td>\n",
       "      <td>US0FR8 BGN Curncy</td>\n",
       "      <td>3.507</td>\n",
       "      <td>8.000000</td>\n",
       "      <td>0.734188</td>\n",
       "    </tr>\n",
       "    <tr>\n",
       "      <th>20</th>\n",
       "      <td>9Y</td>\n",
       "      <td>US0FR9 BGN Curncy</td>\n",
       "      <td>3.508</td>\n",
       "      <td>9.000000</td>\n",
       "      <td>0.708879</td>\n",
       "    </tr>\n",
       "    <tr>\n",
       "      <th>21</th>\n",
       "      <td>10Y</td>\n",
       "      <td>US0FR10 BGN Curncy</td>\n",
       "      <td>3.511</td>\n",
       "      <td>10.000000</td>\n",
       "      <td>0.684422</td>\n",
       "    </tr>\n",
       "  </tbody>\n",
       "</table>\n",
       "</div>"
      ],
      "text/plain": [
       "   Tenor         Description  Yield   maturity  Disc_factor\n",
       "0     1M   US0FRA BGN Curncy  5.358   0.083333     0.995545\n",
       "1     2M   US0FRB BGN Curncy  5.356   0.166667     0.991111\n",
       "2     3M   US0FRC BGN Curncy  5.347   0.250000     0.986705\n",
       "3     4M   US0FRD BGN Curncy  5.306   0.333333     0.982352\n",
       "7     8M   US0FRH BGN Curncy  5.032   0.333333     0.982012\n",
       "4     5M   US0FRE BGN Curncy  5.239   0.416667     0.978072\n",
       "5     6M   US0FRF BGN Curncy  5.170   0.500000     0.973868\n",
       "6     7M   US0FRG BGN Curncy  5.102   0.583333     0.969736\n",
       "8     9M   US0FRI BGN Curncy  4.965   0.750000     0.961905\n",
       "9    10M   US0FRJ BGN Curncy  4.897   0.833333     0.957988\n",
       "10   11M   US0FRK BGN Curncy  4.834   0.916667     0.954137\n",
       "11   12M   US0FR1 BGN Curncy  4.773   1.000000     0.950349\n",
       "12   18M  US0FR1F BGN Curncy  4.375   1.500000     0.929786\n",
       "13    2Y   US0FR2 BGN Curncy  4.104   2.000000     0.910901\n",
       "14    3Y   US0FR3 BGN Curncy  3.795   3.000000     0.876980\n",
       "15    4Y   US0FR4 BGN Curncy  3.645   4.000000     0.845590\n",
       "16    5Y   US0FR5 BGN Curncy  3.571   5.000000     0.815927\n",
       "17    6Y   US0FR6 BGN Curncy  3.534   6.000000     0.787595\n",
       "18    7Y   US0FR7 BGN Curncy  3.515   7.000000     0.760392\n",
       "19    8Y   US0FR8 BGN Curncy  3.507   8.000000     0.734188\n",
       "20    9Y   US0FR9 BGN Curncy  3.508   9.000000     0.708879\n",
       "21   10Y  US0FR10 BGN Curncy  3.511  10.000000     0.684422"
      ]
     },
     "execution_count": 5,
     "metadata": {},
     "output_type": "execute_result"
    }
   ],
   "source": [
    "# write into csv file for futher use\n",
    "curve.to_csv('Disc_curve.csv')\n",
    "\n",
    "curve"
   ]
  },
  {
   "cell_type": "markdown",
   "id": "23ba3298",
   "metadata": {},
   "source": [
    "### 2.  CDS historical spreads uploading - source Datagrapple.com"
   ]
  },
  {
   "cell_type": "code",
   "execution_count": 6,
   "id": "3b8fb66e",
   "metadata": {},
   "outputs": [],
   "source": [
    "# reading data from 'csv files'\n",
    "names = ['UAE','QATAR','SAUDI','OMAN','BAHRAIN']\n",
    "CDS_df = pd.DataFrame(columns = ['Date']+names)\n",
    "\n",
    "for name in names:\n",
    "    df = pd.read_csv(r\"Input Data\\%s CDS.csv\" %(name))\n",
    "    CDS_df[name] = df.spread\n",
    "\n",
    "\n",
    "CDS_df['Date'] = pd.to_datetime(df.valueDate)"
   ]
  },
  {
   "cell_type": "code",
   "execution_count": 7,
   "id": "e236c7e8",
   "metadata": {},
   "outputs": [],
   "source": [
    "# take the last 5 years of the data\n",
    "\n",
    "CDS_df = CDS_df[CDS_df['Date'] >= '2018-12-22']"
   ]
  },
  {
   "cell_type": "code",
   "execution_count": 8,
   "id": "9a5fb532",
   "metadata": {
    "scrolled": true
   },
   "outputs": [
    {
     "data": {
      "image/png": "[encoded data removed]",
      "text/plain": [
       "<Figure size 1400x800 with 1 Axes>"
      ]
     },
     "metadata": {},
     "output_type": "display_data"
    }
   ],
   "source": [
    "# visualize\n",
    "\n",
    "plt.plot(CDS_df['Date'],CDS_df[names])\n",
    "plt.legend(CDS_df[names])\n",
    "plt.title('CDS spreads')\n",
    "plt.ylabel('bps')\n",
    "plt.show()"
   ]
  },
  {
   "cell_type": "code",
   "execution_count": 9,
   "id": "e0321ba8",
   "metadata": {
    "scrolled": true
   },
   "outputs": [
    {
     "data": {
      "text/html": [
       "<div>\n",
       "<style scoped>\n",
       "    .dataframe tbody tr th:only-of-type {\n",
       "        vertical-align: middle;\n",
       "    }\n",
       "\n",
       "    .dataframe tbody tr th {\n",
       "        vertical-align: top;\n",
       "    }\n",
       "\n",
       "    .dataframe thead th {\n",
       "        text-align: right;\n",
       "    }\n",
       "</style>\n",
       "<table border=\"1\" class=\"dataframe\">\n",
       "  <thead>\n",
       "    <tr style=\"text-align: right;\">\n",
       "      <th></th>\n",
       "      <th>Date</th>\n",
       "      <th>UAE</th>\n",
       "      <th>QATAR</th>\n",
       "      <th>SAUDI</th>\n",
       "      <th>OMAN</th>\n",
       "      <th>BAHRAIN</th>\n",
       "    </tr>\n",
       "  </thead>\n",
       "  <tbody>\n",
       "    <tr>\n",
       "      <th>3282</th>\n",
       "      <td>NaT</td>\n",
       "      <td>NaN</td>\n",
       "      <td>NaN</td>\n",
       "      <td>NaN</td>\n",
       "      <td>NaN</td>\n",
       "      <td>NaN</td>\n",
       "    </tr>\n",
       "    <tr>\n",
       "      <th>3287</th>\n",
       "      <td>10 days</td>\n",
       "      <td>2.0</td>\n",
       "      <td>5.0</td>\n",
       "      <td>8.580638</td>\n",
       "      <td>-12.141409</td>\n",
       "      <td>47.080508</td>\n",
       "    </tr>\n",
       "    <tr>\n",
       "      <th>3292</th>\n",
       "      <td>7 days</td>\n",
       "      <td>-2.0</td>\n",
       "      <td>-5.0</td>\n",
       "      <td>-14.126484</td>\n",
       "      <td>-8.143205</td>\n",
       "      <td>-26.242212</td>\n",
       "    </tr>\n",
       "    <tr>\n",
       "      <th>3297</th>\n",
       "      <td>7 days</td>\n",
       "      <td>-2.0</td>\n",
       "      <td>-4.5</td>\n",
       "      <td>-3.022604</td>\n",
       "      <td>-0.519924</td>\n",
       "      <td>-0.021884</td>\n",
       "    </tr>\n",
       "    <tr>\n",
       "      <th>3302</th>\n",
       "      <td>7 days</td>\n",
       "      <td>-2.0</td>\n",
       "      <td>-5.5</td>\n",
       "      <td>-9.058652</td>\n",
       "      <td>-13.828313</td>\n",
       "      <td>-36.492647</td>\n",
       "    </tr>\n",
       "  </tbody>\n",
       "</table>\n",
       "</div>"
      ],
      "text/plain": [
       "        Date  UAE  QATAR      SAUDI       OMAN    BAHRAIN\n",
       "3282     NaT  NaN    NaN        NaN        NaN        NaN\n",
       "3287 10 days  2.0    5.0   8.580638 -12.141409  47.080508\n",
       "3292  7 days -2.0   -5.0 -14.126484  -8.143205 -26.242212\n",
       "3297  7 days -2.0   -4.5  -3.022604  -0.519924  -0.021884\n",
       "3302  7 days -2.0   -5.5  -9.058652 -13.828313 -36.492647"
      ]
     },
     "execution_count": 9,
     "metadata": {},
     "output_type": "execute_result"
    }
   ],
   "source": [
    "# take weekly differences and show the data head\n",
    "CDS_df.iloc[::5, :].diff(1).head()"
   ]
  },
  {
   "cell_type": "code",
   "execution_count": 10,
   "id": "ceaac1e7",
   "metadata": {},
   "outputs": [
    {
     "data": {
      "text/html": [
       "<div>\n",
       "<style scoped>\n",
       "    .dataframe tbody tr th:only-of-type {\n",
       "        vertical-align: middle;\n",
       "    }\n",
       "\n",
       "    .dataframe tbody tr th {\n",
       "        vertical-align: top;\n",
       "    }\n",
       "\n",
       "    .dataframe thead th {\n",
       "        text-align: right;\n",
       "    }\n",
       "</style>\n",
       "<table border=\"1\" class=\"dataframe\">\n",
       "  <thead>\n",
       "    <tr style=\"text-align: right;\">\n",
       "      <th></th>\n",
       "      <th>Date</th>\n",
       "      <th>UAE</th>\n",
       "      <th>QATAR</th>\n",
       "      <th>SAUDI</th>\n",
       "      <th>OMAN</th>\n",
       "      <th>BAHRAIN</th>\n",
       "    </tr>\n",
       "  </thead>\n",
       "  <tbody>\n",
       "    <tr>\n",
       "      <th>3287</th>\n",
       "      <td>10 days</td>\n",
       "      <td>2.0</td>\n",
       "      <td>5.0</td>\n",
       "      <td>8.580638</td>\n",
       "      <td>-12.141409</td>\n",
       "      <td>47.080508</td>\n",
       "    </tr>\n",
       "    <tr>\n",
       "      <th>3292</th>\n",
       "      <td>7 days</td>\n",
       "      <td>-2.0</td>\n",
       "      <td>-5.0</td>\n",
       "      <td>-14.126484</td>\n",
       "      <td>-8.143205</td>\n",
       "      <td>-26.242212</td>\n",
       "    </tr>\n",
       "    <tr>\n",
       "      <th>3297</th>\n",
       "      <td>7 days</td>\n",
       "      <td>-2.0</td>\n",
       "      <td>-4.5</td>\n",
       "      <td>-3.022604</td>\n",
       "      <td>-0.519924</td>\n",
       "      <td>-0.021884</td>\n",
       "    </tr>\n",
       "    <tr>\n",
       "      <th>3302</th>\n",
       "      <td>7 days</td>\n",
       "      <td>-2.0</td>\n",
       "      <td>-5.5</td>\n",
       "      <td>-9.058652</td>\n",
       "      <td>-13.828313</td>\n",
       "      <td>-36.492647</td>\n",
       "    </tr>\n",
       "    <tr>\n",
       "      <th>3307</th>\n",
       "      <td>7 days</td>\n",
       "      <td>-4.0</td>\n",
       "      <td>1.0</td>\n",
       "      <td>1.509120</td>\n",
       "      <td>-9.391352</td>\n",
       "      <td>-20.741094</td>\n",
       "    </tr>\n",
       "  </tbody>\n",
       "</table>\n",
       "</div>"
      ],
      "text/plain": [
       "        Date  UAE  QATAR      SAUDI       OMAN    BAHRAIN\n",
       "3287 10 days  2.0    5.0   8.580638 -12.141409  47.080508\n",
       "3292  7 days -2.0   -5.0 -14.126484  -8.143205 -26.242212\n",
       "3297  7 days -2.0   -4.5  -3.022604  -0.519924  -0.021884\n",
       "3302  7 days -2.0   -5.5  -9.058652 -13.828313 -36.492647\n",
       "3307  7 days -4.0    1.0   1.509120  -9.391352 -20.741094"
      ]
     },
     "execution_count": 10,
     "metadata": {},
     "output_type": "execute_result"
    }
   ],
   "source": [
    "# drop NaN\n",
    "CDS_df.iloc[::5, :].diff(1).dropna().head()"
   ]
  },
  {
   "cell_type": "code",
   "execution_count": 11,
   "id": "8e860edc",
   "metadata": {},
   "outputs": [
    {
     "data": {
      "text/html": [
       "<div>\n",
       "<style scoped>\n",
       "    .dataframe tbody tr th:only-of-type {\n",
       "        vertical-align: middle;\n",
       "    }\n",
       "\n",
       "    .dataframe tbody tr th {\n",
       "        vertical-align: top;\n",
       "    }\n",
       "\n",
       "    .dataframe thead th {\n",
       "        text-align: right;\n",
       "    }\n",
       "</style>\n",
       "<table border=\"1\" class=\"dataframe\">\n",
       "  <thead>\n",
       "    <tr style=\"text-align: right;\">\n",
       "      <th></th>\n",
       "      <th>Date</th>\n",
       "      <th>UAE</th>\n",
       "      <th>QATAR</th>\n",
       "      <th>SAUDI</th>\n",
       "      <th>OMAN</th>\n",
       "      <th>BAHRAIN</th>\n",
       "    </tr>\n",
       "  </thead>\n",
       "  <tbody>\n",
       "    <tr>\n",
       "      <th>4522</th>\n",
       "      <td>7 days</td>\n",
       "      <td>-0.999998</td>\n",
       "      <td>-0.749996</td>\n",
       "      <td>-2.250000</td>\n",
       "      <td>-1.0</td>\n",
       "      <td>-8.75</td>\n",
       "    </tr>\n",
       "    <tr>\n",
       "      <th>4527</th>\n",
       "      <td>7 days</td>\n",
       "      <td>-0.999999</td>\n",
       "      <td>-0.250003</td>\n",
       "      <td>-1.449998</td>\n",
       "      <td>-0.5</td>\n",
       "      <td>-6.25</td>\n",
       "    </tr>\n",
       "    <tr>\n",
       "      <th>4532</th>\n",
       "      <td>7 days</td>\n",
       "      <td>1.999997</td>\n",
       "      <td>1.500000</td>\n",
       "      <td>1.699999</td>\n",
       "      <td>-3.0</td>\n",
       "      <td>3.00</td>\n",
       "    </tr>\n",
       "    <tr>\n",
       "      <th>4537</th>\n",
       "      <td>7 days</td>\n",
       "      <td>-3.000000</td>\n",
       "      <td>0.000001</td>\n",
       "      <td>-3.000000</td>\n",
       "      <td>-11.5</td>\n",
       "      <td>-18.00</td>\n",
       "    </tr>\n",
       "    <tr>\n",
       "      <th>4542</th>\n",
       "      <td>7 days</td>\n",
       "      <td>1.500000</td>\n",
       "      <td>0.999999</td>\n",
       "      <td>2.999999</td>\n",
       "      <td>-2.0</td>\n",
       "      <td>1.00</td>\n",
       "    </tr>\n",
       "  </tbody>\n",
       "</table>\n",
       "</div>"
      ],
      "text/plain": [
       "       Date       UAE     QATAR     SAUDI  OMAN  BAHRAIN\n",
       "4522 7 days -0.999998 -0.749996 -2.250000  -1.0    -8.75\n",
       "4527 7 days -0.999999 -0.250003 -1.449998  -0.5    -6.25\n",
       "4532 7 days  1.999997  1.500000  1.699999  -3.0     3.00\n",
       "4537 7 days -3.000000  0.000001 -3.000000 -11.5   -18.00\n",
       "4542 7 days  1.500000  0.999999  2.999999  -2.0     1.00"
      ]
     },
     "execution_count": 11,
     "metadata": {},
     "output_type": "execute_result"
    }
   ],
   "source": [
    "# take weekly differences and show the data tail\n",
    "CDS_df.iloc[::5, :].diff(1).tail()"
   ]
  },
  {
   "cell_type": "code",
   "execution_count": 12,
   "id": "c241f165",
   "metadata": {},
   "outputs": [],
   "source": [
    "### write into .csv file for further correlation analysis in the Matlab software\n",
    "\n",
    "CDS_df.iloc[::5, :].diff(1).dropna().to_csv('CDS_spreads_5Y.csv')"
   ]
  },
  {
   "cell_type": "markdown",
   "id": "8f4ac77f",
   "metadata": {},
   "source": [
    "### 3. CDS term structure uploading"
   ]
  },
  {
   "cell_type": "code",
   "execution_count": 13,
   "id": "858d6145",
   "metadata": {},
   "outputs": [],
   "source": [
    "# read xlxl file\n",
    "\n",
    "CDS_market = pd.read_excel(r\"Input Data\\CDS_term_structure.xlsx\")"
   ]
  },
  {
   "cell_type": "code",
   "execution_count": 14,
   "id": "6082a666",
   "metadata": {},
   "outputs": [],
   "source": [
    "# calculate mid prices\n",
    "CDS_market['mid'] = (CDS_market['BID(bps)'] + CDS_market['ASK(bps)'])/2\n",
    "\n",
    "# ransform tenors into numeric values in years\n",
    "tenors = {\n",
    "    '6mo': 0.5, \n",
    "    '1yr': 1.0,\n",
    "    '2yr': 2.0,\n",
    "    '3yr': 3.0,\n",
    "    '4yr': 4.0,\n",
    "    '5yr': 5.0,\n",
    "    '7yr': 7.0,\n",
    "    '10yr': 10.0,\n",
    "}\n",
    "\n",
    "CDS_market['tenor'] = CDS_market['TERM'].apply(lambda x: tenors[x])\n"
   ]
  },
  {
   "cell_type": "code",
   "execution_count": 15,
   "id": "878b5bfa",
   "metadata": {
    "scrolled": true
   },
   "outputs": [
    {
     "data": {
      "text/html": [
       "<div>\n",
       "<style scoped>\n",
       "    .dataframe tbody tr th:only-of-type {\n",
       "        vertical-align: middle;\n",
       "    }\n",
       "\n",
       "    .dataframe tbody tr th {\n",
       "        vertical-align: top;\n",
       "    }\n",
       "\n",
       "    .dataframe thead th {\n",
       "        text-align: right;\n",
       "    }\n",
       "</style>\n",
       "<table border=\"1\" class=\"dataframe\">\n",
       "  <thead>\n",
       "    <tr style=\"text-align: right;\">\n",
       "      <th></th>\n",
       "      <th>COUNTRY</th>\n",
       "      <th>BBG ID</th>\n",
       "      <th>CURRENCY</th>\n",
       "      <th>TERM</th>\n",
       "      <th>TICKER</th>\n",
       "      <th>CONTRIBUTOR</th>\n",
       "      <th>BID(bps)</th>\n",
       "      <th>ASK(bps)</th>\n",
       "      <th>mid</th>\n",
       "      <th>tenor</th>\n",
       "    </tr>\n",
       "  </thead>\n",
       "  <tbody>\n",
       "    <tr>\n",
       "      <th>0</th>\n",
       "      <td>QATAR</td>\n",
       "      <td>307687</td>\n",
       "      <td>USD</td>\n",
       "      <td>6mo</td>\n",
       "      <td>CT990879</td>\n",
       "      <td>CMAN</td>\n",
       "      <td>10.210</td>\n",
       "      <td>18.130</td>\n",
       "      <td>14.1700</td>\n",
       "      <td>0.5</td>\n",
       "    </tr>\n",
       "    <tr>\n",
       "      <th>1</th>\n",
       "      <td>QATAR</td>\n",
       "      <td>307687</td>\n",
       "      <td>USD</td>\n",
       "      <td>1yr</td>\n",
       "      <td>CQTA1U1</td>\n",
       "      <td>CMAN</td>\n",
       "      <td>11.690</td>\n",
       "      <td>18.540</td>\n",
       "      <td>15.1150</td>\n",
       "      <td>1.0</td>\n",
       "    </tr>\n",
       "    <tr>\n",
       "      <th>2</th>\n",
       "      <td>QATAR</td>\n",
       "      <td>307687</td>\n",
       "      <td>USD</td>\n",
       "      <td>2yr</td>\n",
       "      <td>CQTA1U2</td>\n",
       "      <td>CMAN</td>\n",
       "      <td>18.620</td>\n",
       "      <td>25.370</td>\n",
       "      <td>21.9950</td>\n",
       "      <td>2.0</td>\n",
       "    </tr>\n",
       "    <tr>\n",
       "      <th>3</th>\n",
       "      <td>QATAR</td>\n",
       "      <td>307687</td>\n",
       "      <td>USD</td>\n",
       "      <td>3yr</td>\n",
       "      <td>CQTA1U3</td>\n",
       "      <td>CMAN</td>\n",
       "      <td>26.580</td>\n",
       "      <td>32.990</td>\n",
       "      <td>29.7850</td>\n",
       "      <td>3.0</td>\n",
       "    </tr>\n",
       "    <tr>\n",
       "      <th>4</th>\n",
       "      <td>QATAR</td>\n",
       "      <td>307687</td>\n",
       "      <td>USD</td>\n",
       "      <td>4yr</td>\n",
       "      <td>CQTA1U4</td>\n",
       "      <td>CMAN</td>\n",
       "      <td>34.050</td>\n",
       "      <td>39.860</td>\n",
       "      <td>36.9550</td>\n",
       "      <td>4.0</td>\n",
       "    </tr>\n",
       "    <tr>\n",
       "      <th>5</th>\n",
       "      <td>QATAR</td>\n",
       "      <td>307687</td>\n",
       "      <td>USD</td>\n",
       "      <td>5yr</td>\n",
       "      <td>CQTA1U5</td>\n",
       "      <td>CBIN</td>\n",
       "      <td>43.278</td>\n",
       "      <td>46.851</td>\n",
       "      <td>45.0645</td>\n",
       "      <td>5.0</td>\n",
       "    </tr>\n",
       "    <tr>\n",
       "      <th>6</th>\n",
       "      <td>QATAR</td>\n",
       "      <td>307687</td>\n",
       "      <td>USD</td>\n",
       "      <td>7yr</td>\n",
       "      <td>CQTA1U7</td>\n",
       "      <td>CMAN</td>\n",
       "      <td>59.880</td>\n",
       "      <td>67.190</td>\n",
       "      <td>63.5350</td>\n",
       "      <td>7.0</td>\n",
       "    </tr>\n",
       "    <tr>\n",
       "      <th>7</th>\n",
       "      <td>QATAR</td>\n",
       "      <td>307687</td>\n",
       "      <td>USD</td>\n",
       "      <td>10yr</td>\n",
       "      <td>CQTR1U10</td>\n",
       "      <td>CMAN</td>\n",
       "      <td>73.550</td>\n",
       "      <td>83.370</td>\n",
       "      <td>78.4600</td>\n",
       "      <td>10.0</td>\n",
       "    </tr>\n",
       "    <tr>\n",
       "      <th>8</th>\n",
       "      <td>SAUDI</td>\n",
       "      <td>307693</td>\n",
       "      <td>USD</td>\n",
       "      <td>6mo</td>\n",
       "      <td>CT990871</td>\n",
       "      <td>CMAN</td>\n",
       "      <td>12.970</td>\n",
       "      <td>18.890</td>\n",
       "      <td>15.9300</td>\n",
       "      <td>0.5</td>\n",
       "    </tr>\n",
       "    <tr>\n",
       "      <th>9</th>\n",
       "      <td>SAUDI</td>\n",
       "      <td>307693</td>\n",
       "      <td>USD</td>\n",
       "      <td>1yr</td>\n",
       "      <td>CT965291</td>\n",
       "      <td>CMAN</td>\n",
       "      <td>18.690</td>\n",
       "      <td>24.130</td>\n",
       "      <td>21.4100</td>\n",
       "      <td>1.0</td>\n",
       "    </tr>\n",
       "    <tr>\n",
       "      <th>10</th>\n",
       "      <td>SAUDI</td>\n",
       "      <td>307693</td>\n",
       "      <td>USD</td>\n",
       "      <td>2yr</td>\n",
       "      <td>CT965295</td>\n",
       "      <td>CMAN</td>\n",
       "      <td>26.110</td>\n",
       "      <td>30.080</td>\n",
       "      <td>28.0950</td>\n",
       "      <td>2.0</td>\n",
       "    </tr>\n",
       "    <tr>\n",
       "      <th>11</th>\n",
       "      <td>SAUDI</td>\n",
       "      <td>307693</td>\n",
       "      <td>USD</td>\n",
       "      <td>3yr</td>\n",
       "      <td>CT965299</td>\n",
       "      <td>CMAN</td>\n",
       "      <td>34.170</td>\n",
       "      <td>38.260</td>\n",
       "      <td>36.2150</td>\n",
       "      <td>3.0</td>\n",
       "    </tr>\n",
       "    <tr>\n",
       "      <th>12</th>\n",
       "      <td>SAUDI</td>\n",
       "      <td>307693</td>\n",
       "      <td>USD</td>\n",
       "      <td>4yr</td>\n",
       "      <td>CT965303</td>\n",
       "      <td>CMAN</td>\n",
       "      <td>40.980</td>\n",
       "      <td>44.930</td>\n",
       "      <td>42.9550</td>\n",
       "      <td>4.0</td>\n",
       "    </tr>\n",
       "    <tr>\n",
       "      <th>13</th>\n",
       "      <td>SAUDI</td>\n",
       "      <td>307693</td>\n",
       "      <td>USD</td>\n",
       "      <td>5yr</td>\n",
       "      <td>CT965307</td>\n",
       "      <td>CBIN</td>\n",
       "      <td>50.146</td>\n",
       "      <td>53.480</td>\n",
       "      <td>51.8130</td>\n",
       "      <td>5.0</td>\n",
       "    </tr>\n",
       "    <tr>\n",
       "      <th>14</th>\n",
       "      <td>SAUDI</td>\n",
       "      <td>307693</td>\n",
       "      <td>USD</td>\n",
       "      <td>7yr</td>\n",
       "      <td>CT965315</td>\n",
       "      <td>CMAN</td>\n",
       "      <td>62.270</td>\n",
       "      <td>68.230</td>\n",
       "      <td>65.2500</td>\n",
       "      <td>7.0</td>\n",
       "    </tr>\n",
       "    <tr>\n",
       "      <th>15</th>\n",
       "      <td>SAUDI</td>\n",
       "      <td>307693</td>\n",
       "      <td>USD</td>\n",
       "      <td>10yr</td>\n",
       "      <td>CT965327</td>\n",
       "      <td>CMAN</td>\n",
       "      <td>77.600</td>\n",
       "      <td>83.500</td>\n",
       "      <td>80.5500</td>\n",
       "      <td>10.0</td>\n",
       "    </tr>\n",
       "    <tr>\n",
       "      <th>16</th>\n",
       "      <td>BAHRAIN</td>\n",
       "      <td>171957</td>\n",
       "      <td>USD</td>\n",
       "      <td>6mo</td>\n",
       "      <td>CT990867</td>\n",
       "      <td>CMAN</td>\n",
       "      <td>43.950</td>\n",
       "      <td>77.710</td>\n",
       "      <td>60.8300</td>\n",
       "      <td>0.5</td>\n",
       "    </tr>\n",
       "    <tr>\n",
       "      <th>17</th>\n",
       "      <td>BAHRAIN</td>\n",
       "      <td>171957</td>\n",
       "      <td>USD</td>\n",
       "      <td>1yr</td>\n",
       "      <td>CT965095</td>\n",
       "      <td>CMAN</td>\n",
       "      <td>67.700</td>\n",
       "      <td>98.460</td>\n",
       "      <td>83.0800</td>\n",
       "      <td>1.0</td>\n",
       "    </tr>\n",
       "    <tr>\n",
       "      <th>18</th>\n",
       "      <td>BAHRAIN</td>\n",
       "      <td>171957</td>\n",
       "      <td>USD</td>\n",
       "      <td>2yr</td>\n",
       "      <td>СТ393409</td>\n",
       "      <td>CMAN</td>\n",
       "      <td>116.290</td>\n",
       "      <td>135.310</td>\n",
       "      <td>125.8000</td>\n",
       "      <td>2.0</td>\n",
       "    </tr>\n",
       "    <tr>\n",
       "      <th>19</th>\n",
       "      <td>BAHRAIN</td>\n",
       "      <td>171957</td>\n",
       "      <td>USD</td>\n",
       "      <td>3yr</td>\n",
       "      <td>СТ965099</td>\n",
       "      <td>CMAN</td>\n",
       "      <td>146.230</td>\n",
       "      <td>161.690</td>\n",
       "      <td>153.9600</td>\n",
       "      <td>3.0</td>\n",
       "    </tr>\n",
       "    <tr>\n",
       "      <th>20</th>\n",
       "      <td>BAHRAIN</td>\n",
       "      <td>171957</td>\n",
       "      <td>USD</td>\n",
       "      <td>4yr</td>\n",
       "      <td>CT965103</td>\n",
       "      <td>CMAN</td>\n",
       "      <td>173.910</td>\n",
       "      <td>182.430</td>\n",
       "      <td>178.1700</td>\n",
       "      <td>4.0</td>\n",
       "    </tr>\n",
       "    <tr>\n",
       "      <th>21</th>\n",
       "      <td>BAHRAIN</td>\n",
       "      <td>171957</td>\n",
       "      <td>USD</td>\n",
       "      <td>5yr</td>\n",
       "      <td>CT393413</td>\n",
       "      <td>CBIN</td>\n",
       "      <td>198.282</td>\n",
       "      <td>211.821</td>\n",
       "      <td>205.0515</td>\n",
       "      <td>5.0</td>\n",
       "    </tr>\n",
       "    <tr>\n",
       "      <th>22</th>\n",
       "      <td>BAHRAIN</td>\n",
       "      <td>171957</td>\n",
       "      <td>USD</td>\n",
       "      <td>7yr</td>\n",
       "      <td>CT965111</td>\n",
       "      <td>CMAN</td>\n",
       "      <td>229.460</td>\n",
       "      <td>243.980</td>\n",
       "      <td>236.7200</td>\n",
       "      <td>7.0</td>\n",
       "    </tr>\n",
       "    <tr>\n",
       "      <th>23</th>\n",
       "      <td>BAHRAIN</td>\n",
       "      <td>171957</td>\n",
       "      <td>USD</td>\n",
       "      <td>10yr</td>\n",
       "      <td>CT393417</td>\n",
       "      <td>CMAN</td>\n",
       "      <td>248.600</td>\n",
       "      <td>268.180</td>\n",
       "      <td>258.3900</td>\n",
       "      <td>10.0</td>\n",
       "    </tr>\n",
       "    <tr>\n",
       "      <th>24</th>\n",
       "      <td>UAE</td>\n",
       "      <td>12257737</td>\n",
       "      <td>USD</td>\n",
       "      <td>6mo</td>\n",
       "      <td>CX967360</td>\n",
       "      <td>CMAN</td>\n",
       "      <td>10.600</td>\n",
       "      <td>15.500</td>\n",
       "      <td>13.0500</td>\n",
       "      <td>0.5</td>\n",
       "    </tr>\n",
       "    <tr>\n",
       "      <th>25</th>\n",
       "      <td>UAE</td>\n",
       "      <td>12257737</td>\n",
       "      <td>USD</td>\n",
       "      <td>1yr</td>\n",
       "      <td>CX855687</td>\n",
       "      <td>CMAN</td>\n",
       "      <td>11.490</td>\n",
       "      <td>15.900</td>\n",
       "      <td>13.6950</td>\n",
       "      <td>1.0</td>\n",
       "    </tr>\n",
       "    <tr>\n",
       "      <th>26</th>\n",
       "      <td>UAE</td>\n",
       "      <td>12257737</td>\n",
       "      <td>USD</td>\n",
       "      <td>2yr</td>\n",
       "      <td>CX855691</td>\n",
       "      <td>CMAN</td>\n",
       "      <td>18.520</td>\n",
       "      <td>22.610</td>\n",
       "      <td>20.5650</td>\n",
       "      <td>2.0</td>\n",
       "    </tr>\n",
       "    <tr>\n",
       "      <th>27</th>\n",
       "      <td>UAE</td>\n",
       "      <td>12257737</td>\n",
       "      <td>USD</td>\n",
       "      <td>3yr</td>\n",
       "      <td>CX855695</td>\n",
       "      <td>CMAN</td>\n",
       "      <td>24.590</td>\n",
       "      <td>28.810</td>\n",
       "      <td>26.7000</td>\n",
       "      <td>3.0</td>\n",
       "    </tr>\n",
       "    <tr>\n",
       "      <th>28</th>\n",
       "      <td>UAE</td>\n",
       "      <td>12257737</td>\n",
       "      <td>USD</td>\n",
       "      <td>4yr</td>\n",
       "      <td>CX855703</td>\n",
       "      <td>CMAN</td>\n",
       "      <td>30.930</td>\n",
       "      <td>35.700</td>\n",
       "      <td>33.3150</td>\n",
       "      <td>4.0</td>\n",
       "    </tr>\n",
       "    <tr>\n",
       "      <th>29</th>\n",
       "      <td>UAE</td>\n",
       "      <td>12257737</td>\n",
       "      <td>USD</td>\n",
       "      <td>5yr</td>\n",
       "      <td>CX855707</td>\n",
       "      <td>CBIN</td>\n",
       "      <td>39.653</td>\n",
       "      <td>43.890</td>\n",
       "      <td>41.7715</td>\n",
       "      <td>5.0</td>\n",
       "    </tr>\n",
       "    <tr>\n",
       "      <th>30</th>\n",
       "      <td>UAE</td>\n",
       "      <td>12257737</td>\n",
       "      <td>USD</td>\n",
       "      <td>7yr</td>\n",
       "      <td>CX855751</td>\n",
       "      <td>CMAN</td>\n",
       "      <td>55.350</td>\n",
       "      <td>60.530</td>\n",
       "      <td>57.9400</td>\n",
       "      <td>7.0</td>\n",
       "    </tr>\n",
       "    <tr>\n",
       "      <th>31</th>\n",
       "      <td>UAE</td>\n",
       "      <td>12257737</td>\n",
       "      <td>USD</td>\n",
       "      <td>10yr</td>\n",
       "      <td>CX855763</td>\n",
       "      <td>CMAN</td>\n",
       "      <td>67.530</td>\n",
       "      <td>74.990</td>\n",
       "      <td>71.2600</td>\n",
       "      <td>10.0</td>\n",
       "    </tr>\n",
       "    <tr>\n",
       "      <th>32</th>\n",
       "      <td>OMAN</td>\n",
       "      <td>209923</td>\n",
       "      <td>USD</td>\n",
       "      <td>6mo</td>\n",
       "      <td>СТ991527</td>\n",
       "      <td>CMAN</td>\n",
       "      <td>25.820</td>\n",
       "      <td>47.220</td>\n",
       "      <td>36.5200</td>\n",
       "      <td>0.5</td>\n",
       "    </tr>\n",
       "    <tr>\n",
       "      <th>33</th>\n",
       "      <td>OMAN</td>\n",
       "      <td>209923</td>\n",
       "      <td>USD</td>\n",
       "      <td>1yr</td>\n",
       "      <td>CT991531</td>\n",
       "      <td>CMAN</td>\n",
       "      <td>32.060</td>\n",
       "      <td>61.820</td>\n",
       "      <td>46.9400</td>\n",
       "      <td>1.0</td>\n",
       "    </tr>\n",
       "    <tr>\n",
       "      <th>34</th>\n",
       "      <td>OMAN</td>\n",
       "      <td>209923</td>\n",
       "      <td>USD</td>\n",
       "      <td>2yr</td>\n",
       "      <td>CT991535</td>\n",
       "      <td>CMAN</td>\n",
       "      <td>50.290</td>\n",
       "      <td>67.090</td>\n",
       "      <td>58.6900</td>\n",
       "      <td>2.0</td>\n",
       "    </tr>\n",
       "    <tr>\n",
       "      <th>35</th>\n",
       "      <td>OMAN</td>\n",
       "      <td>209923</td>\n",
       "      <td>USD</td>\n",
       "      <td>3yr</td>\n",
       "      <td>CT991539</td>\n",
       "      <td>CMAN</td>\n",
       "      <td>66.930</td>\n",
       "      <td>82.470</td>\n",
       "      <td>74.7000</td>\n",
       "      <td>3.0</td>\n",
       "    </tr>\n",
       "    <tr>\n",
       "      <th>36</th>\n",
       "      <td>OMAN</td>\n",
       "      <td>209923</td>\n",
       "      <td>USD</td>\n",
       "      <td>4yr</td>\n",
       "      <td>CT991543</td>\n",
       "      <td>CMAN</td>\n",
       "      <td>93.300</td>\n",
       "      <td>101.520</td>\n",
       "      <td>97.4100</td>\n",
       "      <td>4.0</td>\n",
       "    </tr>\n",
       "    <tr>\n",
       "      <th>37</th>\n",
       "      <td>OMAN</td>\n",
       "      <td>209923</td>\n",
       "      <td>USD</td>\n",
       "      <td>5yr</td>\n",
       "      <td>CT991547</td>\n",
       "      <td>CBIN</td>\n",
       "      <td>112.681</td>\n",
       "      <td>122.810</td>\n",
       "      <td>117.7455</td>\n",
       "      <td>5.0</td>\n",
       "    </tr>\n",
       "    <tr>\n",
       "      <th>38</th>\n",
       "      <td>OMAN</td>\n",
       "      <td>209923</td>\n",
       "      <td>USD</td>\n",
       "      <td>7yr</td>\n",
       "      <td>CT991551</td>\n",
       "      <td>CMAN</td>\n",
       "      <td>143.970</td>\n",
       "      <td>157.940</td>\n",
       "      <td>150.9550</td>\n",
       "      <td>7.0</td>\n",
       "    </tr>\n",
       "    <tr>\n",
       "      <th>39</th>\n",
       "      <td>OMAN</td>\n",
       "      <td>209923</td>\n",
       "      <td>USD</td>\n",
       "      <td>10yr</td>\n",
       "      <td>CT991555</td>\n",
       "      <td>CMAN</td>\n",
       "      <td>167.820</td>\n",
       "      <td>187.940</td>\n",
       "      <td>177.8800</td>\n",
       "      <td>10.0</td>\n",
       "    </tr>\n",
       "  </tbody>\n",
       "</table>\n",
       "</div>"
      ],
      "text/plain": [
       "    COUNTRY    BBG ID CURRENCY  TERM    TICKER CONTRIBUTOR  BID(bps)  \\\n",
       "0     QATAR    307687      USD   6mo  CT990879        CMAN    10.210   \n",
       "1     QATAR    307687      USD   1yr   CQTA1U1        CMAN    11.690   \n",
       "2     QATAR    307687      USD   2yr   CQTA1U2        CMAN    18.620   \n",
       "3     QATAR    307687      USD   3yr   CQTA1U3        CMAN    26.580   \n",
       "4     QATAR    307687      USD   4yr   CQTA1U4        CMAN    34.050   \n",
       "5     QATAR    307687      USD   5yr   CQTA1U5        CBIN    43.278   \n",
       "6     QATAR    307687      USD   7yr   CQTA1U7        CMAN    59.880   \n",
       "7     QATAR    307687      USD  10yr  CQTR1U10        CMAN    73.550   \n",
       "8     SAUDI    307693      USD   6mo  CT990871        CMAN    12.970   \n",
       "9     SAUDI    307693      USD   1yr  CT965291        CMAN    18.690   \n",
       "10    SAUDI    307693      USD   2yr  CT965295        CMAN    26.110   \n",
       "11    SAUDI    307693      USD   3yr  CT965299        CMAN    34.170   \n",
       "12    SAUDI    307693      USD   4yr  CT965303        CMAN    40.980   \n",
       "13    SAUDI    307693      USD   5yr  CT965307        CBIN    50.146   \n",
       "14    SAUDI    307693      USD   7yr  CT965315        CMAN    62.270   \n",
       "15    SAUDI    307693      USD  10yr  CT965327        CMAN    77.600   \n",
       "16  BAHRAIN    171957      USD   6mo  CT990867        CMAN    43.950   \n",
       "17  BAHRAIN    171957      USD   1yr  CT965095        CMAN    67.700   \n",
       "18  BAHRAIN    171957      USD   2yr  СТ393409        CMAN   116.290   \n",
       "19  BAHRAIN    171957      USD   3yr  СТ965099        CMAN   146.230   \n",
       "20  BAHRAIN    171957      USD   4yr  CT965103        CMAN   173.910   \n",
       "21  BAHRAIN    171957      USD   5yr  CT393413        CBIN   198.282   \n",
       "22  BAHRAIN    171957      USD   7yr  CT965111        CMAN   229.460   \n",
       "23  BAHRAIN    171957      USD  10yr  CT393417        CMAN   248.600   \n",
       "24      UAE  12257737      USD   6mo  CX967360        CMAN    10.600   \n",
       "25      UAE  12257737      USD   1yr  CX855687        CMAN    11.490   \n",
       "26      UAE  12257737      USD   2yr  CX855691        CMAN    18.520   \n",
       "27      UAE  12257737      USD   3yr  CX855695        CMAN    24.590   \n",
       "28      UAE  12257737      USD   4yr  CX855703        CMAN    30.930   \n",
       "29      UAE  12257737      USD   5yr  CX855707        CBIN    39.653   \n",
       "30      UAE  12257737      USD   7yr  CX855751        CMAN    55.350   \n",
       "31      UAE  12257737      USD  10yr  CX855763        CMAN    67.530   \n",
       "32     OMAN    209923      USD   6mo  СТ991527        CMAN    25.820   \n",
       "33     OMAN    209923      USD   1yr  CT991531        CMAN    32.060   \n",
       "34     OMAN    209923      USD   2yr  CT991535        CMAN    50.290   \n",
       "35     OMAN    209923      USD   3yr  CT991539        CMAN    66.930   \n",
       "36     OMAN    209923      USD   4yr  CT991543        CMAN    93.300   \n",
       "37     OMAN    209923      USD   5yr  CT991547        CBIN   112.681   \n",
       "38     OMAN    209923      USD   7yr  CT991551        CMAN   143.970   \n",
       "39     OMAN    209923      USD  10yr  CT991555        CMAN   167.820   \n",
       "\n",
       "    ASK(bps)       mid  tenor  \n",
       "0     18.130   14.1700    0.5  \n",
       "1     18.540   15.1150    1.0  \n",
       "2     25.370   21.9950    2.0  \n",
       "3     32.990   29.7850    3.0  \n",
       "4     39.860   36.9550    4.0  \n",
       "5     46.851   45.0645    5.0  \n",
       "6     67.190   63.5350    7.0  \n",
       "7     83.370   78.4600   10.0  \n",
       "8     18.890   15.9300    0.5  \n",
       "9     24.130   21.4100    1.0  \n",
       "10    30.080   28.0950    2.0  \n",
       "11    38.260   36.2150    3.0  \n",
       "12    44.930   42.9550    4.0  \n",
       "13    53.480   51.8130    5.0  \n",
       "14    68.230   65.2500    7.0  \n",
       "15    83.500   80.5500   10.0  \n",
       "16    77.710   60.8300    0.5  \n",
       "17    98.460   83.0800    1.0  \n",
       "18   135.310  125.8000    2.0  \n",
       "19   161.690  153.9600    3.0  \n",
       "20   182.430  178.1700    4.0  \n",
       "21   211.821  205.0515    5.0  \n",
       "22   243.980  236.7200    7.0  \n",
       "23   268.180  258.3900   10.0  \n",
       "24    15.500   13.0500    0.5  \n",
       "25    15.900   13.6950    1.0  \n",
       "26    22.610   20.5650    2.0  \n",
       "27    28.810   26.7000    3.0  \n",
       "28    35.700   33.3150    4.0  \n",
       "29    43.890   41.7715    5.0  \n",
       "30    60.530   57.9400    7.0  \n",
       "31    74.990   71.2600   10.0  \n",
       "32    47.220   36.5200    0.5  \n",
       "33    61.820   46.9400    1.0  \n",
       "34    67.090   58.6900    2.0  \n",
       "35    82.470   74.7000    3.0  \n",
       "36   101.520   97.4100    4.0  \n",
       "37   122.810  117.7455    5.0  \n",
       "38   157.940  150.9550    7.0  \n",
       "39   187.940  177.8800   10.0  "
      ]
     },
     "execution_count": 15,
     "metadata": {},
     "output_type": "execute_result"
    }
   ],
   "source": [
    "CDS_market"
   ]
  },
  {
   "cell_type": "markdown",
   "id": "b33d00cb",
   "metadata": {},
   "source": [
    "### 4. Hazard rates bootstrapping"
   ]
  },
  {
   "cell_type": "markdown",
   "id": "802b3d4a",
   "metadata": {},
   "source": [
    "### 4.1 Helper functions"
   ]
  },
  {
   "cell_type": "markdown",
   "id": "7b88238c",
   "metadata": {},
   "source": [
    "#### Helper functions to calculate discounting factors, default probabilities, survival and to bootstrap hazard rates"
   ]
  },
  {
   "cell_type": "markdown",
   "id": "4fa052b7",
   "metadata": {},
   "source": [
    "Discount Factors\n",
    "For discounting factors, we'll do a log-linear interpolation for $\\tau_i<\\tau<\\tau_{i+1}$,\n",
    "$$\n",
    "\\ln D F(0, \\tau)=\\frac{\\tau-\\tau_i}{\\tau_{i+1}-\\tau_i} \\ln D F\\left(0, \\tau_{i+1}\\right)+\\frac{\\tau_{i+1}-\\tau}{\\tau_{i+1}-\\tau_i} \\ln D F\\left(0, \\tau_i\\right)\n",
    "$$"
   ]
  },
  {
   "cell_type": "code",
   "execution_count": 16,
   "id": "aa9b1d0a",
   "metadata": {},
   "outputs": [],
   "source": [
    "# Code for log-linear interpolation (taken from CQF Python lab 17)\n",
    "\n",
    "def get_discount_factor(tenor,maturity=curve.maturity, discountfactor = curve.Disc_factor):\n",
    "    \n",
    "    max_time_index = len(maturity) - 1\n",
    "    \n",
    "    if tenor == 0: Df = 1.\n",
    "    if tenor > 0 and tenor < maturity[0]: Df = discountfactor[0]\n",
    "    if tenor >= maturity[max_time_index]: Df = discountfactor[max_time_index]\n",
    "        \n",
    "    for i in range(0, max_time_index):\n",
    "         if tenor >= maturity[i] and tenor < maturity[i+1]:\n",
    "            term1 = ((tenor-maturity[i])/(maturity[i+1] - maturity[i]))*np.log(discountfactor[i+1])\n",
    "            term2 = ((maturity[i+1]-tenor)/(maturity[i+1] - maturity[i]))*np.log(discountfactor[i])\n",
    "            lnDf = term1 + term2\n",
    "            Df = np.exp(lnDf)\n",
    "            \n",
    "    return Df"
   ]
  },
  {
   "cell_type": "code",
   "execution_count": 17,
   "id": "bb04c7a4",
   "metadata": {},
   "outputs": [
    {
     "data": {
      "image/png": "[encoded data removed]",
      "text/plain": [
       "<Figure size 1400x800 with 1 Axes>"
      ]
     },
     "metadata": {},
     "output_type": "display_data"
    }
   ],
   "source": [
    "# example of interpolation\n",
    "plt.plot(np.linspace(0,10,50),[get_discount_factor(x) for x in np.linspace(0,10,50)])\n",
    "plt.title('Discounting curve SOFR USD')\n",
    "plt.xlabel('years')\n",
    "plt.show()"
   ]
  },
  {
   "cell_type": "code",
   "execution_count": 18,
   "id": "8e5be419",
   "metadata": {},
   "outputs": [],
   "source": [
    "# Code for survival and default probabilities calcultation\n",
    "# Hazard rates bootstrapping\n",
    "# Visualizing metrics\n",
    "# taken from CQF Python lab 17\n",
    "\n",
    "def get_survival_probability(maturity, discountfactor, spread, recovery, plot_prob=False, plot_hazard=False):\n",
    "    \n",
    "    # subsume list of inputs into a dataframe\n",
    "    df = pd.DataFrame({'Maturity': maturity, 'Df': discountfactor, 'Spread': spread})\n",
    "    \n",
    "    # convert bps to decimal\n",
    "    df['Spread'] = df['Spread']/10000\n",
    "\n",
    "    # specify delta_t\n",
    "    df['Dt'] = df['Maturity'].diff().fillna(0)\n",
    "\n",
    "    # loss rate\n",
    "    L = 1.0 - recovery\n",
    "    \n",
    "    # initialize the variables\n",
    "    term = term1 = term2 = divider = 0\n",
    "    \n",
    "    for i in range(0, len(df.index)):\n",
    "        if i == 0: df.loc[i,'Survival'] = 1; df.loc[i, 'Hazard'] = 0\n",
    "        if i == 1: df.loc[i,'Survival'] = L / (L+df.loc[i,'Dt']*df.loc[i,'Spread']); \\\n",
    "            df.loc[i, 'Hazard'] = -np.log(df.loc[i,'Survival']/df.loc[i-1,'Survival'])/df.loc[i,'Dt']\n",
    "        if i > 1:\n",
    "            terms = 0\n",
    "            for j in range(1, i):\n",
    "                term = df.loc[j,'Df']*(L*df.loc[j-1,'Survival'] - \\\n",
    "                                              (L + df.loc[j,'Dt']*df.loc[i,'Spread'])* \\\n",
    "                                              df.loc[j,'Survival'])\n",
    "                terms = terms + term  \n",
    "           \n",
    "            divider = df.loc[i,'Df']*(L+df.loc[i,'Dt']*df.loc[i,'Spread'])\n",
    "            term1 = terms/divider\n",
    "\n",
    "            term2 = (L*df.loc[i-1,'Survival']) / (L + (df.loc[i,'Dt'] * df.loc[i,'Spread']))\n",
    "\n",
    "            df.loc[i,'Survival'] = term1 + term2\n",
    "            \n",
    "            if (df.loc[i,'Survival'] >= 0 and df.loc[i-1,'Survival'] >= 0):\n",
    "                df.loc[i, 'Hazard'] = -np.log(df.loc[i,'Survival']/df.loc[i-1,'Survival'])/df.loc[i,'Dt']\n",
    "    \n",
    "    # derive probability of default\n",
    "    df['Default'] = 1. - df['Survival']\n",
    "    \n",
    "    # derive marginal probability of default\n",
    "    df['Marginal'] = df['Survival'].diff().fillna(0)\n",
    "    \n",
    "    if plot_prob:\n",
    "        # plot survival probability\n",
    "        df[['Survival', 'Default']].iplot(title='Survival vs Default Probability', \n",
    "                                          xTitle='CDS Maturity', \n",
    "                                          yTitle='Survival Probability', \n",
    "                                          secondary_y = 'Default', \n",
    "                                          secondary_y_title='Default Probability')\n",
    "        \n",
    "    if plot_hazard:\n",
    "        # plot survival probability\n",
    "        df['Hazard'].iplot(kind='bar', title='Term Structure of Hazard Rates', \n",
    "                                          xTitle='CDS Maturity', \n",
    "                                          yTitle='Hazard Rates')\n",
    "\n",
    "    return df"
   ]
  },
  {
   "cell_type": "markdown",
   "id": "bdff31e5",
   "metadata": {},
   "source": [
    "### 4.2. Hazard rates bootstrapping"
   ]
  },
  {
   "cell_type": "code",
   "execution_count": 19,
   "id": "4cf7720e",
   "metadata": {},
   "outputs": [],
   "source": [
    "# calculate disc factors for each tenor\n",
    "CDS_market['disc_factors'] = CDS_market['tenor'].apply(lambda x: get_discount_factor(x))"
   ]
  },
  {
   "cell_type": "code",
   "execution_count": 20,
   "id": "05b7784b",
   "metadata": {},
   "outputs": [],
   "source": [
    "# new rows to be added for successful bootstrapping \n",
    "new_rows = pd.DataFrame([{'COUNTRY': 'UAE', 'mid': 0, 'tenor': 0, 'disc_factors': 1}, \n",
    "                         {'COUNTRY': 'QATAR', 'mid': 0, 'tenor': 0, 'disc_factors': 1},\n",
    "                         {'COUNTRY': 'SAUDI', 'mid': 0 , 'tenor': 0, 'disc_factors': 1},\n",
    "                         {'COUNTRY': 'OMAN', 'mid': 0 , 'tenor': 0, 'disc_factors': 1},\n",
    "                         {'COUNTRY': 'BAHRAIN', 'mid': 0 , 'tenor': 0, 'disc_factors': 1}])\n",
    "\n",
    "CDS_market = pd.concat([CDS_market, new_rows], ignore_index=True)\n",
    "CDS_market = CDS_market.fillna('Dummy')"
   ]
  },
  {
   "cell_type": "code",
   "execution_count": 21,
   "id": "ce2bf182",
   "metadata": {},
   "outputs": [
    {
     "data": {
      "text/html": [
       "<div>\n",
       "<style scoped>\n",
       "    .dataframe tbody tr th:only-of-type {\n",
       "        vertical-align: middle;\n",
       "    }\n",
       "\n",
       "    .dataframe tbody tr th {\n",
       "        vertical-align: top;\n",
       "    }\n",
       "\n",
       "    .dataframe thead th {\n",
       "        text-align: right;\n",
       "    }\n",
       "</style>\n",
       "<table border=\"1\" class=\"dataframe\">\n",
       "  <thead>\n",
       "    <tr style=\"text-align: right;\">\n",
       "      <th></th>\n",
       "      <th>COUNTRY</th>\n",
       "      <th>BBG ID</th>\n",
       "      <th>CURRENCY</th>\n",
       "      <th>TERM</th>\n",
       "      <th>TICKER</th>\n",
       "      <th>CONTRIBUTOR</th>\n",
       "      <th>BID(bps)</th>\n",
       "      <th>ASK(bps)</th>\n",
       "      <th>mid</th>\n",
       "      <th>tenor</th>\n",
       "      <th>disc_factors</th>\n",
       "    </tr>\n",
       "  </thead>\n",
       "  <tbody>\n",
       "    <tr>\n",
       "      <th>40</th>\n",
       "      <td>UAE</td>\n",
       "      <td>Dummy</td>\n",
       "      <td>Dummy</td>\n",
       "      <td>Dummy</td>\n",
       "      <td>Dummy</td>\n",
       "      <td>Dummy</td>\n",
       "      <td>Dummy</td>\n",
       "      <td>Dummy</td>\n",
       "      <td>0.0000</td>\n",
       "      <td>0.0</td>\n",
       "      <td>1.000000</td>\n",
       "    </tr>\n",
       "    <tr>\n",
       "      <th>24</th>\n",
       "      <td>UAE</td>\n",
       "      <td>12257737.0</td>\n",
       "      <td>USD</td>\n",
       "      <td>6mo</td>\n",
       "      <td>CX967360</td>\n",
       "      <td>CMAN</td>\n",
       "      <td>10.6</td>\n",
       "      <td>15.5</td>\n",
       "      <td>13.0500</td>\n",
       "      <td>0.5</td>\n",
       "      <td>0.973919</td>\n",
       "    </tr>\n",
       "    <tr>\n",
       "      <th>25</th>\n",
       "      <td>UAE</td>\n",
       "      <td>12257737.0</td>\n",
       "      <td>USD</td>\n",
       "      <td>1yr</td>\n",
       "      <td>CX855687</td>\n",
       "      <td>CMAN</td>\n",
       "      <td>11.49</td>\n",
       "      <td>15.9</td>\n",
       "      <td>13.6950</td>\n",
       "      <td>1.0</td>\n",
       "      <td>0.950349</td>\n",
       "    </tr>\n",
       "    <tr>\n",
       "      <th>26</th>\n",
       "      <td>UAE</td>\n",
       "      <td>12257737.0</td>\n",
       "      <td>USD</td>\n",
       "      <td>2yr</td>\n",
       "      <td>CX855691</td>\n",
       "      <td>CMAN</td>\n",
       "      <td>18.52</td>\n",
       "      <td>22.61</td>\n",
       "      <td>20.5650</td>\n",
       "      <td>2.0</td>\n",
       "      <td>0.910901</td>\n",
       "    </tr>\n",
       "    <tr>\n",
       "      <th>27</th>\n",
       "      <td>UAE</td>\n",
       "      <td>12257737.0</td>\n",
       "      <td>USD</td>\n",
       "      <td>3yr</td>\n",
       "      <td>CX855695</td>\n",
       "      <td>CMAN</td>\n",
       "      <td>24.59</td>\n",
       "      <td>28.81</td>\n",
       "      <td>26.7000</td>\n",
       "      <td>3.0</td>\n",
       "      <td>0.876980</td>\n",
       "    </tr>\n",
       "    <tr>\n",
       "      <th>28</th>\n",
       "      <td>UAE</td>\n",
       "      <td>12257737.0</td>\n",
       "      <td>USD</td>\n",
       "      <td>4yr</td>\n",
       "      <td>CX855703</td>\n",
       "      <td>CMAN</td>\n",
       "      <td>30.93</td>\n",
       "      <td>35.7</td>\n",
       "      <td>33.3150</td>\n",
       "      <td>4.0</td>\n",
       "      <td>0.845590</td>\n",
       "    </tr>\n",
       "    <tr>\n",
       "      <th>29</th>\n",
       "      <td>UAE</td>\n",
       "      <td>12257737.0</td>\n",
       "      <td>USD</td>\n",
       "      <td>5yr</td>\n",
       "      <td>CX855707</td>\n",
       "      <td>CBIN</td>\n",
       "      <td>39.653</td>\n",
       "      <td>43.89</td>\n",
       "      <td>41.7715</td>\n",
       "      <td>5.0</td>\n",
       "      <td>0.815927</td>\n",
       "    </tr>\n",
       "    <tr>\n",
       "      <th>30</th>\n",
       "      <td>UAE</td>\n",
       "      <td>12257737.0</td>\n",
       "      <td>USD</td>\n",
       "      <td>7yr</td>\n",
       "      <td>CX855751</td>\n",
       "      <td>CMAN</td>\n",
       "      <td>55.35</td>\n",
       "      <td>60.53</td>\n",
       "      <td>57.9400</td>\n",
       "      <td>7.0</td>\n",
       "      <td>0.760392</td>\n",
       "    </tr>\n",
       "    <tr>\n",
       "      <th>31</th>\n",
       "      <td>UAE</td>\n",
       "      <td>12257737.0</td>\n",
       "      <td>USD</td>\n",
       "      <td>10yr</td>\n",
       "      <td>CX855763</td>\n",
       "      <td>CMAN</td>\n",
       "      <td>67.53</td>\n",
       "      <td>74.99</td>\n",
       "      <td>71.2600</td>\n",
       "      <td>10.0</td>\n",
       "      <td>0.684422</td>\n",
       "    </tr>\n",
       "    <tr>\n",
       "      <th>42</th>\n",
       "      <td>SAUDI</td>\n",
       "      <td>Dummy</td>\n",
       "      <td>Dummy</td>\n",
       "      <td>Dummy</td>\n",
       "      <td>Dummy</td>\n",
       "      <td>Dummy</td>\n",
       "      <td>Dummy</td>\n",
       "      <td>Dummy</td>\n",
       "      <td>0.0000</td>\n",
       "      <td>0.0</td>\n",
       "      <td>1.000000</td>\n",
       "    </tr>\n",
       "    <tr>\n",
       "      <th>8</th>\n",
       "      <td>SAUDI</td>\n",
       "      <td>307693.0</td>\n",
       "      <td>USD</td>\n",
       "      <td>6mo</td>\n",
       "      <td>CT990871</td>\n",
       "      <td>CMAN</td>\n",
       "      <td>12.97</td>\n",
       "      <td>18.89</td>\n",
       "      <td>15.9300</td>\n",
       "      <td>0.5</td>\n",
       "      <td>0.973919</td>\n",
       "    </tr>\n",
       "    <tr>\n",
       "      <th>9</th>\n",
       "      <td>SAUDI</td>\n",
       "      <td>307693.0</td>\n",
       "      <td>USD</td>\n",
       "      <td>1yr</td>\n",
       "      <td>CT965291</td>\n",
       "      <td>CMAN</td>\n",
       "      <td>18.69</td>\n",
       "      <td>24.13</td>\n",
       "      <td>21.4100</td>\n",
       "      <td>1.0</td>\n",
       "      <td>0.950349</td>\n",
       "    </tr>\n",
       "    <tr>\n",
       "      <th>10</th>\n",
       "      <td>SAUDI</td>\n",
       "      <td>307693.0</td>\n",
       "      <td>USD</td>\n",
       "      <td>2yr</td>\n",
       "      <td>CT965295</td>\n",
       "      <td>CMAN</td>\n",
       "      <td>26.11</td>\n",
       "      <td>30.08</td>\n",
       "      <td>28.0950</td>\n",
       "      <td>2.0</td>\n",
       "      <td>0.910901</td>\n",
       "    </tr>\n",
       "    <tr>\n",
       "      <th>11</th>\n",
       "      <td>SAUDI</td>\n",
       "      <td>307693.0</td>\n",
       "      <td>USD</td>\n",
       "      <td>3yr</td>\n",
       "      <td>CT965299</td>\n",
       "      <td>CMAN</td>\n",
       "      <td>34.17</td>\n",
       "      <td>38.26</td>\n",
       "      <td>36.2150</td>\n",
       "      <td>3.0</td>\n",
       "      <td>0.876980</td>\n",
       "    </tr>\n",
       "    <tr>\n",
       "      <th>12</th>\n",
       "      <td>SAUDI</td>\n",
       "      <td>307693.0</td>\n",
       "      <td>USD</td>\n",
       "      <td>4yr</td>\n",
       "      <td>CT965303</td>\n",
       "      <td>CMAN</td>\n",
       "      <td>40.98</td>\n",
       "      <td>44.93</td>\n",
       "      <td>42.9550</td>\n",
       "      <td>4.0</td>\n",
       "      <td>0.845590</td>\n",
       "    </tr>\n",
       "    <tr>\n",
       "      <th>13</th>\n",
       "      <td>SAUDI</td>\n",
       "      <td>307693.0</td>\n",
       "      <td>USD</td>\n",
       "      <td>5yr</td>\n",
       "      <td>CT965307</td>\n",
       "      <td>CBIN</td>\n",
       "      <td>50.146</td>\n",
       "      <td>53.48</td>\n",
       "      <td>51.8130</td>\n",
       "      <td>5.0</td>\n",
       "      <td>0.815927</td>\n",
       "    </tr>\n",
       "    <tr>\n",
       "      <th>14</th>\n",
       "      <td>SAUDI</td>\n",
       "      <td>307693.0</td>\n",
       "      <td>USD</td>\n",
       "      <td>7yr</td>\n",
       "      <td>CT965315</td>\n",
       "      <td>CMAN</td>\n",
       "      <td>62.27</td>\n",
       "      <td>68.23</td>\n",
       "      <td>65.2500</td>\n",
       "      <td>7.0</td>\n",
       "      <td>0.760392</td>\n",
       "    </tr>\n",
       "    <tr>\n",
       "      <th>15</th>\n",
       "      <td>SAUDI</td>\n",
       "      <td>307693.0</td>\n",
       "      <td>USD</td>\n",
       "      <td>10yr</td>\n",
       "      <td>CT965327</td>\n",
       "      <td>CMAN</td>\n",
       "      <td>77.6</td>\n",
       "      <td>83.5</td>\n",
       "      <td>80.5500</td>\n",
       "      <td>10.0</td>\n",
       "      <td>0.684422</td>\n",
       "    </tr>\n",
       "    <tr>\n",
       "      <th>41</th>\n",
       "      <td>QATAR</td>\n",
       "      <td>Dummy</td>\n",
       "      <td>Dummy</td>\n",
       "      <td>Dummy</td>\n",
       "      <td>Dummy</td>\n",
       "      <td>Dummy</td>\n",
       "      <td>Dummy</td>\n",
       "      <td>Dummy</td>\n",
       "      <td>0.0000</td>\n",
       "      <td>0.0</td>\n",
       "      <td>1.000000</td>\n",
       "    </tr>\n",
       "    <tr>\n",
       "      <th>0</th>\n",
       "      <td>QATAR</td>\n",
       "      <td>307687.0</td>\n",
       "      <td>USD</td>\n",
       "      <td>6mo</td>\n",
       "      <td>CT990879</td>\n",
       "      <td>CMAN</td>\n",
       "      <td>10.21</td>\n",
       "      <td>18.13</td>\n",
       "      <td>14.1700</td>\n",
       "      <td>0.5</td>\n",
       "      <td>0.973919</td>\n",
       "    </tr>\n",
       "    <tr>\n",
       "      <th>1</th>\n",
       "      <td>QATAR</td>\n",
       "      <td>307687.0</td>\n",
       "      <td>USD</td>\n",
       "      <td>1yr</td>\n",
       "      <td>CQTA1U1</td>\n",
       "      <td>CMAN</td>\n",
       "      <td>11.69</td>\n",
       "      <td>18.54</td>\n",
       "      <td>15.1150</td>\n",
       "      <td>1.0</td>\n",
       "      <td>0.950349</td>\n",
       "    </tr>\n",
       "    <tr>\n",
       "      <th>2</th>\n",
       "      <td>QATAR</td>\n",
       "      <td>307687.0</td>\n",
       "      <td>USD</td>\n",
       "      <td>2yr</td>\n",
       "      <td>CQTA1U2</td>\n",
       "      <td>CMAN</td>\n",
       "      <td>18.62</td>\n",
       "      <td>25.37</td>\n",
       "      <td>21.9950</td>\n",
       "      <td>2.0</td>\n",
       "      <td>0.910901</td>\n",
       "    </tr>\n",
       "    <tr>\n",
       "      <th>3</th>\n",
       "      <td>QATAR</td>\n",
       "      <td>307687.0</td>\n",
       "      <td>USD</td>\n",
       "      <td>3yr</td>\n",
       "      <td>CQTA1U3</td>\n",
       "      <td>CMAN</td>\n",
       "      <td>26.58</td>\n",
       "      <td>32.99</td>\n",
       "      <td>29.7850</td>\n",
       "      <td>3.0</td>\n",
       "      <td>0.876980</td>\n",
       "    </tr>\n",
       "    <tr>\n",
       "      <th>4</th>\n",
       "      <td>QATAR</td>\n",
       "      <td>307687.0</td>\n",
       "      <td>USD</td>\n",
       "      <td>4yr</td>\n",
       "      <td>CQTA1U4</td>\n",
       "      <td>CMAN</td>\n",
       "      <td>34.05</td>\n",
       "      <td>39.86</td>\n",
       "      <td>36.9550</td>\n",
       "      <td>4.0</td>\n",
       "      <td>0.845590</td>\n",
       "    </tr>\n",
       "    <tr>\n",
       "      <th>5</th>\n",
       "      <td>QATAR</td>\n",
       "      <td>307687.0</td>\n",
       "      <td>USD</td>\n",
       "      <td>5yr</td>\n",
       "      <td>CQTA1U5</td>\n",
       "      <td>CBIN</td>\n",
       "      <td>43.278</td>\n",
       "      <td>46.851</td>\n",
       "      <td>45.0645</td>\n",
       "      <td>5.0</td>\n",
       "      <td>0.815927</td>\n",
       "    </tr>\n",
       "    <tr>\n",
       "      <th>6</th>\n",
       "      <td>QATAR</td>\n",
       "      <td>307687.0</td>\n",
       "      <td>USD</td>\n",
       "      <td>7yr</td>\n",
       "      <td>CQTA1U7</td>\n",
       "      <td>CMAN</td>\n",
       "      <td>59.88</td>\n",
       "      <td>67.19</td>\n",
       "      <td>63.5350</td>\n",
       "      <td>7.0</td>\n",
       "      <td>0.760392</td>\n",
       "    </tr>\n",
       "    <tr>\n",
       "      <th>7</th>\n",
       "      <td>QATAR</td>\n",
       "      <td>307687.0</td>\n",
       "      <td>USD</td>\n",
       "      <td>10yr</td>\n",
       "      <td>CQTR1U10</td>\n",
       "      <td>CMAN</td>\n",
       "      <td>73.55</td>\n",
       "      <td>83.37</td>\n",
       "      <td>78.4600</td>\n",
       "      <td>10.0</td>\n",
       "      <td>0.684422</td>\n",
       "    </tr>\n",
       "    <tr>\n",
       "      <th>43</th>\n",
       "      <td>OMAN</td>\n",
       "      <td>Dummy</td>\n",
       "      <td>Dummy</td>\n",
       "      <td>Dummy</td>\n",
       "      <td>Dummy</td>\n",
       "      <td>Dummy</td>\n",
       "      <td>Dummy</td>\n",
       "      <td>Dummy</td>\n",
       "      <td>0.0000</td>\n",
       "      <td>0.0</td>\n",
       "      <td>1.000000</td>\n",
       "    </tr>\n",
       "    <tr>\n",
       "      <th>32</th>\n",
       "      <td>OMAN</td>\n",
       "      <td>209923.0</td>\n",
       "      <td>USD</td>\n",
       "      <td>6mo</td>\n",
       "      <td>СТ991527</td>\n",
       "      <td>CMAN</td>\n",
       "      <td>25.82</td>\n",
       "      <td>47.22</td>\n",
       "      <td>36.5200</td>\n",
       "      <td>0.5</td>\n",
       "      <td>0.973919</td>\n",
       "    </tr>\n",
       "    <tr>\n",
       "      <th>33</th>\n",
       "      <td>OMAN</td>\n",
       "      <td>209923.0</td>\n",
       "      <td>USD</td>\n",
       "      <td>1yr</td>\n",
       "      <td>CT991531</td>\n",
       "      <td>CMAN</td>\n",
       "      <td>32.06</td>\n",
       "      <td>61.82</td>\n",
       "      <td>46.9400</td>\n",
       "      <td>1.0</td>\n",
       "      <td>0.950349</td>\n",
       "    </tr>\n",
       "    <tr>\n",
       "      <th>34</th>\n",
       "      <td>OMAN</td>\n",
       "      <td>209923.0</td>\n",
       "      <td>USD</td>\n",
       "      <td>2yr</td>\n",
       "      <td>CT991535</td>\n",
       "      <td>CMAN</td>\n",
       "      <td>50.29</td>\n",
       "      <td>67.09</td>\n",
       "      <td>58.6900</td>\n",
       "      <td>2.0</td>\n",
       "      <td>0.910901</td>\n",
       "    </tr>\n",
       "    <tr>\n",
       "      <th>35</th>\n",
       "      <td>OMAN</td>\n",
       "      <td>209923.0</td>\n",
       "      <td>USD</td>\n",
       "      <td>3yr</td>\n",
       "      <td>CT991539</td>\n",
       "      <td>CMAN</td>\n",
       "      <td>66.93</td>\n",
       "      <td>82.47</td>\n",
       "      <td>74.7000</td>\n",
       "      <td>3.0</td>\n",
       "      <td>0.876980</td>\n",
       "    </tr>\n",
       "    <tr>\n",
       "      <th>36</th>\n",
       "      <td>OMAN</td>\n",
       "      <td>209923.0</td>\n",
       "      <td>USD</td>\n",
       "      <td>4yr</td>\n",
       "      <td>CT991543</td>\n",
       "      <td>CMAN</td>\n",
       "      <td>93.3</td>\n",
       "      <td>101.52</td>\n",
       "      <td>97.4100</td>\n",
       "      <td>4.0</td>\n",
       "      <td>0.845590</td>\n",
       "    </tr>\n",
       "    <tr>\n",
       "      <th>37</th>\n",
       "      <td>OMAN</td>\n",
       "      <td>209923.0</td>\n",
       "      <td>USD</td>\n",
       "      <td>5yr</td>\n",
       "      <td>CT991547</td>\n",
       "      <td>CBIN</td>\n",
       "      <td>112.681</td>\n",
       "      <td>122.81</td>\n",
       "      <td>117.7455</td>\n",
       "      <td>5.0</td>\n",
       "      <td>0.815927</td>\n",
       "    </tr>\n",
       "    <tr>\n",
       "      <th>38</th>\n",
       "      <td>OMAN</td>\n",
       "      <td>209923.0</td>\n",
       "      <td>USD</td>\n",
       "      <td>7yr</td>\n",
       "      <td>CT991551</td>\n",
       "      <td>CMAN</td>\n",
       "      <td>143.97</td>\n",
       "      <td>157.94</td>\n",
       "      <td>150.9550</td>\n",
       "      <td>7.0</td>\n",
       "      <td>0.760392</td>\n",
       "    </tr>\n",
       "    <tr>\n",
       "      <th>39</th>\n",
       "      <td>OMAN</td>\n",
       "      <td>209923.0</td>\n",
       "      <td>USD</td>\n",
       "      <td>10yr</td>\n",
       "      <td>CT991555</td>\n",
       "      <td>CMAN</td>\n",
       "      <td>167.82</td>\n",
       "      <td>187.94</td>\n",
       "      <td>177.8800</td>\n",
       "      <td>10.0</td>\n",
       "      <td>0.684422</td>\n",
       "    </tr>\n",
       "    <tr>\n",
       "      <th>44</th>\n",
       "      <td>BAHRAIN</td>\n",
       "      <td>Dummy</td>\n",
       "      <td>Dummy</td>\n",
       "      <td>Dummy</td>\n",
       "      <td>Dummy</td>\n",
       "      <td>Dummy</td>\n",
       "      <td>Dummy</td>\n",
       "      <td>Dummy</td>\n",
       "      <td>0.0000</td>\n",
       "      <td>0.0</td>\n",
       "      <td>1.000000</td>\n",
       "    </tr>\n",
       "    <tr>\n",
       "      <th>16</th>\n",
       "      <td>BAHRAIN</td>\n",
       "      <td>171957.0</td>\n",
       "      <td>USD</td>\n",
       "      <td>6mo</td>\n",
       "      <td>CT990867</td>\n",
       "      <td>CMAN</td>\n",
       "      <td>43.95</td>\n",
       "      <td>77.71</td>\n",
       "      <td>60.8300</td>\n",
       "      <td>0.5</td>\n",
       "      <td>0.973919</td>\n",
       "    </tr>\n",
       "    <tr>\n",
       "      <th>17</th>\n",
       "      <td>BAHRAIN</td>\n",
       "      <td>171957.0</td>\n",
       "      <td>USD</td>\n",
       "      <td>1yr</td>\n",
       "      <td>CT965095</td>\n",
       "      <td>CMAN</td>\n",
       "      <td>67.7</td>\n",
       "      <td>98.46</td>\n",
       "      <td>83.0800</td>\n",
       "      <td>1.0</td>\n",
       "      <td>0.950349</td>\n",
       "    </tr>\n",
       "    <tr>\n",
       "      <th>18</th>\n",
       "      <td>BAHRAIN</td>\n",
       "      <td>171957.0</td>\n",
       "      <td>USD</td>\n",
       "      <td>2yr</td>\n",
       "      <td>СТ393409</td>\n",
       "      <td>CMAN</td>\n",
       "      <td>116.29</td>\n",
       "      <td>135.31</td>\n",
       "      <td>125.8000</td>\n",
       "      <td>2.0</td>\n",
       "      <td>0.910901</td>\n",
       "    </tr>\n",
       "    <tr>\n",
       "      <th>19</th>\n",
       "      <td>BAHRAIN</td>\n",
       "      <td>171957.0</td>\n",
       "      <td>USD</td>\n",
       "      <td>3yr</td>\n",
       "      <td>СТ965099</td>\n",
       "      <td>CMAN</td>\n",
       "      <td>146.23</td>\n",
       "      <td>161.69</td>\n",
       "      <td>153.9600</td>\n",
       "      <td>3.0</td>\n",
       "      <td>0.876980</td>\n",
       "    </tr>\n",
       "    <tr>\n",
       "      <th>20</th>\n",
       "      <td>BAHRAIN</td>\n",
       "      <td>171957.0</td>\n",
       "      <td>USD</td>\n",
       "      <td>4yr</td>\n",
       "      <td>CT965103</td>\n",
       "      <td>CMAN</td>\n",
       "      <td>173.91</td>\n",
       "      <td>182.43</td>\n",
       "      <td>178.1700</td>\n",
       "      <td>4.0</td>\n",
       "      <td>0.845590</td>\n",
       "    </tr>\n",
       "    <tr>\n",
       "      <th>21</th>\n",
       "      <td>BAHRAIN</td>\n",
       "      <td>171957.0</td>\n",
       "      <td>USD</td>\n",
       "      <td>5yr</td>\n",
       "      <td>CT393413</td>\n",
       "      <td>CBIN</td>\n",
       "      <td>198.282</td>\n",
       "      <td>211.821</td>\n",
       "      <td>205.0515</td>\n",
       "      <td>5.0</td>\n",
       "      <td>0.815927</td>\n",
       "    </tr>\n",
       "    <tr>\n",
       "      <th>22</th>\n",
       "      <td>BAHRAIN</td>\n",
       "      <td>171957.0</td>\n",
       "      <td>USD</td>\n",
       "      <td>7yr</td>\n",
       "      <td>CT965111</td>\n",
       "      <td>CMAN</td>\n",
       "      <td>229.46</td>\n",
       "      <td>243.98</td>\n",
       "      <td>236.7200</td>\n",
       "      <td>7.0</td>\n",
       "      <td>0.760392</td>\n",
       "    </tr>\n",
       "    <tr>\n",
       "      <th>23</th>\n",
       "      <td>BAHRAIN</td>\n",
       "      <td>171957.0</td>\n",
       "      <td>USD</td>\n",
       "      <td>10yr</td>\n",
       "      <td>CT393417</td>\n",
       "      <td>CMAN</td>\n",
       "      <td>248.6</td>\n",
       "      <td>268.18</td>\n",
       "      <td>258.3900</td>\n",
       "      <td>10.0</td>\n",
       "      <td>0.684422</td>\n",
       "    </tr>\n",
       "  </tbody>\n",
       "</table>\n",
       "</div>"
      ],
      "text/plain": [
       "    COUNTRY      BBG ID CURRENCY   TERM    TICKER CONTRIBUTOR BID(bps)  \\\n",
       "40      UAE       Dummy    Dummy  Dummy     Dummy       Dummy    Dummy   \n",
       "24      UAE  12257737.0      USD    6mo  CX967360        CMAN     10.6   \n",
       "25      UAE  12257737.0      USD    1yr  CX855687        CMAN    11.49   \n",
       "26      UAE  12257737.0      USD    2yr  CX855691        CMAN    18.52   \n",
       "27      UAE  12257737.0      USD    3yr  CX855695        CMAN    24.59   \n",
       "28      UAE  12257737.0      USD    4yr  CX855703        CMAN    30.93   \n",
       "29      UAE  12257737.0      USD    5yr  CX855707        CBIN   39.653   \n",
       "30      UAE  12257737.0      USD    7yr  CX855751        CMAN    55.35   \n",
       "31      UAE  12257737.0      USD   10yr  CX855763        CMAN    67.53   \n",
       "42    SAUDI       Dummy    Dummy  Dummy     Dummy       Dummy    Dummy   \n",
       "8     SAUDI    307693.0      USD    6mo  CT990871        CMAN    12.97   \n",
       "9     SAUDI    307693.0      USD    1yr  CT965291        CMAN    18.69   \n",
       "10    SAUDI    307693.0      USD    2yr  CT965295        CMAN    26.11   \n",
       "11    SAUDI    307693.0      USD    3yr  CT965299        CMAN    34.17   \n",
       "12    SAUDI    307693.0      USD    4yr  CT965303        CMAN    40.98   \n",
       "13    SAUDI    307693.0      USD    5yr  CT965307        CBIN   50.146   \n",
       "14    SAUDI    307693.0      USD    7yr  CT965315        CMAN    62.27   \n",
       "15    SAUDI    307693.0      USD   10yr  CT965327        CMAN     77.6   \n",
       "41    QATAR       Dummy    Dummy  Dummy     Dummy       Dummy    Dummy   \n",
       "0     QATAR    307687.0      USD    6mo  CT990879        CMAN    10.21   \n",
       "1     QATAR    307687.0      USD    1yr   CQTA1U1        CMAN    11.69   \n",
       "2     QATAR    307687.0      USD    2yr   CQTA1U2        CMAN    18.62   \n",
       "3     QATAR    307687.0      USD    3yr   CQTA1U3        CMAN    26.58   \n",
       "4     QATAR    307687.0      USD    4yr   CQTA1U4        CMAN    34.05   \n",
       "5     QATAR    307687.0      USD    5yr   CQTA1U5        CBIN   43.278   \n",
       "6     QATAR    307687.0      USD    7yr   CQTA1U7        CMAN    59.88   \n",
       "7     QATAR    307687.0      USD   10yr  CQTR1U10        CMAN    73.55   \n",
       "43     OMAN       Dummy    Dummy  Dummy     Dummy       Dummy    Dummy   \n",
       "32     OMAN    209923.0      USD    6mo  СТ991527        CMAN    25.82   \n",
       "33     OMAN    209923.0      USD    1yr  CT991531        CMAN    32.06   \n",
       "34     OMAN    209923.0      USD    2yr  CT991535        CMAN    50.29   \n",
       "35     OMAN    209923.0      USD    3yr  CT991539        CMAN    66.93   \n",
       "36     OMAN    209923.0      USD    4yr  CT991543        CMAN     93.3   \n",
       "37     OMAN    209923.0      USD    5yr  CT991547        CBIN  112.681   \n",
       "38     OMAN    209923.0      USD    7yr  CT991551        CMAN   143.97   \n",
       "39     OMAN    209923.0      USD   10yr  CT991555        CMAN   167.82   \n",
       "44  BAHRAIN       Dummy    Dummy  Dummy     Dummy       Dummy    Dummy   \n",
       "16  BAHRAIN    171957.0      USD    6mo  CT990867        CMAN    43.95   \n",
       "17  BAHRAIN    171957.0      USD    1yr  CT965095        CMAN     67.7   \n",
       "18  BAHRAIN    171957.0      USD    2yr  СТ393409        CMAN   116.29   \n",
       "19  BAHRAIN    171957.0      USD    3yr  СТ965099        CMAN   146.23   \n",
       "20  BAHRAIN    171957.0      USD    4yr  CT965103        CMAN   173.91   \n",
       "21  BAHRAIN    171957.0      USD    5yr  CT393413        CBIN  198.282   \n",
       "22  BAHRAIN    171957.0      USD    7yr  CT965111        CMAN   229.46   \n",
       "23  BAHRAIN    171957.0      USD   10yr  CT393417        CMAN    248.6   \n",
       "\n",
       "   ASK(bps)       mid  tenor  disc_factors  \n",
       "40    Dummy    0.0000    0.0      1.000000  \n",
       "24     15.5   13.0500    0.5      0.973919  \n",
       "25     15.9   13.6950    1.0      0.950349  \n",
       "26    22.61   20.5650    2.0      0.910901  \n",
       "27    28.81   26.7000    3.0      0.876980  \n",
       "28     35.7   33.3150    4.0      0.845590  \n",
       "29    43.89   41.7715    5.0      0.815927  \n",
       "30    60.53   57.9400    7.0      0.760392  \n",
       "31    74.99   71.2600   10.0      0.684422  \n",
       "42    Dummy    0.0000    0.0      1.000000  \n",
       "8     18.89   15.9300    0.5      0.973919  \n",
       "9     24.13   21.4100    1.0      0.950349  \n",
       "10    30.08   28.0950    2.0      0.910901  \n",
       "11    38.26   36.2150    3.0      0.876980  \n",
       "12    44.93   42.9550    4.0      0.845590  \n",
       "13    53.48   51.8130    5.0      0.815927  \n",
       "14    68.23   65.2500    7.0      0.760392  \n",
       "15     83.5   80.5500   10.0      0.684422  \n",
       "41    Dummy    0.0000    0.0      1.000000  \n",
       "0     18.13   14.1700    0.5      0.973919  \n",
       "1     18.54   15.1150    1.0      0.950349  \n",
       "2     25.37   21.9950    2.0      0.910901  \n",
       "3     32.99   29.7850    3.0      0.876980  \n",
       "4     39.86   36.9550    4.0      0.845590  \n",
       "5    46.851   45.0645    5.0      0.815927  \n",
       "6     67.19   63.5350    7.0      0.760392  \n",
       "7     83.37   78.4600   10.0      0.684422  \n",
       "43    Dummy    0.0000    0.0      1.000000  \n",
       "32    47.22   36.5200    0.5      0.973919  \n",
       "33    61.82   46.9400    1.0      0.950349  \n",
       "34    67.09   58.6900    2.0      0.910901  \n",
       "35    82.47   74.7000    3.0      0.876980  \n",
       "36   101.52   97.4100    4.0      0.845590  \n",
       "37   122.81  117.7455    5.0      0.815927  \n",
       "38   157.94  150.9550    7.0      0.760392  \n",
       "39   187.94  177.8800   10.0      0.684422  \n",
       "44    Dummy    0.0000    0.0      1.000000  \n",
       "16    77.71   60.8300    0.5      0.973919  \n",
       "17    98.46   83.0800    1.0      0.950349  \n",
       "18   135.31  125.8000    2.0      0.910901  \n",
       "19   161.69  153.9600    3.0      0.876980  \n",
       "20   182.43  178.1700    4.0      0.845590  \n",
       "21  211.821  205.0515    5.0      0.815927  \n",
       "22   243.98  236.7200    7.0      0.760392  \n",
       "23   268.18  258.3900   10.0      0.684422  "
      ]
     },
     "execution_count": 21,
     "metadata": {},
     "output_type": "execute_result"
    }
   ],
   "source": [
    "CDS_market = CDS_market.sort_values(['COUNTRY', 'tenor'], ascending=[False, True])\n",
    "CDS_market"
   ]
  },
  {
   "cell_type": "code",
   "execution_count": 22,
   "id": "37686841",
   "metadata": {},
   "outputs": [],
   "source": [
    "# prepare survival data \n",
    "# based on the assumption that Recovery Rate is at 40%\n",
    "\n",
    "Survival_data = pd.DataFrame(columns = ['Country','Maturity','Df','Spread','Dt','Survival','Hazard','Default','Marginal'])\n",
    "\n",
    "for i in names:\n",
    "    country = CDS_market[CDS_market.COUNTRY == i].reset_index()\n",
    "    Survival_data = pd.concat([Survival_data,get_survival_probability(country.tenor,country.disc_factors,country.mid,0.4,plot_prob=False,plot_hazard=False)]) \n",
    "    Survival_data.Country[Survival_data.Country.isna()] = i"
   ]
  },
  {
   "cell_type": "code",
   "execution_count": 23,
   "id": "9a5cb3d5",
   "metadata": {},
   "outputs": [
    {
     "data": {
      "text/html": [
       "<div>\n",
       "<style scoped>\n",
       "    .dataframe tbody tr th:only-of-type {\n",
       "        vertical-align: middle;\n",
       "    }\n",
       "\n",
       "    .dataframe tbody tr th {\n",
       "        vertical-align: top;\n",
       "    }\n",
       "\n",
       "    .dataframe thead th {\n",
       "        text-align: right;\n",
       "    }\n",
       "</style>\n",
       "<table border=\"1\" class=\"dataframe\">\n",
       "  <thead>\n",
       "    <tr style=\"text-align: right;\">\n",
       "      <th></th>\n",
       "      <th>Country</th>\n",
       "      <th>Maturity</th>\n",
       "      <th>Df</th>\n",
       "      <th>Spread</th>\n",
       "      <th>Dt</th>\n",
       "      <th>Survival</th>\n",
       "      <th>Hazard</th>\n",
       "      <th>Default</th>\n",
       "      <th>Marginal</th>\n",
       "    </tr>\n",
       "  </thead>\n",
       "  <tbody>\n",
       "    <tr>\n",
       "      <th>0</th>\n",
       "      <td>UAE</td>\n",
       "      <td>0.0</td>\n",
       "      <td>1.000000</td>\n",
       "      <td>0.000000</td>\n",
       "      <td>0.0</td>\n",
       "      <td>1.000000</td>\n",
       "      <td>0.000000</td>\n",
       "      <td>0.000000</td>\n",
       "      <td>0.000000</td>\n",
       "    </tr>\n",
       "    <tr>\n",
       "      <th>1</th>\n",
       "      <td>UAE</td>\n",
       "      <td>0.5</td>\n",
       "      <td>0.973919</td>\n",
       "      <td>0.001305</td>\n",
       "      <td>0.5</td>\n",
       "      <td>0.998914</td>\n",
       "      <td>0.002174</td>\n",
       "      <td>0.001086</td>\n",
       "      <td>-0.001086</td>\n",
       "    </tr>\n",
       "    <tr>\n",
       "      <th>2</th>\n",
       "      <td>UAE</td>\n",
       "      <td>1.0</td>\n",
       "      <td>0.950349</td>\n",
       "      <td>0.001370</td>\n",
       "      <td>0.5</td>\n",
       "      <td>0.997720</td>\n",
       "      <td>0.002391</td>\n",
       "      <td>0.002280</td>\n",
       "      <td>-0.001194</td>\n",
       "    </tr>\n",
       "    <tr>\n",
       "      <th>3</th>\n",
       "      <td>UAE</td>\n",
       "      <td>2.0</td>\n",
       "      <td>0.910901</td>\n",
       "      <td>0.002056</td>\n",
       "      <td>1.0</td>\n",
       "      <td>0.993109</td>\n",
       "      <td>0.004633</td>\n",
       "      <td>0.006891</td>\n",
       "      <td>-0.004611</td>\n",
       "    </tr>\n",
       "    <tr>\n",
       "      <th>4</th>\n",
       "      <td>UAE</td>\n",
       "      <td>3.0</td>\n",
       "      <td>0.876980</td>\n",
       "      <td>0.002670</td>\n",
       "      <td>1.0</td>\n",
       "      <td>0.986544</td>\n",
       "      <td>0.006632</td>\n",
       "      <td>0.013456</td>\n",
       "      <td>-0.006565</td>\n",
       "    </tr>\n",
       "    <tr>\n",
       "      <th>5</th>\n",
       "      <td>UAE</td>\n",
       "      <td>4.0</td>\n",
       "      <td>0.845590</td>\n",
       "      <td>0.003331</td>\n",
       "      <td>1.0</td>\n",
       "      <td>0.977556</td>\n",
       "      <td>0.009152</td>\n",
       "      <td>0.022444</td>\n",
       "      <td>-0.008988</td>\n",
       "    </tr>\n",
       "    <tr>\n",
       "      <th>6</th>\n",
       "      <td>UAE</td>\n",
       "      <td>5.0</td>\n",
       "      <td>0.815927</td>\n",
       "      <td>0.004177</td>\n",
       "      <td>1.0</td>\n",
       "      <td>0.964696</td>\n",
       "      <td>0.013243</td>\n",
       "      <td>0.035304</td>\n",
       "      <td>-0.012860</td>\n",
       "    </tr>\n",
       "    <tr>\n",
       "      <th>7</th>\n",
       "      <td>UAE</td>\n",
       "      <td>7.0</td>\n",
       "      <td>0.760392</td>\n",
       "      <td>0.005794</td>\n",
       "      <td>2.0</td>\n",
       "      <td>0.931314</td>\n",
       "      <td>0.017608</td>\n",
       "      <td>0.068686</td>\n",
       "      <td>-0.033382</td>\n",
       "    </tr>\n",
       "    <tr>\n",
       "      <th>8</th>\n",
       "      <td>UAE</td>\n",
       "      <td>10.0</td>\n",
       "      <td>0.684422</td>\n",
       "      <td>0.007126</td>\n",
       "      <td>3.0</td>\n",
       "      <td>0.881232</td>\n",
       "      <td>0.018425</td>\n",
       "      <td>0.118768</td>\n",
       "      <td>-0.050083</td>\n",
       "    </tr>\n",
       "    <tr>\n",
       "      <th>0</th>\n",
       "      <td>QATAR</td>\n",
       "      <td>0.0</td>\n",
       "      <td>1.000000</td>\n",
       "      <td>0.000000</td>\n",
       "      <td>0.0</td>\n",
       "      <td>1.000000</td>\n",
       "      <td>0.000000</td>\n",
       "      <td>0.000000</td>\n",
       "      <td>0.000000</td>\n",
       "    </tr>\n",
       "    <tr>\n",
       "      <th>1</th>\n",
       "      <td>QATAR</td>\n",
       "      <td>0.5</td>\n",
       "      <td>0.973919</td>\n",
       "      <td>0.001417</td>\n",
       "      <td>0.5</td>\n",
       "      <td>0.998821</td>\n",
       "      <td>0.002360</td>\n",
       "      <td>0.001179</td>\n",
       "      <td>-0.001179</td>\n",
       "    </tr>\n",
       "    <tr>\n",
       "      <th>2</th>\n",
       "      <td>QATAR</td>\n",
       "      <td>1.0</td>\n",
       "      <td>0.950349</td>\n",
       "      <td>0.001511</td>\n",
       "      <td>0.5</td>\n",
       "      <td>0.997484</td>\n",
       "      <td>0.002679</td>\n",
       "      <td>0.002516</td>\n",
       "      <td>-0.001337</td>\n",
       "    </tr>\n",
       "    <tr>\n",
       "      <th>3</th>\n",
       "      <td>QATAR</td>\n",
       "      <td>2.0</td>\n",
       "      <td>0.910901</td>\n",
       "      <td>0.002200</td>\n",
       "      <td>1.0</td>\n",
       "      <td>0.992636</td>\n",
       "      <td>0.004872</td>\n",
       "      <td>0.007364</td>\n",
       "      <td>-0.004848</td>\n",
       "    </tr>\n",
       "    <tr>\n",
       "      <th>4</th>\n",
       "      <td>QATAR</td>\n",
       "      <td>3.0</td>\n",
       "      <td>0.876980</td>\n",
       "      <td>0.002978</td>\n",
       "      <td>1.0</td>\n",
       "      <td>0.984986</td>\n",
       "      <td>0.007737</td>\n",
       "      <td>0.015014</td>\n",
       "      <td>-0.007650</td>\n",
       "    </tr>\n",
       "    <tr>\n",
       "      <th>5</th>\n",
       "      <td>QATAR</td>\n",
       "      <td>4.0</td>\n",
       "      <td>0.845590</td>\n",
       "      <td>0.003696</td>\n",
       "      <td>1.0</td>\n",
       "      <td>0.975124</td>\n",
       "      <td>0.010063</td>\n",
       "      <td>0.024876</td>\n",
       "      <td>-0.009862</td>\n",
       "    </tr>\n",
       "    <tr>\n",
       "      <th>6</th>\n",
       "      <td>QATAR</td>\n",
       "      <td>5.0</td>\n",
       "      <td>0.815927</td>\n",
       "      <td>0.004506</td>\n",
       "      <td>1.0</td>\n",
       "      <td>0.962013</td>\n",
       "      <td>0.013537</td>\n",
       "      <td>0.037987</td>\n",
       "      <td>-0.013111</td>\n",
       "    </tr>\n",
       "    <tr>\n",
       "      <th>7</th>\n",
       "      <td>QATAR</td>\n",
       "      <td>7.0</td>\n",
       "      <td>0.760392</td>\n",
       "      <td>0.006353</td>\n",
       "      <td>2.0</td>\n",
       "      <td>0.924864</td>\n",
       "      <td>0.019690</td>\n",
       "      <td>0.075136</td>\n",
       "      <td>-0.037149</td>\n",
       "    </tr>\n",
       "    <tr>\n",
       "      <th>8</th>\n",
       "      <td>QATAR</td>\n",
       "      <td>10.0</td>\n",
       "      <td>0.684422</td>\n",
       "      <td>0.007846</td>\n",
       "      <td>3.0</td>\n",
       "      <td>0.869862</td>\n",
       "      <td>0.020438</td>\n",
       "      <td>0.130138</td>\n",
       "      <td>-0.055002</td>\n",
       "    </tr>\n",
       "    <tr>\n",
       "      <th>0</th>\n",
       "      <td>SAUDI</td>\n",
       "      <td>0.0</td>\n",
       "      <td>1.000000</td>\n",
       "      <td>0.000000</td>\n",
       "      <td>0.0</td>\n",
       "      <td>1.000000</td>\n",
       "      <td>0.000000</td>\n",
       "      <td>0.000000</td>\n",
       "      <td>0.000000</td>\n",
       "    </tr>\n",
       "    <tr>\n",
       "      <th>1</th>\n",
       "      <td>SAUDI</td>\n",
       "      <td>0.5</td>\n",
       "      <td>0.973919</td>\n",
       "      <td>0.001593</td>\n",
       "      <td>0.5</td>\n",
       "      <td>0.998674</td>\n",
       "      <td>0.002653</td>\n",
       "      <td>0.001326</td>\n",
       "      <td>-0.001326</td>\n",
       "    </tr>\n",
       "    <tr>\n",
       "      <th>2</th>\n",
       "      <td>SAUDI</td>\n",
       "      <td>1.0</td>\n",
       "      <td>0.950349</td>\n",
       "      <td>0.002141</td>\n",
       "      <td>0.5</td>\n",
       "      <td>0.996429</td>\n",
       "      <td>0.004501</td>\n",
       "      <td>0.003571</td>\n",
       "      <td>-0.002245</td>\n",
       "    </tr>\n",
       "    <tr>\n",
       "      <th>3</th>\n",
       "      <td>SAUDI</td>\n",
       "      <td>2.0</td>\n",
       "      <td>0.910901</td>\n",
       "      <td>0.002809</td>\n",
       "      <td>1.0</td>\n",
       "      <td>0.990617</td>\n",
       "      <td>0.005850</td>\n",
       "      <td>0.009383</td>\n",
       "      <td>-0.005813</td>\n",
       "    </tr>\n",
       "    <tr>\n",
       "      <th>4</th>\n",
       "      <td>SAUDI</td>\n",
       "      <td>3.0</td>\n",
       "      <td>0.876980</td>\n",
       "      <td>0.003622</td>\n",
       "      <td>1.0</td>\n",
       "      <td>0.981817</td>\n",
       "      <td>0.008923</td>\n",
       "      <td>0.018183</td>\n",
       "      <td>-0.008800</td>\n",
       "    </tr>\n",
       "    <tr>\n",
       "      <th>5</th>\n",
       "      <td>SAUDI</td>\n",
       "      <td>4.0</td>\n",
       "      <td>0.845590</td>\n",
       "      <td>0.004295</td>\n",
       "      <td>1.0</td>\n",
       "      <td>0.971246</td>\n",
       "      <td>0.010825</td>\n",
       "      <td>0.028754</td>\n",
       "      <td>-0.010571</td>\n",
       "    </tr>\n",
       "    <tr>\n",
       "      <th>6</th>\n",
       "      <td>SAUDI</td>\n",
       "      <td>5.0</td>\n",
       "      <td>0.815927</td>\n",
       "      <td>0.005181</td>\n",
       "      <td>1.0</td>\n",
       "      <td>0.956572</td>\n",
       "      <td>0.015224</td>\n",
       "      <td>0.043428</td>\n",
       "      <td>-0.014674</td>\n",
       "    </tr>\n",
       "    <tr>\n",
       "      <th>7</th>\n",
       "      <td>SAUDI</td>\n",
       "      <td>7.0</td>\n",
       "      <td>0.760392</td>\n",
       "      <td>0.006525</td>\n",
       "      <td>2.0</td>\n",
       "      <td>0.923743</td>\n",
       "      <td>0.017461</td>\n",
       "      <td>0.076257</td>\n",
       "      <td>-0.032829</td>\n",
       "    </tr>\n",
       "    <tr>\n",
       "      <th>8</th>\n",
       "      <td>SAUDI</td>\n",
       "      <td>10.0</td>\n",
       "      <td>0.684422</td>\n",
       "      <td>0.008055</td>\n",
       "      <td>3.0</td>\n",
       "      <td>0.867458</td>\n",
       "      <td>0.020955</td>\n",
       "      <td>0.132542</td>\n",
       "      <td>-0.056285</td>\n",
       "    </tr>\n",
       "    <tr>\n",
       "      <th>0</th>\n",
       "      <td>OMAN</td>\n",
       "      <td>0.0</td>\n",
       "      <td>1.000000</td>\n",
       "      <td>0.000000</td>\n",
       "      <td>0.0</td>\n",
       "      <td>1.000000</td>\n",
       "      <td>0.000000</td>\n",
       "      <td>0.000000</td>\n",
       "      <td>0.000000</td>\n",
       "    </tr>\n",
       "    <tr>\n",
       "      <th>1</th>\n",
       "      <td>OMAN</td>\n",
       "      <td>0.5</td>\n",
       "      <td>0.973919</td>\n",
       "      <td>0.003652</td>\n",
       "      <td>0.5</td>\n",
       "      <td>0.996966</td>\n",
       "      <td>0.006077</td>\n",
       "      <td>0.003034</td>\n",
       "      <td>-0.003034</td>\n",
       "    </tr>\n",
       "    <tr>\n",
       "      <th>2</th>\n",
       "      <td>OMAN</td>\n",
       "      <td>1.0</td>\n",
       "      <td>0.950349</td>\n",
       "      <td>0.004694</td>\n",
       "      <td>0.5</td>\n",
       "      <td>0.992198</td>\n",
       "      <td>0.009589</td>\n",
       "      <td>0.007802</td>\n",
       "      <td>-0.004768</td>\n",
       "    </tr>\n",
       "    <tr>\n",
       "      <th>3</th>\n",
       "      <td>OMAN</td>\n",
       "      <td>2.0</td>\n",
       "      <td>0.910901</td>\n",
       "      <td>0.005869</td>\n",
       "      <td>1.0</td>\n",
       "      <td>0.980549</td>\n",
       "      <td>0.011810</td>\n",
       "      <td>0.019451</td>\n",
       "      <td>-0.011649</td>\n",
       "    </tr>\n",
       "    <tr>\n",
       "      <th>4</th>\n",
       "      <td>OMAN</td>\n",
       "      <td>3.0</td>\n",
       "      <td>0.876980</td>\n",
       "      <td>0.007470</td>\n",
       "      <td>1.0</td>\n",
       "      <td>0.962931</td>\n",
       "      <td>0.018131</td>\n",
       "      <td>0.037069</td>\n",
       "      <td>-0.017618</td>\n",
       "    </tr>\n",
       "    <tr>\n",
       "      <th>5</th>\n",
       "      <td>OMAN</td>\n",
       "      <td>4.0</td>\n",
       "      <td>0.845590</td>\n",
       "      <td>0.009741</td>\n",
       "      <td>1.0</td>\n",
       "      <td>0.935679</td>\n",
       "      <td>0.028710</td>\n",
       "      <td>0.064321</td>\n",
       "      <td>-0.027252</td>\n",
       "    </tr>\n",
       "    <tr>\n",
       "      <th>6</th>\n",
       "      <td>OMAN</td>\n",
       "      <td>5.0</td>\n",
       "      <td>0.815927</td>\n",
       "      <td>0.011775</td>\n",
       "      <td>1.0</td>\n",
       "      <td>0.903469</td>\n",
       "      <td>0.035030</td>\n",
       "      <td>0.096531</td>\n",
       "      <td>-0.032209</td>\n",
       "    </tr>\n",
       "    <tr>\n",
       "      <th>7</th>\n",
       "      <td>OMAN</td>\n",
       "      <td>7.0</td>\n",
       "      <td>0.760392</td>\n",
       "      <td>0.015095</td>\n",
       "      <td>2.0</td>\n",
       "      <td>0.830920</td>\n",
       "      <td>0.041854</td>\n",
       "      <td>0.169080</td>\n",
       "      <td>-0.072550</td>\n",
       "    </tr>\n",
       "    <tr>\n",
       "      <th>8</th>\n",
       "      <td>OMAN</td>\n",
       "      <td>10.0</td>\n",
       "      <td>0.684422</td>\n",
       "      <td>0.017788</td>\n",
       "      <td>3.0</td>\n",
       "      <td>0.730018</td>\n",
       "      <td>0.043155</td>\n",
       "      <td>0.269982</td>\n",
       "      <td>-0.100902</td>\n",
       "    </tr>\n",
       "    <tr>\n",
       "      <th>0</th>\n",
       "      <td>BAHRAIN</td>\n",
       "      <td>0.0</td>\n",
       "      <td>1.000000</td>\n",
       "      <td>0.000000</td>\n",
       "      <td>0.0</td>\n",
       "      <td>1.000000</td>\n",
       "      <td>0.000000</td>\n",
       "      <td>0.000000</td>\n",
       "      <td>0.000000</td>\n",
       "    </tr>\n",
       "    <tr>\n",
       "      <th>1</th>\n",
       "      <td>BAHRAIN</td>\n",
       "      <td>0.5</td>\n",
       "      <td>0.973919</td>\n",
       "      <td>0.006083</td>\n",
       "      <td>0.5</td>\n",
       "      <td>0.994956</td>\n",
       "      <td>0.010113</td>\n",
       "      <td>0.005044</td>\n",
       "      <td>-0.005044</td>\n",
       "    </tr>\n",
       "    <tr>\n",
       "      <th>2</th>\n",
       "      <td>BAHRAIN</td>\n",
       "      <td>1.0</td>\n",
       "      <td>0.950349</td>\n",
       "      <td>0.008308</td>\n",
       "      <td>0.5</td>\n",
       "      <td>0.986238</td>\n",
       "      <td>0.017603</td>\n",
       "      <td>0.013762</td>\n",
       "      <td>-0.008719</td>\n",
       "    </tr>\n",
       "    <tr>\n",
       "      <th>3</th>\n",
       "      <td>BAHRAIN</td>\n",
       "      <td>2.0</td>\n",
       "      <td>0.910901</td>\n",
       "      <td>0.012580</td>\n",
       "      <td>1.0</td>\n",
       "      <td>0.958687</td>\n",
       "      <td>0.028333</td>\n",
       "      <td>0.041313</td>\n",
       "      <td>-0.027551</td>\n",
       "    </tr>\n",
       "    <tr>\n",
       "      <th>4</th>\n",
       "      <td>BAHRAIN</td>\n",
       "      <td>3.0</td>\n",
       "      <td>0.876980</td>\n",
       "      <td>0.015396</td>\n",
       "      <td>1.0</td>\n",
       "      <td>0.925173</td>\n",
       "      <td>0.035584</td>\n",
       "      <td>0.074827</td>\n",
       "      <td>-0.033514</td>\n",
       "    </tr>\n",
       "    <tr>\n",
       "      <th>5</th>\n",
       "      <td>BAHRAIN</td>\n",
       "      <td>4.0</td>\n",
       "      <td>0.845590</td>\n",
       "      <td>0.017817</td>\n",
       "      <td>1.0</td>\n",
       "      <td>0.886268</td>\n",
       "      <td>0.042961</td>\n",
       "      <td>0.113732</td>\n",
       "      <td>-0.038905</td>\n",
       "    </tr>\n",
       "    <tr>\n",
       "      <th>6</th>\n",
       "      <td>BAHRAIN</td>\n",
       "      <td>5.0</td>\n",
       "      <td>0.815927</td>\n",
       "      <td>0.020505</td>\n",
       "      <td>1.0</td>\n",
       "      <td>0.838996</td>\n",
       "      <td>0.054813</td>\n",
       "      <td>0.161004</td>\n",
       "      <td>-0.047272</td>\n",
       "    </tr>\n",
       "    <tr>\n",
       "      <th>7</th>\n",
       "      <td>BAHRAIN</td>\n",
       "      <td>7.0</td>\n",
       "      <td>0.760392</td>\n",
       "      <td>0.023672</td>\n",
       "      <td>2.0</td>\n",
       "      <td>0.751440</td>\n",
       "      <td>0.055108</td>\n",
       "      <td>0.248560</td>\n",
       "      <td>-0.087557</td>\n",
       "    </tr>\n",
       "    <tr>\n",
       "      <th>8</th>\n",
       "      <td>BAHRAIN</td>\n",
       "      <td>10.0</td>\n",
       "      <td>0.684422</td>\n",
       "      <td>0.025839</td>\n",
       "      <td>3.0</td>\n",
       "      <td>0.641096</td>\n",
       "      <td>0.052937</td>\n",
       "      <td>0.358904</td>\n",
       "      <td>-0.110343</td>\n",
       "    </tr>\n",
       "  </tbody>\n",
       "</table>\n",
       "</div>"
      ],
      "text/plain": [
       "   Country  Maturity        Df    Spread   Dt  Survival    Hazard   Default  \\\n",
       "0      UAE       0.0  1.000000  0.000000  0.0  1.000000  0.000000  0.000000   \n",
       "1      UAE       0.5  0.973919  0.001305  0.5  0.998914  0.002174  0.001086   \n",
       "2      UAE       1.0  0.950349  0.001370  0.5  0.997720  0.002391  0.002280   \n",
       "3      UAE       2.0  0.910901  0.002056  1.0  0.993109  0.004633  0.006891   \n",
       "4      UAE       3.0  0.876980  0.002670  1.0  0.986544  0.006632  0.013456   \n",
       "5      UAE       4.0  0.845590  0.003331  1.0  0.977556  0.009152  0.022444   \n",
       "6      UAE       5.0  0.815927  0.004177  1.0  0.964696  0.013243  0.035304   \n",
       "7      UAE       7.0  0.760392  0.005794  2.0  0.931314  0.017608  0.068686   \n",
       "8      UAE      10.0  0.684422  0.007126  3.0  0.881232  0.018425  0.118768   \n",
       "0    QATAR       0.0  1.000000  0.000000  0.0  1.000000  0.000000  0.000000   \n",
       "1    QATAR       0.5  0.973919  0.001417  0.5  0.998821  0.002360  0.001179   \n",
       "2    QATAR       1.0  0.950349  0.001511  0.5  0.997484  0.002679  0.002516   \n",
       "3    QATAR       2.0  0.910901  0.002200  1.0  0.992636  0.004872  0.007364   \n",
       "4    QATAR       3.0  0.876980  0.002978  1.0  0.984986  0.007737  0.015014   \n",
       "5    QATAR       4.0  0.845590  0.003696  1.0  0.975124  0.010063  0.024876   \n",
       "6    QATAR       5.0  0.815927  0.004506  1.0  0.962013  0.013537  0.037987   \n",
       "7    QATAR       7.0  0.760392  0.006353  2.0  0.924864  0.019690  0.075136   \n",
       "8    QATAR      10.0  0.684422  0.007846  3.0  0.869862  0.020438  0.130138   \n",
       "0    SAUDI       0.0  1.000000  0.000000  0.0  1.000000  0.000000  0.000000   \n",
       "1    SAUDI       0.5  0.973919  0.001593  0.5  0.998674  0.002653  0.001326   \n",
       "2    SAUDI       1.0  0.950349  0.002141  0.5  0.996429  0.004501  0.003571   \n",
       "3    SAUDI       2.0  0.910901  0.002809  1.0  0.990617  0.005850  0.009383   \n",
       "4    SAUDI       3.0  0.876980  0.003622  1.0  0.981817  0.008923  0.018183   \n",
       "5    SAUDI       4.0  0.845590  0.004295  1.0  0.971246  0.010825  0.028754   \n",
       "6    SAUDI       5.0  0.815927  0.005181  1.0  0.956572  0.015224  0.043428   \n",
       "7    SAUDI       7.0  0.760392  0.006525  2.0  0.923743  0.017461  0.076257   \n",
       "8    SAUDI      10.0  0.684422  0.008055  3.0  0.867458  0.020955  0.132542   \n",
       "0     OMAN       0.0  1.000000  0.000000  0.0  1.000000  0.000000  0.000000   \n",
       "1     OMAN       0.5  0.973919  0.003652  0.5  0.996966  0.006077  0.003034   \n",
       "2     OMAN       1.0  0.950349  0.004694  0.5  0.992198  0.009589  0.007802   \n",
       "3     OMAN       2.0  0.910901  0.005869  1.0  0.980549  0.011810  0.019451   \n",
       "4     OMAN       3.0  0.876980  0.007470  1.0  0.962931  0.018131  0.037069   \n",
       "5     OMAN       4.0  0.845590  0.009741  1.0  0.935679  0.028710  0.064321   \n",
       "6     OMAN       5.0  0.815927  0.011775  1.0  0.903469  0.035030  0.096531   \n",
       "7     OMAN       7.0  0.760392  0.015095  2.0  0.830920  0.041854  0.169080   \n",
       "8     OMAN      10.0  0.684422  0.017788  3.0  0.730018  0.043155  0.269982   \n",
       "0  BAHRAIN       0.0  1.000000  0.000000  0.0  1.000000  0.000000  0.000000   \n",
       "1  BAHRAIN       0.5  0.973919  0.006083  0.5  0.994956  0.010113  0.005044   \n",
       "2  BAHRAIN       1.0  0.950349  0.008308  0.5  0.986238  0.017603  0.013762   \n",
       "3  BAHRAIN       2.0  0.910901  0.012580  1.0  0.958687  0.028333  0.041313   \n",
       "4  BAHRAIN       3.0  0.876980  0.015396  1.0  0.925173  0.035584  0.074827   \n",
       "5  BAHRAIN       4.0  0.845590  0.017817  1.0  0.886268  0.042961  0.113732   \n",
       "6  BAHRAIN       5.0  0.815927  0.020505  1.0  0.838996  0.054813  0.161004   \n",
       "7  BAHRAIN       7.0  0.760392  0.023672  2.0  0.751440  0.055108  0.248560   \n",
       "8  BAHRAIN      10.0  0.684422  0.025839  3.0  0.641096  0.052937  0.358904   \n",
       "\n",
       "   Marginal  \n",
       "0  0.000000  \n",
       "1 -0.001086  \n",
       "2 -0.001194  \n",
       "3 -0.004611  \n",
       "4 -0.006565  \n",
       "5 -0.008988  \n",
       "6 -0.012860  \n",
       "7 -0.033382  \n",
       "8 -0.050083  \n",
       "0  0.000000  \n",
       "1 -0.001179  \n",
       "2 -0.001337  \n",
       "3 -0.004848  \n",
       "4 -0.007650  \n",
       "5 -0.009862  \n",
       "6 -0.013111  \n",
       "7 -0.037149  \n",
       "8 -0.055002  \n",
       "0  0.000000  \n",
       "1 -0.001326  \n",
       "2 -0.002245  \n",
       "3 -0.005813  \n",
       "4 -0.008800  \n",
       "5 -0.010571  \n",
       "6 -0.014674  \n",
       "7 -0.032829  \n",
       "8 -0.056285  \n",
       "0  0.000000  \n",
       "1 -0.003034  \n",
       "2 -0.004768  \n",
       "3 -0.011649  \n",
       "4 -0.017618  \n",
       "5 -0.027252  \n",
       "6 -0.032209  \n",
       "7 -0.072550  \n",
       "8 -0.100902  \n",
       "0  0.000000  \n",
       "1 -0.005044  \n",
       "2 -0.008719  \n",
       "3 -0.027551  \n",
       "4 -0.033514  \n",
       "5 -0.038905  \n",
       "6 -0.047272  \n",
       "7 -0.087557  \n",
       "8 -0.110343  "
      ]
     },
     "execution_count": 23,
     "metadata": {},
     "output_type": "execute_result"
    }
   ],
   "source": [
    "# write into csv file for futher use\n",
    "Survival_data.to_csv('Survival_data.csv')\n",
    "\n",
    "Survival_data"
   ]
  },
  {
   "cell_type": "markdown",
   "id": "bfc05db2",
   "metadata": {},
   "source": [
    "### 4.3 Survival metrics visualized"
   ]
  },
  {
   "cell_type": "code",
   "execution_count": 24,
   "id": "0d9c20bd",
   "metadata": {},
   "outputs": [
    {
     "data": {
      "application/vnd.plotly.v1+json": {
       "config": {
        "linkText": "Export to plot.ly",
        "plotlyServerURL": "https://plot.ly",
        "showLink": true
       },
       "data": [
        {
         "line": {
          "color": "rgba(255, 153, 51, 1.0)",
          "dash": "solid",
          "shape": "linear",
          "width": 1.3
         },
         "mode": "lines",
         "name": "UAE",
         "text": "",
         "type": "scatter",
         "x": [
          "0.0Y",
          "0.5Y",
          "1.0Y",
          "2.0Y",
          "3.0Y",
          "4.0Y",
          "5.0Y",
          "7.0Y",
          "10.0Y"
         ],
         "y": [
          0,
          0.002173818200476821,
          0.0023913677595360475,
          0.004632504484254336,
          0.006632253643469502,
          0.00915208532183192,
          0.013242882134660723,
          0.017608089272454806,
          0.01842546523505661
         ]
        },
        {
         "line": {
          "color": "rgba(55, 128, 191, 1.0)",
          "dash": "solid",
          "shape": "linear",
          "width": 1.3
         },
         "mode": "lines",
         "name": "QATAR",
         "text": "",
         "type": "scatter",
         "x": [
          "0.0Y",
          "0.5Y",
          "1.0Y",
          "2.0Y",
          "3.0Y",
          "4.0Y",
          "5.0Y",
          "7.0Y",
          "10.0Y"
         ],
         "y": [
          0,
          0.002360273396011401,
          0.0026789942344381066,
          0.0048718475023869865,
          0.007736639501210503,
          0.010062505462327145,
          0.013536537586766014,
          0.019690479747990132,
          0.020437504061973418
         ]
        },
        {
         "line": {
          "color": "rgba(50, 171, 96, 1.0)",
          "dash": "solid",
          "shape": "linear",
          "width": 1.3
         },
         "mode": "lines",
         "name": "SAUDI",
         "text": "",
         "type": "scatter",
         "x": [
          "0.0Y",
          "0.5Y",
          "1.0Y",
          "2.0Y",
          "3.0Y",
          "4.0Y",
          "5.0Y",
          "7.0Y",
          "10.0Y"
         ],
         "y": [
          0,
          0.002653239301795598,
          0.004501358536046356,
          0.005850440173991373,
          0.00892274146287803,
          0.010825103368310909,
          0.01522351230053091,
          0.017461191201614382,
          0.020955474855213766
         ]
        },
        {
         "line": {
          "color": "rgba(128, 0, 128, 1.0)",
          "dash": "solid",
          "shape": "linear",
          "width": 1.3
         },
         "mode": "lines",
         "name": "OMAN",
         "text": "",
         "type": "scatter",
         "x": [
          "0.0Y",
          "0.5Y",
          "1.0Y",
          "2.0Y",
          "3.0Y",
          "4.0Y",
          "5.0Y",
          "7.0Y",
          "10.0Y"
         ],
         "y": [
          0,
          0.006077423537422809,
          0.009588603337088856,
          0.011809798444448327,
          0.01813062998393811,
          0.028709541967349428,
          0.03503009427711654,
          0.04185448752680689,
          0.043154582387182866
         ]
        },
        {
         "line": {
          "color": "rgba(219, 64, 82, 1.0)",
          "dash": "solid",
          "shape": "linear",
          "width": 1.3
         },
         "mode": "lines",
         "name": "BAHRAIN",
         "text": "",
         "type": "scatter",
         "x": [
          "0.0Y",
          "0.5Y",
          "1.0Y",
          "2.0Y",
          "3.0Y",
          "4.0Y",
          "5.0Y",
          "7.0Y",
          "10.0Y"
         ],
         "y": [
          0,
          0.010112723393546078,
          0.01760287581943538,
          0.028332676587608973,
          0.035584232466955024,
          0.04296099611997435,
          0.054813355107955736,
          0.055107702755714354,
          0.052937035426359885
         ]
        }
       ],
       "layout": {
        "legend": {
         "bgcolor": "#F5F6F9",
         "font": {
          "color": "#4D5663"
         }
        },
        "paper_bgcolor": "#F5F6F9",
        "plot_bgcolor": "#F5F6F9",
        "template": {
         "data": {
          "bar": [
           {
            "error_x": {
             "color": "#2a3f5f"
            },
            "error_y": {
             "color": "#2a3f5f"
            },
            "marker": {
             "line": {
              "color": "#E5ECF6",
              "width": 0.5
             },
             "pattern": {
              "fillmode": "overlay",
              "size": 10,
              "solidity": 0.2
             }
            },
            "type": "bar"
           }
          ],
          "barpolar": [
           {
            "marker": {
             "line": {
              "color": "#E5ECF6",
              "width": 0.5
             },
             "pattern": {
              "fillmode": "overlay",
              "size": 10,
              "solidity": 0.2
             }
            },
            "type": "barpolar"
           }
          ],
          "carpet": [
           {
            "aaxis": {
             "endlinecolor": "#2a3f5f",
             "gridcolor": "white",
             "linecolor": "white",
             "minorgridcolor": "white",
             "startlinecolor": "#2a3f5f"
            },
            "baxis": {
             "endlinecolor": "#2a3f5f",
             "gridcolor": "white",
             "linecolor": "white",
             "minorgridcolor": "white",
             "startlinecolor": "#2a3f5f"
            },
            "type": "carpet"
           }
          ],
          "choropleth": [
           {
            "colorbar": {
             "outlinewidth": 0,
             "ticks": ""
            },
            "type": "choropleth"
           }
          ],
          "contour": [
           {
            "colorbar": {
             "outlinewidth": 0,
             "ticks": ""
            },
            "colorscale": [
             [
              0,
              "#0d0887"
             ],
             [
              0.1111111111111111,
              "#46039f"
             ],
             [
              0.2222222222222222,
              "#7201a8"
             ],
             [
              0.3333333333333333,
              "#9c179e"
             ],
             [
              0.4444444444444444,
              "#bd3786"
             ],
             [
              0.5555555555555556,
              "#d8576b"
             ],
             [
              0.6666666666666666,
              "#ed7953"
             ],
             [
              0.7777777777777778,
              "#fb9f3a"
             ],
             [
              0.8888888888888888,
              "#fdca26"
             ],
             [
              1,
              "#f0f921"
             ]
            ],
            "type": "contour"
           }
          ],
          "contourcarpet": [
           {
            "colorbar": {
             "outlinewidth": 0,
             "ticks": ""
            },
            "type": "contourcarpet"
           }
          ],
          "heatmap": [
           {
            "colorbar": {
             "outlinewidth": 0,
             "ticks": ""
            },
            "colorscale": [
             [
              0,
              "#0d0887"
             ],
             [
              0.1111111111111111,
              "#46039f"
             ],
             [
              0.2222222222222222,
              "#7201a8"
             ],
             [
              0.3333333333333333,
              "#9c179e"
             ],
             [
              0.4444444444444444,
              "#bd3786"
             ],
             [
              0.5555555555555556,
              "#d8576b"
             ],
             [
              0.6666666666666666,
              "#ed7953"
             ],
             [
              0.7777777777777778,
              "#fb9f3a"
             ],
             [
              0.8888888888888888,
              "#fdca26"
             ],
             [
              1,
              "#f0f921"
             ]
            ],
            "type": "heatmap"
           }
          ],
          "heatmapgl": [
           {
            "colorbar": {
             "outlinewidth": 0,
             "ticks": ""
            },
            "colorscale": [
             [
              0,
              "#0d0887"
             ],
             [
              0.1111111111111111,
              "#46039f"
             ],
             [
              0.2222222222222222,
              "#7201a8"
             ],
             [
              0.3333333333333333,
              "#9c179e"
             ],
             [
              0.4444444444444444,
              "#bd3786"
             ],
             [
              0.5555555555555556,
              "#d8576b"
             ],
             [
              0.6666666666666666,
              "#ed7953"
             ],
             [
              0.7777777777777778,
              "#fb9f3a"
             ],
             [
              0.8888888888888888,
              "#fdca26"
             ],
             [
              1,
              "#f0f921"
             ]
            ],
            "type": "heatmapgl"
           }
          ],
          "histogram": [
           {
            "marker": {
             "pattern": {
              "fillmode": "overlay",
              "size": 10,
              "solidity": 0.2
             }
            },
            "type": "histogram"
           }
          ],
          "histogram2d": [
           {
            "colorbar": {
             "outlinewidth": 0,
             "ticks": ""
            },
            "colorscale": [
             [
              0,
              "#0d0887"
             ],
             [
              0.1111111111111111,
              "#46039f"
             ],
             [
              0.2222222222222222,
              "#7201a8"
             ],
             [
              0.3333333333333333,
              "#9c179e"
             ],
             [
              0.4444444444444444,
              "#bd3786"
             ],
             [
              0.5555555555555556,
              "#d8576b"
             ],
             [
              0.6666666666666666,
              "#ed7953"
             ],
             [
              0.7777777777777778,
              "#fb9f3a"
             ],
             [
              0.8888888888888888,
              "#fdca26"
             ],
             [
              1,
              "#f0f921"
             ]
            ],
            "type": "histogram2d"
           }
          ],
          "histogram2dcontour": [
           {
            "colorbar": {
             "outlinewidth": 0,
             "ticks": ""
            },
            "colorscale": [
             [
              0,
              "#0d0887"
             ],
             [
              0.1111111111111111,
              "#46039f"
             ],
             [
              0.2222222222222222,
              "#7201a8"
             ],
             [
              0.3333333333333333,
              "#9c179e"
             ],
             [
              0.4444444444444444,
              "#bd3786"
             ],
             [
              0.5555555555555556,
              "#d8576b"
             ],
             [
              0.6666666666666666,
              "#ed7953"
             ],
             [
              0.7777777777777778,
              "#fb9f3a"
             ],
             [
              0.8888888888888888,
              "#fdca26"
             ],
             [
              1,
              "#f0f921"
             ]
            ],
            "type": "histogram2dcontour"
           }
          ],
          "mesh3d": [
           {
            "colorbar": {
             "outlinewidth": 0,
             "ticks": ""
            },
            "type": "mesh3d"
           }
          ],
          "parcoords": [
           {
            "line": {
             "colorbar": {
              "outlinewidth": 0,
              "ticks": ""
             }
            },
            "type": "parcoords"
           }
          ],
          "pie": [
           {
            "automargin": true,
            "type": "pie"
           }
          ],
          "scatter": [
           {
            "fillpattern": {
             "fillmode": "overlay",
             "size": 10,
             "solidity": 0.2
            },
            "type": "scatter"
           }
          ],
          "scatter3d": [
           {
            "line": {
             "colorbar": {
              "outlinewidth": 0,
              "ticks": ""
             }
            },
            "marker": {
             "colorbar": {
              "outlinewidth": 0,
              "ticks": ""
             }
            },
            "type": "scatter3d"
           }
          ],
          "scattercarpet": [
           {
            "marker": {
             "colorbar": {
              "outlinewidth": 0,
              "ticks": ""
             }
            },
            "type": "scattercarpet"
           }
          ],
          "scattergeo": [
           {
            "marker": {
             "colorbar": {
              "outlinewidth": 0,
              "ticks": ""
             }
            },
            "type": "scattergeo"
           }
          ],
          "scattergl": [
           {
            "marker": {
             "colorbar": {
              "outlinewidth": 0,
              "ticks": ""
             }
            },
            "type": "scattergl"
           }
          ],
          "scattermapbox": [
           {
            "marker": {
             "colorbar": {
              "outlinewidth": 0,
              "ticks": ""
             }
            },
            "type": "scattermapbox"
           }
          ],
          "scatterpolar": [
           {
            "marker": {
             "colorbar": {
              "outlinewidth": 0,
              "ticks": ""
             }
            },
            "type": "scatterpolar"
           }
          ],
          "scatterpolargl": [
           {
            "marker": {
             "colorbar": {
              "outlinewidth": 0,
              "ticks": ""
             }
            },
            "type": "scatterpolargl"
           }
          ],
          "scatterternary": [
           {
            "marker": {
             "colorbar": {
              "outlinewidth": 0,
              "ticks": ""
             }
            },
            "type": "scatterternary"
           }
          ],
          "surface": [
           {
            "colorbar": {
             "outlinewidth": 0,
             "ticks": ""
            },
            "colorscale": [
             [
              0,
              "#0d0887"
             ],
             [
              0.1111111111111111,
              "#46039f"
             ],
             [
              0.2222222222222222,
              "#7201a8"
             ],
             [
              0.3333333333333333,
              "#9c179e"
             ],
             [
              0.4444444444444444,
              "#bd3786"
             ],
             [
              0.5555555555555556,
              "#d8576b"
             ],
             [
              0.6666666666666666,
              "#ed7953"
             ],
             [
              0.7777777777777778,
              "#fb9f3a"
             ],
             [
              0.8888888888888888,
              "#fdca26"
             ],
             [
              1,
              "#f0f921"
             ]
            ],
            "type": "surface"
           }
          ],
          "table": [
           {
            "cells": {
             "fill": {
              "color": "#EBF0F8"
             },
             "line": {
              "color": "white"
             }
            },
            "header": {
             "fill": {
              "color": "#C8D4E3"
             },
             "line": {
              "color": "white"
             }
            },
            "type": "table"
           }
          ]
         },
         "layout": {
          "annotationdefaults": {
           "arrowcolor": "#2a3f5f",
           "arrowhead": 0,
           "arrowwidth": 1
          },
          "autotypenumbers": "strict",
          "coloraxis": {
           "colorbar": {
            "outlinewidth": 0,
            "ticks": ""
           }
          },
          "colorscale": {
           "diverging": [
            [
             0,
             "#8e0152"
            ],
            [
             0.1,
             "#c51b7d"
            ],
            [
             0.2,
             "#de77ae"
            ],
            [
             0.3,
             "#f1b6da"
            ],
            [
             0.4,
             "#fde0ef"
            ],
            [
             0.5,
             "#f7f7f7"
            ],
            [
             0.6,
             "#e6f5d0"
            ],
            [
             0.7,
             "#b8e186"
            ],
            [
             0.8,
             "#7fbc41"
            ],
            [
             0.9,
             "#4d9221"
            ],
            [
             1,
             "#276419"
            ]
           ],
           "sequential": [
            [
             0,
             "#0d0887"
            ],
            [
             0.1111111111111111,
             "#46039f"
            ],
            [
             0.2222222222222222,
             "#7201a8"
            ],
            [
             0.3333333333333333,
             "#9c179e"
            ],
            [
             0.4444444444444444,
             "#bd3786"
            ],
            [
             0.5555555555555556,
             "#d8576b"
            ],
            [
             0.6666666666666666,
             "#ed7953"
            ],
            [
             0.7777777777777778,
             "#fb9f3a"
            ],
            [
             0.8888888888888888,
             "#fdca26"
            ],
            [
             1,
             "#f0f921"
            ]
           ],
           "sequentialminus": [
            [
             0,
             "#0d0887"
            ],
            [
             0.1111111111111111,
             "#46039f"
            ],
            [
             0.2222222222222222,
             "#7201a8"
            ],
            [
             0.3333333333333333,
             "#9c179e"
            ],
            [
             0.4444444444444444,
             "#bd3786"
            ],
            [
             0.5555555555555556,
             "#d8576b"
            ],
            [
             0.6666666666666666,
             "#ed7953"
            ],
            [
             0.7777777777777778,
             "#fb9f3a"
            ],
            [
             0.8888888888888888,
             "#fdca26"
            ],
            [
             1,
             "#f0f921"
            ]
           ]
          },
          "colorway": [
           "#636efa",
           "#EF553B",
           "#00cc96",
           "#ab63fa",
           "#FFA15A",
           "#19d3f3",
           "#FF6692",
           "#B6E880",
           "#FF97FF",
           "#FECB52"
          ],
          "font": {
           "color": "#2a3f5f"
          },
          "geo": {
           "bgcolor": "white",
           "lakecolor": "white",
           "landcolor": "#E5ECF6",
           "showlakes": true,
           "showland": true,
           "subunitcolor": "white"
          },
          "hoverlabel": {
           "align": "left"
          },
          "hovermode": "closest",
          "mapbox": {
           "style": "light"
          },
          "paper_bgcolor": "white",
          "plot_bgcolor": "#E5ECF6",
          "polar": {
           "angularaxis": {
            "gridcolor": "white",
            "linecolor": "white",
            "ticks": ""
           },
           "bgcolor": "#E5ECF6",
           "radialaxis": {
            "gridcolor": "white",
            "linecolor": "white",
            "ticks": ""
           }
          },
          "scene": {
           "xaxis": {
            "backgroundcolor": "#E5ECF6",
            "gridcolor": "white",
            "gridwidth": 2,
            "linecolor": "white",
            "showbackground": true,
            "ticks": "",
            "zerolinecolor": "white"
           },
           "yaxis": {
            "backgroundcolor": "#E5ECF6",
            "gridcolor": "white",
            "gridwidth": 2,
            "linecolor": "white",
            "showbackground": true,
            "ticks": "",
            "zerolinecolor": "white"
           },
           "zaxis": {
            "backgroundcolor": "#E5ECF6",
            "gridcolor": "white",
            "gridwidth": 2,
            "linecolor": "white",
            "showbackground": true,
            "ticks": "",
            "zerolinecolor": "white"
           }
          },
          "shapedefaults": {
           "line": {
            "color": "#2a3f5f"
           }
          },
          "ternary": {
           "aaxis": {
            "gridcolor": "white",
            "linecolor": "white",
            "ticks": ""
           },
           "baxis": {
            "gridcolor": "white",
            "linecolor": "white",
            "ticks": ""
           },
           "bgcolor": "#E5ECF6",
           "caxis": {
            "gridcolor": "white",
            "linecolor": "white",
            "ticks": ""
           }
          },
          "title": {
           "x": 0.05
          },
          "xaxis": {
           "automargin": true,
           "gridcolor": "white",
           "linecolor": "white",
           "ticks": "",
           "title": {
            "standoff": 15
           },
           "zerolinecolor": "white",
           "zerolinewidth": 2
          },
          "yaxis": {
           "automargin": true,
           "gridcolor": "white",
           "linecolor": "white",
           "ticks": "",
           "title": {
            "standoff": 15
           },
           "zerolinecolor": "white",
           "zerolinewidth": 2
          }
         }
        },
        "title": {
         "font": {
          "color": "#4D5663"
         },
         "text": "Hazard Rate Term Structure"
        },
        "xaxis": {
         "gridcolor": "#E1E5ED",
         "showgrid": true,
         "tickfont": {
          "color": "#4D5663"
         },
         "title": {
          "font": {
           "color": "#4D5663"
          },
          "text": "CDS Maturity"
         },
         "zerolinecolor": "#E1E5ED"
        },
        "yaxis": {
         "gridcolor": "#E1E5ED",
         "showgrid": true,
         "tickfont": {
          "color": "#4D5663"
         },
         "title": {
          "font": {
           "color": "#4D5663"
          },
          "text": "Hazard Rate"
         },
         "zerolinecolor": "#E1E5ED"
        }
       }
      },
      "text/html": [
       "<div>                            <div id=\"afb3d732-da15-4b50-a061-797515a1828f\" class=\"plotly-graph-div\" style=\"height:525px; width:100%;\"></div>            <script type=\"text/javascript\">                require([\"plotly\"], function(Plotly) {                    window.PLOTLYENV=window.PLOTLYENV || {};\n",
       "                    window.PLOTLYENV.BASE_URL='https://plot.ly';                                    if (document.getElementById(\"afb3d732-da15-4b50-a061-797515a1828f\")) {                    Plotly.newPlot(                        \"afb3d732-da15-4b50-a061-797515a1828f\",                        [{\"line\":{\"color\":\"rgba(255, 153, 51, 1.0)\",\"dash\":\"solid\",\"shape\":\"linear\",\"width\":1.3},\"mode\":\"lines\",\"name\":\"UAE\",\"text\":\"\",\"x\":[\"0.0Y\",\"0.5Y\",\"1.0Y\",\"2.0Y\",\"3.0Y\",\"4.0Y\",\"5.0Y\",\"7.0Y\",\"10.0Y\"],\"y\":[0.0,0.002173818200476821,0.0023913677595360475,0.004632504484254336,0.006632253643469502,0.00915208532183192,0.013242882134660723,0.017608089272454806,0.01842546523505661],\"type\":\"scatter\"},{\"line\":{\"color\":\"rgba(55, 128, 191, 1.0)\",\"dash\":\"solid\",\"shape\":\"linear\",\"width\":1.3},\"mode\":\"lines\",\"name\":\"QATAR\",\"text\":\"\",\"x\":[\"0.0Y\",\"0.5Y\",\"1.0Y\",\"2.0Y\",\"3.0Y\",\"4.0Y\",\"5.0Y\",\"7.0Y\",\"10.0Y\"],\"y\":[0.0,0.002360273396011401,0.0026789942344381066,0.0048718475023869865,0.007736639501210503,0.010062505462327145,0.013536537586766014,0.019690479747990132,0.020437504061973418],\"type\":\"scatter\"},{\"line\":{\"color\":\"rgba(50, 171, 96, 1.0)\",\"dash\":\"solid\",\"shape\":\"linear\",\"width\":1.3},\"mode\":\"lines\",\"name\":\"SAUDI\",\"text\":\"\",\"x\":[\"0.0Y\",\"0.5Y\",\"1.0Y\",\"2.0Y\",\"3.0Y\",\"4.0Y\",\"5.0Y\",\"7.0Y\",\"10.0Y\"],\"y\":[0.0,0.002653239301795598,0.004501358536046356,0.005850440173991373,0.00892274146287803,0.010825103368310909,0.01522351230053091,0.017461191201614382,0.020955474855213766],\"type\":\"scatter\"},{\"line\":{\"color\":\"rgba(128, 0, 128, 1.0)\",\"dash\":\"solid\",\"shape\":\"linear\",\"width\":1.3},\"mode\":\"lines\",\"name\":\"OMAN\",\"text\":\"\",\"x\":[\"0.0Y\",\"0.5Y\",\"1.0Y\",\"2.0Y\",\"3.0Y\",\"4.0Y\",\"5.0Y\",\"7.0Y\",\"10.0Y\"],\"y\":[0.0,0.006077423537422809,0.009588603337088856,0.011809798444448327,0.01813062998393811,0.028709541967349428,0.03503009427711654,0.04185448752680689,0.043154582387182866],\"type\":\"scatter\"},{\"line\":{\"color\":\"rgba(219, 64, 82, 1.0)\",\"dash\":\"solid\",\"shape\":\"linear\",\"width\":1.3},\"mode\":\"lines\",\"name\":\"BAHRAIN\",\"text\":\"\",\"x\":[\"0.0Y\",\"0.5Y\",\"1.0Y\",\"2.0Y\",\"3.0Y\",\"4.0Y\",\"5.0Y\",\"7.0Y\",\"10.0Y\"],\"y\":[0.0,0.010112723393546078,0.01760287581943538,0.028332676587608973,0.035584232466955024,0.04296099611997435,0.054813355107955736,0.055107702755714354,0.052937035426359885],\"type\":\"scatter\"}],                        {\"legend\":{\"bgcolor\":\"#F5F6F9\",\"font\":{\"color\":\"#4D5663\"}},\"paper_bgcolor\":\"#F5F6F9\",\"plot_bgcolor\":\"#F5F6F9\",\"template\":{\"data\":{\"barpolar\":[{\"marker\":{\"line\":{\"color\":\"#E5ECF6\",\"width\":0.5},\"pattern\":{\"fillmode\":\"overlay\",\"size\":10,\"solidity\":0.2}},\"type\":\"barpolar\"}],\"bar\":[{\"error_x\":{\"color\":\"#2a3f5f\"},\"error_y\":{\"color\":\"#2a3f5f\"},\"marker\":{\"line\":{\"color\":\"#E5ECF6\",\"width\":0.5},\"pattern\":{\"fillmode\":\"overlay\",\"size\":10,\"solidity\":0.2}},\"type\":\"bar\"}],\"carpet\":[{\"aaxis\":{\"endlinecolor\":\"#2a3f5f\",\"gridcolor\":\"white\",\"linecolor\":\"white\",\"minorgridcolor\":\"white\",\"startlinecolor\":\"#2a3f5f\"},\"baxis\":{\"endlinecolor\":\"#2a3f5f\",\"gridcolor\":\"white\",\"linecolor\":\"white\",\"minorgridcolor\":\"white\",\"startlinecolor\":\"#2a3f5f\"},\"type\":\"carpet\"}],\"choropleth\":[{\"colorbar\":{\"outlinewidth\":0,\"ticks\":\"\"},\"type\":\"choropleth\"}],\"contourcarpet\":[{\"colorbar\":{\"outlinewidth\":0,\"ticks\":\"\"},\"type\":\"contourcarpet\"}],\"contour\":[{\"colorbar\":{\"outlinewidth\":0,\"ticks\":\"\"},\"colorscale\":[[0.0,\"#0d0887\"],[0.1111111111111111,\"#46039f\"],[0.2222222222222222,\"#7201a8\"],[0.3333333333333333,\"#9c179e\"],[0.4444444444444444,\"#bd3786\"],[0.5555555555555556,\"#d8576b\"],[0.6666666666666666,\"#ed7953\"],[0.7777777777777778,\"#fb9f3a\"],[0.8888888888888888,\"#fdca26\"],[1.0,\"#f0f921\"]],\"type\":\"contour\"}],\"heatmapgl\":[{\"colorbar\":{\"outlinewidth\":0,\"ticks\":\"\"},\"colorscale\":[[0.0,\"#0d0887\"],[0.1111111111111111,\"#46039f\"],[0.2222222222222222,\"#7201a8\"],[0.3333333333333333,\"#9c179e\"],[0.4444444444444444,\"#bd3786\"],[0.5555555555555556,\"#d8576b\"],[0.6666666666666666,\"#ed7953\"],[0.7777777777777778,\"#fb9f3a\"],[0.8888888888888888,\"#fdca26\"],[1.0,\"#f0f921\"]],\"type\":\"heatmapgl\"}],\"heatmap\":[{\"colorbar\":{\"outlinewidth\":0,\"ticks\":\"\"},\"colorscale\":[[0.0,\"#0d0887\"],[0.1111111111111111,\"#46039f\"],[0.2222222222222222,\"#7201a8\"],[0.3333333333333333,\"#9c179e\"],[0.4444444444444444,\"#bd3786\"],[0.5555555555555556,\"#d8576b\"],[0.6666666666666666,\"#ed7953\"],[0.7777777777777778,\"#fb9f3a\"],[0.8888888888888888,\"#fdca26\"],[1.0,\"#f0f921\"]],\"type\":\"heatmap\"}],\"histogram2dcontour\":[{\"colorbar\":{\"outlinewidth\":0,\"ticks\":\"\"},\"colorscale\":[[0.0,\"#0d0887\"],[0.1111111111111111,\"#46039f\"],[0.2222222222222222,\"#7201a8\"],[0.3333333333333333,\"#9c179e\"],[0.4444444444444444,\"#bd3786\"],[0.5555555555555556,\"#d8576b\"],[0.6666666666666666,\"#ed7953\"],[0.7777777777777778,\"#fb9f3a\"],[0.8888888888888888,\"#fdca26\"],[1.0,\"#f0f921\"]],\"type\":\"histogram2dcontour\"}],\"histogram2d\":[{\"colorbar\":{\"outlinewidth\":0,\"ticks\":\"\"},\"colorscale\":[[0.0,\"#0d0887\"],[0.1111111111111111,\"#46039f\"],[0.2222222222222222,\"#7201a8\"],[0.3333333333333333,\"#9c179e\"],[0.4444444444444444,\"#bd3786\"],[0.5555555555555556,\"#d8576b\"],[0.6666666666666666,\"#ed7953\"],[0.7777777777777778,\"#fb9f3a\"],[0.8888888888888888,\"#fdca26\"],[1.0,\"#f0f921\"]],\"type\":\"histogram2d\"}],\"histogram\":[{\"marker\":{\"pattern\":{\"fillmode\":\"overlay\",\"size\":10,\"solidity\":0.2}},\"type\":\"histogram\"}],\"mesh3d\":[{\"colorbar\":{\"outlinewidth\":0,\"ticks\":\"\"},\"type\":\"mesh3d\"}],\"parcoords\":[{\"line\":{\"colorbar\":{\"outlinewidth\":0,\"ticks\":\"\"}},\"type\":\"parcoords\"}],\"pie\":[{\"automargin\":true,\"type\":\"pie\"}],\"scatter3d\":[{\"line\":{\"colorbar\":{\"outlinewidth\":0,\"ticks\":\"\"}},\"marker\":{\"colorbar\":{\"outlinewidth\":0,\"ticks\":\"\"}},\"type\":\"scatter3d\"}],\"scattercarpet\":[{\"marker\":{\"colorbar\":{\"outlinewidth\":0,\"ticks\":\"\"}},\"type\":\"scattercarpet\"}],\"scattergeo\":[{\"marker\":{\"colorbar\":{\"outlinewidth\":0,\"ticks\":\"\"}},\"type\":\"scattergeo\"}],\"scattergl\":[{\"marker\":{\"colorbar\":{\"outlinewidth\":0,\"ticks\":\"\"}},\"type\":\"scattergl\"}],\"scattermapbox\":[{\"marker\":{\"colorbar\":{\"outlinewidth\":0,\"ticks\":\"\"}},\"type\":\"scattermapbox\"}],\"scatterpolargl\":[{\"marker\":{\"colorbar\":{\"outlinewidth\":0,\"ticks\":\"\"}},\"type\":\"scatterpolargl\"}],\"scatterpolar\":[{\"marker\":{\"colorbar\":{\"outlinewidth\":0,\"ticks\":\"\"}},\"type\":\"scatterpolar\"}],\"scatter\":[{\"fillpattern\":{\"fillmode\":\"overlay\",\"size\":10,\"solidity\":0.2},\"type\":\"scatter\"}],\"scatterternary\":[{\"marker\":{\"colorbar\":{\"outlinewidth\":0,\"ticks\":\"\"}},\"type\":\"scatterternary\"}],\"surface\":[{\"colorbar\":{\"outlinewidth\":0,\"ticks\":\"\"},\"colorscale\":[[0.0,\"#0d0887\"],[0.1111111111111111,\"#46039f\"],[0.2222222222222222,\"#7201a8\"],[0.3333333333333333,\"#9c179e\"],[0.4444444444444444,\"#bd3786\"],[0.5555555555555556,\"#d8576b\"],[0.6666666666666666,\"#ed7953\"],[0.7777777777777778,\"#fb9f3a\"],[0.8888888888888888,\"#fdca26\"],[1.0,\"#f0f921\"]],\"type\":\"surface\"}],\"table\":[{\"cells\":{\"fill\":{\"color\":\"#EBF0F8\"},\"line\":{\"color\":\"white\"}},\"header\":{\"fill\":{\"color\":\"#C8D4E3\"},\"line\":{\"color\":\"white\"}},\"type\":\"table\"}]},\"layout\":{\"annotationdefaults\":{\"arrowcolor\":\"#2a3f5f\",\"arrowhead\":0,\"arrowwidth\":1},\"autotypenumbers\":\"strict\",\"coloraxis\":{\"colorbar\":{\"outlinewidth\":0,\"ticks\":\"\"}},\"colorscale\":{\"diverging\":[[0,\"#8e0152\"],[0.1,\"#c51b7d\"],[0.2,\"#de77ae\"],[0.3,\"#f1b6da\"],[0.4,\"#fde0ef\"],[0.5,\"#f7f7f7\"],[0.6,\"#e6f5d0\"],[0.7,\"#b8e186\"],[0.8,\"#7fbc41\"],[0.9,\"#4d9221\"],[1,\"#276419\"]],\"sequential\":[[0.0,\"#0d0887\"],[0.1111111111111111,\"#46039f\"],[0.2222222222222222,\"#7201a8\"],[0.3333333333333333,\"#9c179e\"],[0.4444444444444444,\"#bd3786\"],[0.5555555555555556,\"#d8576b\"],[0.6666666666666666,\"#ed7953\"],[0.7777777777777778,\"#fb9f3a\"],[0.8888888888888888,\"#fdca26\"],[1.0,\"#f0f921\"]],\"sequentialminus\":[[0.0,\"#0d0887\"],[0.1111111111111111,\"#46039f\"],[0.2222222222222222,\"#7201a8\"],[0.3333333333333333,\"#9c179e\"],[0.4444444444444444,\"#bd3786\"],[0.5555555555555556,\"#d8576b\"],[0.6666666666666666,\"#ed7953\"],[0.7777777777777778,\"#fb9f3a\"],[0.8888888888888888,\"#fdca26\"],[1.0,\"#f0f921\"]]},\"colorway\":[\"#636efa\",\"#EF553B\",\"#00cc96\",\"#ab63fa\",\"#FFA15A\",\"#19d3f3\",\"#FF6692\",\"#B6E880\",\"#FF97FF\",\"#FECB52\"],\"font\":{\"color\":\"#2a3f5f\"},\"geo\":{\"bgcolor\":\"white\",\"lakecolor\":\"white\",\"landcolor\":\"#E5ECF6\",\"showlakes\":true,\"showland\":true,\"subunitcolor\":\"white\"},\"hoverlabel\":{\"align\":\"left\"},\"hovermode\":\"closest\",\"mapbox\":{\"style\":\"light\"},\"paper_bgcolor\":\"white\",\"plot_bgcolor\":\"#E5ECF6\",\"polar\":{\"angularaxis\":{\"gridcolor\":\"white\",\"linecolor\":\"white\",\"ticks\":\"\"},\"bgcolor\":\"#E5ECF6\",\"radialaxis\":{\"gridcolor\":\"white\",\"linecolor\":\"white\",\"ticks\":\"\"}},\"scene\":{\"xaxis\":{\"backgroundcolor\":\"#E5ECF6\",\"gridcolor\":\"white\",\"gridwidth\":2,\"linecolor\":\"white\",\"showbackground\":true,\"ticks\":\"\",\"zerolinecolor\":\"white\"},\"yaxis\":{\"backgroundcolor\":\"#E5ECF6\",\"gridcolor\":\"white\",\"gridwidth\":2,\"linecolor\":\"white\",\"showbackground\":true,\"ticks\":\"\",\"zerolinecolor\":\"white\"},\"zaxis\":{\"backgroundcolor\":\"#E5ECF6\",\"gridcolor\":\"white\",\"gridwidth\":2,\"linecolor\":\"white\",\"showbackground\":true,\"ticks\":\"\",\"zerolinecolor\":\"white\"}},\"shapedefaults\":{\"line\":{\"color\":\"#2a3f5f\"}},\"ternary\":{\"aaxis\":{\"gridcolor\":\"white\",\"linecolor\":\"white\",\"ticks\":\"\"},\"baxis\":{\"gridcolor\":\"white\",\"linecolor\":\"white\",\"ticks\":\"\"},\"bgcolor\":\"#E5ECF6\",\"caxis\":{\"gridcolor\":\"white\",\"linecolor\":\"white\",\"ticks\":\"\"}},\"title\":{\"x\":0.05},\"xaxis\":{\"automargin\":true,\"gridcolor\":\"white\",\"linecolor\":\"white\",\"ticks\":\"\",\"title\":{\"standoff\":15},\"zerolinecolor\":\"white\",\"zerolinewidth\":2},\"yaxis\":{\"automargin\":true,\"gridcolor\":\"white\",\"linecolor\":\"white\",\"ticks\":\"\",\"title\":{\"standoff\":15},\"zerolinecolor\":\"white\",\"zerolinewidth\":2}}},\"title\":{\"font\":{\"color\":\"#4D5663\"},\"text\":\"Hazard Rate Term Structure\"},\"xaxis\":{\"gridcolor\":\"#E1E5ED\",\"showgrid\":true,\"tickfont\":{\"color\":\"#4D5663\"},\"title\":{\"font\":{\"color\":\"#4D5663\"},\"text\":\"CDS Maturity\"},\"zerolinecolor\":\"#E1E5ED\"},\"yaxis\":{\"gridcolor\":\"#E1E5ED\",\"showgrid\":true,\"tickfont\":{\"color\":\"#4D5663\"},\"title\":{\"font\":{\"color\":\"#4D5663\"},\"text\":\"Hazard Rate\"},\"zerolinecolor\":\"#E1E5ED\"}},                        {\"showLink\": true, \"linkText\": \"Export to plot.ly\", \"plotlyServerURL\": \"https://plot.ly\", \"responsive\": true}                    ).then(function(){\n",
       "                            \n",
       "var gd = document.getElementById('afb3d732-da15-4b50-a061-797515a1828f');\n",
       "var x = new MutationObserver(function (mutations, observer) {{\n",
       "        var display = window.getComputedStyle(gd).display;\n",
       "        if (!display || display === 'none') {{\n",
       "            console.log([gd, 'removed!']);\n",
       "            Plotly.purge(gd);\n",
       "            observer.disconnect();\n",
       "        }}\n",
       "}});\n",
       "\n",
       "// Listen for the removal of the full notebook cells\n",
       "var notebookContainer = gd.closest('#notebook-container');\n",
       "if (notebookContainer) {{\n",
       "    x.observe(notebookContainer, {childList: true});\n",
       "}}\n",
       "\n",
       "// Listen for the clearing of the current output cell\n",
       "var outputEl = gd.closest('.output');\n",
       "if (outputEl) {{\n",
       "    x.observe(outputEl, {childList: true});\n",
       "}}\n",
       "\n",
       "                        })                };                });            </script>        </div>"
      ]
     },
     "metadata": {},
     "output_type": "display_data"
    }
   ],
   "source": [
    "# Hazard rate Term structure\n",
    "h_data = [np.hstack(Survival_data.Hazard[Survival_data.Country==i]) for i in names]\n",
    "Hazard = pd.DataFrame(np.transpose(h_data), columns = names , index = [str(i)+'Y' for i in Survival_data.Maturity.unique()])\n",
    "Hazard.iplot(title='Hazard Rate Term Structure', xTitle='CDS Maturity', yTitle='Hazard Rate')"
   ]
  },
  {
   "cell_type": "code",
   "execution_count": 25,
   "id": "7dbb1b77",
   "metadata": {},
   "outputs": [
    {
     "data": {
      "application/vnd.plotly.v1+json": {
       "config": {
        "linkText": "Export to plot.ly",
        "plotlyServerURL": "https://plot.ly",
        "showLink": true
       },
       "data": [
        {
         "line": {
          "color": "rgba(255, 153, 51, 1.0)",
          "dash": "solid",
          "shape": "linear",
          "width": 1.3
         },
         "mode": "lines",
         "name": "UAE",
         "text": "",
         "type": "scatter",
         "x": [
          "0.0Y",
          "0.5Y",
          "1.0Y",
          "2.0Y",
          "3.0Y",
          "4.0Y",
          "5.0Y",
          "7.0Y",
          "10.0Y"
         ],
         "y": [
          1,
          0.9989136813715086,
          0.997720010154341,
          0.9931087568056712,
          0.986544001260452,
          0.9775562574212715,
          0.9646959369250409,
          0.9313142698095871,
          0.881231522180167
         ]
        },
        {
         "line": {
          "color": "rgba(55, 128, 191, 1.0)",
          "dash": "solid",
          "shape": "linear",
          "width": 1.3
         },
         "mode": "lines",
         "name": "QATAR",
         "text": "",
         "type": "scatter",
         "x": [
          "0.0Y",
          "0.5Y",
          "1.0Y",
          "2.0Y",
          "3.0Y",
          "4.0Y",
          "5.0Y",
          "7.0Y",
          "10.0Y"
         ],
         "y": [
          1,
          0.9988205593894542,
          0.9974835377977297,
          0.9926357685002485,
          0.9849857343396626,
          0.9751240100462992,
          0.962013145289283,
          0.9248644216847859,
          0.8698620565888212
         ]
        },
        {
         "line": {
          "color": "rgba(50, 171, 96, 1.0)",
          "dash": "solid",
          "shape": "linear",
          "width": 1.3
         },
         "mode": "lines",
         "name": "SAUDI",
         "text": "",
         "type": "scatter",
         "x": [
          "0.0Y",
          "0.5Y",
          "1.0Y",
          "2.0Y",
          "3.0Y",
          "4.0Y",
          "5.0Y",
          "7.0Y",
          "10.0Y"
         ],
         "y": [
          1,
          0.9986742599199563,
          0.9964290919918527,
          0.9906165627080392,
          0.9818168643294282,
          0.9712459143252069,
          0.9565721169620938,
          0.9237429131020449,
          0.8674582429969271
         ]
        },
        {
         "line": {
          "color": "rgba(128, 0, 128, 1.0)",
          "dash": "solid",
          "shape": "linear",
          "width": 1.3
         },
         "mode": "lines",
         "name": "OMAN",
         "text": "",
         "type": "scatter",
         "x": [
          "0.0Y",
          "0.5Y",
          "1.0Y",
          "2.0Y",
          "3.0Y",
          "4.0Y",
          "5.0Y",
          "7.0Y",
          "10.0Y"
         ],
         "y": [
          1,
          0.9969659004429852,
          0.9921975846685847,
          0.9805488511623914,
          0.9629310760482239,
          0.9356788373882318,
          0.9034693635931405,
          0.8309197550048787,
          0.730018209722649
         ]
        },
        {
         "line": {
          "color": "rgba(219, 64, 82, 1.0)",
          "dash": "solid",
          "shape": "linear",
          "width": 1.3
         },
         "mode": "lines",
         "name": "BAHRAIN",
         "text": "",
         "type": "scatter",
         "x": [
          "0.0Y",
          "0.5Y",
          "1.0Y",
          "2.0Y",
          "3.0Y",
          "4.0Y",
          "5.0Y",
          "7.0Y",
          "10.0Y"
         ],
         "y": [
          1,
          0.9949564001814136,
          0.9862377776920828,
          0.9586871560994034,
          0.9251728364932689,
          0.8862681650805739,
          0.838996235101616,
          0.7514395851266817,
          0.641096317730552
         ]
        }
       ],
       "layout": {
        "legend": {
         "bgcolor": "#F5F6F9",
         "font": {
          "color": "#4D5663"
         }
        },
        "paper_bgcolor": "#F5F6F9",
        "plot_bgcolor": "#F5F6F9",
        "template": {
         "data": {
          "bar": [
           {
            "error_x": {
             "color": "#2a3f5f"
            },
            "error_y": {
             "color": "#2a3f5f"
            },
            "marker": {
             "line": {
              "color": "#E5ECF6",
              "width": 0.5
             },
             "pattern": {
              "fillmode": "overlay",
              "size": 10,
              "solidity": 0.2
             }
            },
            "type": "bar"
           }
          ],
          "barpolar": [
           {
            "marker": {
             "line": {
              "color": "#E5ECF6",
              "width": 0.5
             },
             "pattern": {
              "fillmode": "overlay",
              "size": 10,
              "solidity": 0.2
             }
            },
            "type": "barpolar"
           }
          ],
          "carpet": [
           {
            "aaxis": {
             "endlinecolor": "#2a3f5f",
             "gridcolor": "white",
             "linecolor": "white",
             "minorgridcolor": "white",
             "startlinecolor": "#2a3f5f"
            },
            "baxis": {
             "endlinecolor": "#2a3f5f",
             "gridcolor": "white",
             "linecolor": "white",
             "minorgridcolor": "white",
             "startlinecolor": "#2a3f5f"
            },
            "type": "carpet"
           }
          ],
          "choropleth": [
           {
            "colorbar": {
             "outlinewidth": 0,
             "ticks": ""
            },
            "type": "choropleth"
           }
          ],
          "contour": [
           {
            "colorbar": {
             "outlinewidth": 0,
             "ticks": ""
            },
            "colorscale": [
             [
              0,
              "#0d0887"
             ],
             [
              0.1111111111111111,
              "#46039f"
             ],
             [
              0.2222222222222222,
              "#7201a8"
             ],
             [
              0.3333333333333333,
              "#9c179e"
             ],
             [
              0.4444444444444444,
              "#bd3786"
             ],
             [
              0.5555555555555556,
              "#d8576b"
             ],
             [
              0.6666666666666666,
              "#ed7953"
             ],
             [
              0.7777777777777778,
              "#fb9f3a"
             ],
             [
              0.8888888888888888,
              "#fdca26"
             ],
             [
              1,
              "#f0f921"
             ]
            ],
            "type": "contour"
           }
          ],
          "contourcarpet": [
           {
            "colorbar": {
             "outlinewidth": 0,
             "ticks": ""
            },
            "type": "contourcarpet"
           }
          ],
          "heatmap": [
           {
            "colorbar": {
             "outlinewidth": 0,
             "ticks": ""
            },
            "colorscale": [
             [
              0,
              "#0d0887"
             ],
             [
              0.1111111111111111,
              "#46039f"
             ],
             [
              0.2222222222222222,
              "#7201a8"
             ],
             [
              0.3333333333333333,
              "#9c179e"
             ],
             [
              0.4444444444444444,
              "#bd3786"
             ],
             [
              0.5555555555555556,
              "#d8576b"
             ],
             [
              0.6666666666666666,
              "#ed7953"
             ],
             [
              0.7777777777777778,
              "#fb9f3a"
             ],
             [
              0.8888888888888888,
              "#fdca26"
             ],
             [
              1,
              "#f0f921"
             ]
            ],
            "type": "heatmap"
           }
          ],
          "heatmapgl": [
           {
            "colorbar": {
             "outlinewidth": 0,
             "ticks": ""
            },
            "colorscale": [
             [
              0,
              "#0d0887"
             ],
             [
              0.1111111111111111,
              "#46039f"
             ],
             [
              0.2222222222222222,
              "#7201a8"
             ],
             [
              0.3333333333333333,
              "#9c179e"
             ],
             [
              0.4444444444444444,
              "#bd3786"
             ],
             [
              0.5555555555555556,
              "#d8576b"
             ],
             [
              0.6666666666666666,
              "#ed7953"
             ],
             [
              0.7777777777777778,
              "#fb9f3a"
             ],
             [
              0.8888888888888888,
              "#fdca26"
             ],
             [
              1,
              "#f0f921"
             ]
            ],
            "type": "heatmapgl"
           }
          ],
          "histogram": [
           {
            "marker": {
             "pattern": {
              "fillmode": "overlay",
              "size": 10,
              "solidity": 0.2
             }
            },
            "type": "histogram"
           }
          ],
          "histogram2d": [
           {
            "colorbar": {
             "outlinewidth": 0,
             "ticks": ""
            },
            "colorscale": [
             [
              0,
              "#0d0887"
             ],
             [
              0.1111111111111111,
              "#46039f"
             ],
             [
              0.2222222222222222,
              "#7201a8"
             ],
             [
              0.3333333333333333,
              "#9c179e"
             ],
             [
              0.4444444444444444,
              "#bd3786"
             ],
             [
              0.5555555555555556,
              "#d8576b"
             ],
             [
              0.6666666666666666,
              "#ed7953"
             ],
             [
              0.7777777777777778,
              "#fb9f3a"
             ],
             [
              0.8888888888888888,
              "#fdca26"
             ],
             [
              1,
              "#f0f921"
             ]
            ],
            "type": "histogram2d"
           }
          ],
          "histogram2dcontour": [
           {
            "colorbar": {
             "outlinewidth": 0,
             "ticks": ""
            },
            "colorscale": [
             [
              0,
              "#0d0887"
             ],
             [
              0.1111111111111111,
              "#46039f"
             ],
             [
              0.2222222222222222,
              "#7201a8"
             ],
             [
              0.3333333333333333,
              "#9c179e"
             ],
             [
              0.4444444444444444,
              "#bd3786"
             ],
             [
              0.5555555555555556,
              "#d8576b"
             ],
             [
              0.6666666666666666,
              "#ed7953"
             ],
             [
              0.7777777777777778,
              "#fb9f3a"
             ],
             [
              0.8888888888888888,
              "#fdca26"
             ],
             [
              1,
              "#f0f921"
             ]
            ],
            "type": "histogram2dcontour"
           }
          ],
          "mesh3d": [
           {
            "colorbar": {
             "outlinewidth": 0,
             "ticks": ""
            },
            "type": "mesh3d"
           }
          ],
          "parcoords": [
           {
            "line": {
             "colorbar": {
              "outlinewidth": 0,
              "ticks": ""
             }
            },
            "type": "parcoords"
           }
          ],
          "pie": [
           {
            "automargin": true,
            "type": "pie"
           }
          ],
          "scatter": [
           {
            "fillpattern": {
             "fillmode": "overlay",
             "size": 10,
             "solidity": 0.2
            },
            "type": "scatter"
           }
          ],
          "scatter3d": [
           {
            "line": {
             "colorbar": {
              "outlinewidth": 0,
              "ticks": ""
             }
            },
            "marker": {
             "colorbar": {
              "outlinewidth": 0,
              "ticks": ""
             }
            },
            "type": "scatter3d"
           }
          ],
          "scattercarpet": [
           {
            "marker": {
             "colorbar": {
              "outlinewidth": 0,
              "ticks": ""
             }
            },
            "type": "scattercarpet"
           }
          ],
          "scattergeo": [
           {
            "marker": {
             "colorbar": {
              "outlinewidth": 0,
              "ticks": ""
             }
            },
            "type": "scattergeo"
           }
          ],
          "scattergl": [
           {
            "marker": {
             "colorbar": {
              "outlinewidth": 0,
              "ticks": ""
             }
            },
            "type": "scattergl"
           }
          ],
          "scattermapbox": [
           {
            "marker": {
             "colorbar": {
              "outlinewidth": 0,
              "ticks": ""
             }
            },
            "type": "scattermapbox"
           }
          ],
          "scatterpolar": [
           {
            "marker": {
             "colorbar": {
              "outlinewidth": 0,
              "ticks": ""
             }
            },
            "type": "scatterpolar"
           }
          ],
          "scatterpolargl": [
           {
            "marker": {
             "colorbar": {
              "outlinewidth": 0,
              "ticks": ""
             }
            },
            "type": "scatterpolargl"
           }
          ],
          "scatterternary": [
           {
            "marker": {
             "colorbar": {
              "outlinewidth": 0,
              "ticks": ""
             }
            },
            "type": "scatterternary"
           }
          ],
          "surface": [
           {
            "colorbar": {
             "outlinewidth": 0,
             "ticks": ""
            },
            "colorscale": [
             [
              0,
              "#0d0887"
             ],
             [
              0.1111111111111111,
              "#46039f"
             ],
             [
              0.2222222222222222,
              "#7201a8"
             ],
             [
              0.3333333333333333,
              "#9c179e"
             ],
             [
              0.4444444444444444,
              "#bd3786"
             ],
             [
              0.5555555555555556,
              "#d8576b"
             ],
             [
              0.6666666666666666,
              "#ed7953"
             ],
             [
              0.7777777777777778,
              "#fb9f3a"
             ],
             [
              0.8888888888888888,
              "#fdca26"
             ],
             [
              1,
              "#f0f921"
             ]
            ],
            "type": "surface"
           }
          ],
          "table": [
           {
            "cells": {
             "fill": {
              "color": "#EBF0F8"
             },
             "line": {
              "color": "white"
             }
            },
            "header": {
             "fill": {
              "color": "#C8D4E3"
             },
             "line": {
              "color": "white"
             }
            },
            "type": "table"
           }
          ]
         },
         "layout": {
          "annotationdefaults": {
           "arrowcolor": "#2a3f5f",
           "arrowhead": 0,
           "arrowwidth": 1
          },
          "autotypenumbers": "strict",
          "coloraxis": {
           "colorbar": {
            "outlinewidth": 0,
            "ticks": ""
           }
          },
          "colorscale": {
           "diverging": [
            [
             0,
             "#8e0152"
            ],
            [
             0.1,
             "#c51b7d"
            ],
            [
             0.2,
             "#de77ae"
            ],
            [
             0.3,
             "#f1b6da"
            ],
            [
             0.4,
             "#fde0ef"
            ],
            [
             0.5,
             "#f7f7f7"
            ],
            [
             0.6,
             "#e6f5d0"
            ],
            [
             0.7,
             "#b8e186"
            ],
            [
             0.8,
             "#7fbc41"
            ],
            [
             0.9,
             "#4d9221"
            ],
            [
             1,
             "#276419"
            ]
           ],
           "sequential": [
            [
             0,
             "#0d0887"
            ],
            [
             0.1111111111111111,
             "#46039f"
            ],
            [
             0.2222222222222222,
             "#7201a8"
            ],
            [
             0.3333333333333333,
             "#9c179e"
            ],
            [
             0.4444444444444444,
             "#bd3786"
            ],
            [
             0.5555555555555556,
             "#d8576b"
            ],
            [
             0.6666666666666666,
             "#ed7953"
            ],
            [
             0.7777777777777778,
             "#fb9f3a"
            ],
            [
             0.8888888888888888,
             "#fdca26"
            ],
            [
             1,
             "#f0f921"
            ]
           ],
           "sequentialminus": [
            [
             0,
             "#0d0887"
            ],
            [
             0.1111111111111111,
             "#46039f"
            ],
            [
             0.2222222222222222,
             "#7201a8"
            ],
            [
             0.3333333333333333,
             "#9c179e"
            ],
            [
             0.4444444444444444,
             "#bd3786"
            ],
            [
             0.5555555555555556,
             "#d8576b"
            ],
            [
             0.6666666666666666,
             "#ed7953"
            ],
            [
             0.7777777777777778,
             "#fb9f3a"
            ],
            [
             0.8888888888888888,
             "#fdca26"
            ],
            [
             1,
             "#f0f921"
            ]
           ]
          },
          "colorway": [
           "#636efa",
           "#EF553B",
           "#00cc96",
           "#ab63fa",
           "#FFA15A",
           "#19d3f3",
           "#FF6692",
           "#B6E880",
           "#FF97FF",
           "#FECB52"
          ],
          "font": {
           "color": "#2a3f5f"
          },
          "geo": {
           "bgcolor": "white",
           "lakecolor": "white",
           "landcolor": "#E5ECF6",
           "showlakes": true,
           "showland": true,
           "subunitcolor": "white"
          },
          "hoverlabel": {
           "align": "left"
          },
          "hovermode": "closest",
          "mapbox": {
           "style": "light"
          },
          "paper_bgcolor": "white",
          "plot_bgcolor": "#E5ECF6",
          "polar": {
           "angularaxis": {
            "gridcolor": "white",
            "linecolor": "white",
            "ticks": ""
           },
           "bgcolor": "#E5ECF6",
           "radialaxis": {
            "gridcolor": "white",
            "linecolor": "white",
            "ticks": ""
           }
          },
          "scene": {
           "xaxis": {
            "backgroundcolor": "#E5ECF6",
            "gridcolor": "white",
            "gridwidth": 2,
            "linecolor": "white",
            "showbackground": true,
            "ticks": "",
            "zerolinecolor": "white"
           },
           "yaxis": {
            "backgroundcolor": "#E5ECF6",
            "gridcolor": "white",
            "gridwidth": 2,
            "linecolor": "white",
            "showbackground": true,
            "ticks": "",
            "zerolinecolor": "white"
           },
           "zaxis": {
            "backgroundcolor": "#E5ECF6",
            "gridcolor": "white",
            "gridwidth": 2,
            "linecolor": "white",
            "showbackground": true,
            "ticks": "",
            "zerolinecolor": "white"
           }
          },
          "shapedefaults": {
           "line": {
            "color": "#2a3f5f"
           }
          },
          "ternary": {
           "aaxis": {
            "gridcolor": "white",
            "linecolor": "white",
            "ticks": ""
           },
           "baxis": {
            "gridcolor": "white",
            "linecolor": "white",
            "ticks": ""
           },
           "bgcolor": "#E5ECF6",
           "caxis": {
            "gridcolor": "white",
            "linecolor": "white",
            "ticks": ""
           }
          },
          "title": {
           "x": 0.05
          },
          "xaxis": {
           "automargin": true,
           "gridcolor": "white",
           "linecolor": "white",
           "ticks": "",
           "title": {
            "standoff": 15
           },
           "zerolinecolor": "white",
           "zerolinewidth": 2
          },
          "yaxis": {
           "automargin": true,
           "gridcolor": "white",
           "linecolor": "white",
           "ticks": "",
           "title": {
            "standoff": 15
           },
           "zerolinecolor": "white",
           "zerolinewidth": 2
          }
         }
        },
        "title": {
         "font": {
          "color": "#4D5663"
         },
         "text": "Survival Rate Term Structure"
        },
        "xaxis": {
         "gridcolor": "#E1E5ED",
         "showgrid": true,
         "tickfont": {
          "color": "#4D5663"
         },
         "title": {
          "font": {
           "color": "#4D5663"
          },
          "text": "CDS Maturity"
         },
         "zerolinecolor": "#E1E5ED"
        },
        "yaxis": {
         "gridcolor": "#E1E5ED",
         "showgrid": true,
         "tickfont": {
          "color": "#4D5663"
         },
         "title": {
          "font": {
           "color": "#4D5663"
          },
          "text": "Survival Rate"
         },
         "zerolinecolor": "#E1E5ED"
        }
       }
      },
      "text/html": [
       "<div>                            <div id=\"5b5b41ae-453d-4174-85c4-aecff37346ff\" class=\"plotly-graph-div\" style=\"height:525px; width:100%;\"></div>            <script type=\"text/javascript\">                require([\"plotly\"], function(Plotly) {                    window.PLOTLYENV=window.PLOTLYENV || {};\n",
       "                    window.PLOTLYENV.BASE_URL='https://plot.ly';                                    if (document.getElementById(\"5b5b41ae-453d-4174-85c4-aecff37346ff\")) {                    Plotly.newPlot(                        \"5b5b41ae-453d-4174-85c4-aecff37346ff\",                        [{\"line\":{\"color\":\"rgba(255, 153, 51, 1.0)\",\"dash\":\"solid\",\"shape\":\"linear\",\"width\":1.3},\"mode\":\"lines\",\"name\":\"UAE\",\"text\":\"\",\"x\":[\"0.0Y\",\"0.5Y\",\"1.0Y\",\"2.0Y\",\"3.0Y\",\"4.0Y\",\"5.0Y\",\"7.0Y\",\"10.0Y\"],\"y\":[1.0,0.9989136813715086,0.997720010154341,0.9931087568056712,0.986544001260452,0.9775562574212715,0.9646959369250409,0.9313142698095871,0.881231522180167],\"type\":\"scatter\"},{\"line\":{\"color\":\"rgba(55, 128, 191, 1.0)\",\"dash\":\"solid\",\"shape\":\"linear\",\"width\":1.3},\"mode\":\"lines\",\"name\":\"QATAR\",\"text\":\"\",\"x\":[\"0.0Y\",\"0.5Y\",\"1.0Y\",\"2.0Y\",\"3.0Y\",\"4.0Y\",\"5.0Y\",\"7.0Y\",\"10.0Y\"],\"y\":[1.0,0.9988205593894542,0.9974835377977297,0.9926357685002485,0.9849857343396626,0.9751240100462992,0.962013145289283,0.9248644216847859,0.8698620565888212],\"type\":\"scatter\"},{\"line\":{\"color\":\"rgba(50, 171, 96, 1.0)\",\"dash\":\"solid\",\"shape\":\"linear\",\"width\":1.3},\"mode\":\"lines\",\"name\":\"SAUDI\",\"text\":\"\",\"x\":[\"0.0Y\",\"0.5Y\",\"1.0Y\",\"2.0Y\",\"3.0Y\",\"4.0Y\",\"5.0Y\",\"7.0Y\",\"10.0Y\"],\"y\":[1.0,0.9986742599199563,0.9964290919918527,0.9906165627080392,0.9818168643294282,0.9712459143252069,0.9565721169620938,0.9237429131020449,0.8674582429969271],\"type\":\"scatter\"},{\"line\":{\"color\":\"rgba(128, 0, 128, 1.0)\",\"dash\":\"solid\",\"shape\":\"linear\",\"width\":1.3},\"mode\":\"lines\",\"name\":\"OMAN\",\"text\":\"\",\"x\":[\"0.0Y\",\"0.5Y\",\"1.0Y\",\"2.0Y\",\"3.0Y\",\"4.0Y\",\"5.0Y\",\"7.0Y\",\"10.0Y\"],\"y\":[1.0,0.9969659004429852,0.9921975846685847,0.9805488511623914,0.9629310760482239,0.9356788373882318,0.9034693635931405,0.8309197550048787,0.730018209722649],\"type\":\"scatter\"},{\"line\":{\"color\":\"rgba(219, 64, 82, 1.0)\",\"dash\":\"solid\",\"shape\":\"linear\",\"width\":1.3},\"mode\":\"lines\",\"name\":\"BAHRAIN\",\"text\":\"\",\"x\":[\"0.0Y\",\"0.5Y\",\"1.0Y\",\"2.0Y\",\"3.0Y\",\"4.0Y\",\"5.0Y\",\"7.0Y\",\"10.0Y\"],\"y\":[1.0,0.9949564001814136,0.9862377776920828,0.9586871560994034,0.9251728364932689,0.8862681650805739,0.838996235101616,0.7514395851266817,0.641096317730552],\"type\":\"scatter\"}],                        {\"legend\":{\"bgcolor\":\"#F5F6F9\",\"font\":{\"color\":\"#4D5663\"}},\"paper_bgcolor\":\"#F5F6F9\",\"plot_bgcolor\":\"#F5F6F9\",\"template\":{\"data\":{\"barpolar\":[{\"marker\":{\"line\":{\"color\":\"#E5ECF6\",\"width\":0.5},\"pattern\":{\"fillmode\":\"overlay\",\"size\":10,\"solidity\":0.2}},\"type\":\"barpolar\"}],\"bar\":[{\"error_x\":{\"color\":\"#2a3f5f\"},\"error_y\":{\"color\":\"#2a3f5f\"},\"marker\":{\"line\":{\"color\":\"#E5ECF6\",\"width\":0.5},\"pattern\":{\"fillmode\":\"overlay\",\"size\":10,\"solidity\":0.2}},\"type\":\"bar\"}],\"carpet\":[{\"aaxis\":{\"endlinecolor\":\"#2a3f5f\",\"gridcolor\":\"white\",\"linecolor\":\"white\",\"minorgridcolor\":\"white\",\"startlinecolor\":\"#2a3f5f\"},\"baxis\":{\"endlinecolor\":\"#2a3f5f\",\"gridcolor\":\"white\",\"linecolor\":\"white\",\"minorgridcolor\":\"white\",\"startlinecolor\":\"#2a3f5f\"},\"type\":\"carpet\"}],\"choropleth\":[{\"colorbar\":{\"outlinewidth\":0,\"ticks\":\"\"},\"type\":\"choropleth\"}],\"contourcarpet\":[{\"colorbar\":{\"outlinewidth\":0,\"ticks\":\"\"},\"type\":\"contourcarpet\"}],\"contour\":[{\"colorbar\":{\"outlinewidth\":0,\"ticks\":\"\"},\"colorscale\":[[0.0,\"#0d0887\"],[0.1111111111111111,\"#46039f\"],[0.2222222222222222,\"#7201a8\"],[0.3333333333333333,\"#9c179e\"],[0.4444444444444444,\"#bd3786\"],[0.5555555555555556,\"#d8576b\"],[0.6666666666666666,\"#ed7953\"],[0.7777777777777778,\"#fb9f3a\"],[0.8888888888888888,\"#fdca26\"],[1.0,\"#f0f921\"]],\"type\":\"contour\"}],\"heatmapgl\":[{\"colorbar\":{\"outlinewidth\":0,\"ticks\":\"\"},\"colorscale\":[[0.0,\"#0d0887\"],[0.1111111111111111,\"#46039f\"],[0.2222222222222222,\"#7201a8\"],[0.3333333333333333,\"#9c179e\"],[0.4444444444444444,\"#bd3786\"],[0.5555555555555556,\"#d8576b\"],[0.6666666666666666,\"#ed7953\"],[0.7777777777777778,\"#fb9f3a\"],[0.8888888888888888,\"#fdca26\"],[1.0,\"#f0f921\"]],\"type\":\"heatmapgl\"}],\"heatmap\":[{\"colorbar\":{\"outlinewidth\":0,\"ticks\":\"\"},\"colorscale\":[[0.0,\"#0d0887\"],[0.1111111111111111,\"#46039f\"],[0.2222222222222222,\"#7201a8\"],[0.3333333333333333,\"#9c179e\"],[0.4444444444444444,\"#bd3786\"],[0.5555555555555556,\"#d8576b\"],[0.6666666666666666,\"#ed7953\"],[0.7777777777777778,\"#fb9f3a\"],[0.8888888888888888,\"#fdca26\"],[1.0,\"#f0f921\"]],\"type\":\"heatmap\"}],\"histogram2dcontour\":[{\"colorbar\":{\"outlinewidth\":0,\"ticks\":\"\"},\"colorscale\":[[0.0,\"#0d0887\"],[0.1111111111111111,\"#46039f\"],[0.2222222222222222,\"#7201a8\"],[0.3333333333333333,\"#9c179e\"],[0.4444444444444444,\"#bd3786\"],[0.5555555555555556,\"#d8576b\"],[0.6666666666666666,\"#ed7953\"],[0.7777777777777778,\"#fb9f3a\"],[0.8888888888888888,\"#fdca26\"],[1.0,\"#f0f921\"]],\"type\":\"histogram2dcontour\"}],\"histogram2d\":[{\"colorbar\":{\"outlinewidth\":0,\"ticks\":\"\"},\"colorscale\":[[0.0,\"#0d0887\"],[0.1111111111111111,\"#46039f\"],[0.2222222222222222,\"#7201a8\"],[0.3333333333333333,\"#9c179e\"],[0.4444444444444444,\"#bd3786\"],[0.5555555555555556,\"#d8576b\"],[0.6666666666666666,\"#ed7953\"],[0.7777777777777778,\"#fb9f3a\"],[0.8888888888888888,\"#fdca26\"],[1.0,\"#f0f921\"]],\"type\":\"histogram2d\"}],\"histogram\":[{\"marker\":{\"pattern\":{\"fillmode\":\"overlay\",\"size\":10,\"solidity\":0.2}},\"type\":\"histogram\"}],\"mesh3d\":[{\"colorbar\":{\"outlinewidth\":0,\"ticks\":\"\"},\"type\":\"mesh3d\"}],\"parcoords\":[{\"line\":{\"colorbar\":{\"outlinewidth\":0,\"ticks\":\"\"}},\"type\":\"parcoords\"}],\"pie\":[{\"automargin\":true,\"type\":\"pie\"}],\"scatter3d\":[{\"line\":{\"colorbar\":{\"outlinewidth\":0,\"ticks\":\"\"}},\"marker\":{\"colorbar\":{\"outlinewidth\":0,\"ticks\":\"\"}},\"type\":\"scatter3d\"}],\"scattercarpet\":[{\"marker\":{\"colorbar\":{\"outlinewidth\":0,\"ticks\":\"\"}},\"type\":\"scattercarpet\"}],\"scattergeo\":[{\"marker\":{\"colorbar\":{\"outlinewidth\":0,\"ticks\":\"\"}},\"type\":\"scattergeo\"}],\"scattergl\":[{\"marker\":{\"colorbar\":{\"outlinewidth\":0,\"ticks\":\"\"}},\"type\":\"scattergl\"}],\"scattermapbox\":[{\"marker\":{\"colorbar\":{\"outlinewidth\":0,\"ticks\":\"\"}},\"type\":\"scattermapbox\"}],\"scatterpolargl\":[{\"marker\":{\"colorbar\":{\"outlinewidth\":0,\"ticks\":\"\"}},\"type\":\"scatterpolargl\"}],\"scatterpolar\":[{\"marker\":{\"colorbar\":{\"outlinewidth\":0,\"ticks\":\"\"}},\"type\":\"scatterpolar\"}],\"scatter\":[{\"fillpattern\":{\"fillmode\":\"overlay\",\"size\":10,\"solidity\":0.2},\"type\":\"scatter\"}],\"scatterternary\":[{\"marker\":{\"colorbar\":{\"outlinewidth\":0,\"ticks\":\"\"}},\"type\":\"scatterternary\"}],\"surface\":[{\"colorbar\":{\"outlinewidth\":0,\"ticks\":\"\"},\"colorscale\":[[0.0,\"#0d0887\"],[0.1111111111111111,\"#46039f\"],[0.2222222222222222,\"#7201a8\"],[0.3333333333333333,\"#9c179e\"],[0.4444444444444444,\"#bd3786\"],[0.5555555555555556,\"#d8576b\"],[0.6666666666666666,\"#ed7953\"],[0.7777777777777778,\"#fb9f3a\"],[0.8888888888888888,\"#fdca26\"],[1.0,\"#f0f921\"]],\"type\":\"surface\"}],\"table\":[{\"cells\":{\"fill\":{\"color\":\"#EBF0F8\"},\"line\":{\"color\":\"white\"}},\"header\":{\"fill\":{\"color\":\"#C8D4E3\"},\"line\":{\"color\":\"white\"}},\"type\":\"table\"}]},\"layout\":{\"annotationdefaults\":{\"arrowcolor\":\"#2a3f5f\",\"arrowhead\":0,\"arrowwidth\":1},\"autotypenumbers\":\"strict\",\"coloraxis\":{\"colorbar\":{\"outlinewidth\":0,\"ticks\":\"\"}},\"colorscale\":{\"diverging\":[[0,\"#8e0152\"],[0.1,\"#c51b7d\"],[0.2,\"#de77ae\"],[0.3,\"#f1b6da\"],[0.4,\"#fde0ef\"],[0.5,\"#f7f7f7\"],[0.6,\"#e6f5d0\"],[0.7,\"#b8e186\"],[0.8,\"#7fbc41\"],[0.9,\"#4d9221\"],[1,\"#276419\"]],\"sequential\":[[0.0,\"#0d0887\"],[0.1111111111111111,\"#46039f\"],[0.2222222222222222,\"#7201a8\"],[0.3333333333333333,\"#9c179e\"],[0.4444444444444444,\"#bd3786\"],[0.5555555555555556,\"#d8576b\"],[0.6666666666666666,\"#ed7953\"],[0.7777777777777778,\"#fb9f3a\"],[0.8888888888888888,\"#fdca26\"],[1.0,\"#f0f921\"]],\"sequentialminus\":[[0.0,\"#0d0887\"],[0.1111111111111111,\"#46039f\"],[0.2222222222222222,\"#7201a8\"],[0.3333333333333333,\"#9c179e\"],[0.4444444444444444,\"#bd3786\"],[0.5555555555555556,\"#d8576b\"],[0.6666666666666666,\"#ed7953\"],[0.7777777777777778,\"#fb9f3a\"],[0.8888888888888888,\"#fdca26\"],[1.0,\"#f0f921\"]]},\"colorway\":[\"#636efa\",\"#EF553B\",\"#00cc96\",\"#ab63fa\",\"#FFA15A\",\"#19d3f3\",\"#FF6692\",\"#B6E880\",\"#FF97FF\",\"#FECB52\"],\"font\":{\"color\":\"#2a3f5f\"},\"geo\":{\"bgcolor\":\"white\",\"lakecolor\":\"white\",\"landcolor\":\"#E5ECF6\",\"showlakes\":true,\"showland\":true,\"subunitcolor\":\"white\"},\"hoverlabel\":{\"align\":\"left\"},\"hovermode\":\"closest\",\"mapbox\":{\"style\":\"light\"},\"paper_bgcolor\":\"white\",\"plot_bgcolor\":\"#E5ECF6\",\"polar\":{\"angularaxis\":{\"gridcolor\":\"white\",\"linecolor\":\"white\",\"ticks\":\"\"},\"bgcolor\":\"#E5ECF6\",\"radialaxis\":{\"gridcolor\":\"white\",\"linecolor\":\"white\",\"ticks\":\"\"}},\"scene\":{\"xaxis\":{\"backgroundcolor\":\"#E5ECF6\",\"gridcolor\":\"white\",\"gridwidth\":2,\"linecolor\":\"white\",\"showbackground\":true,\"ticks\":\"\",\"zerolinecolor\":\"white\"},\"yaxis\":{\"backgroundcolor\":\"#E5ECF6\",\"gridcolor\":\"white\",\"gridwidth\":2,\"linecolor\":\"white\",\"showbackground\":true,\"ticks\":\"\",\"zerolinecolor\":\"white\"},\"zaxis\":{\"backgroundcolor\":\"#E5ECF6\",\"gridcolor\":\"white\",\"gridwidth\":2,\"linecolor\":\"white\",\"showbackground\":true,\"ticks\":\"\",\"zerolinecolor\":\"white\"}},\"shapedefaults\":{\"line\":{\"color\":\"#2a3f5f\"}},\"ternary\":{\"aaxis\":{\"gridcolor\":\"white\",\"linecolor\":\"white\",\"ticks\":\"\"},\"baxis\":{\"gridcolor\":\"white\",\"linecolor\":\"white\",\"ticks\":\"\"},\"bgcolor\":\"#E5ECF6\",\"caxis\":{\"gridcolor\":\"white\",\"linecolor\":\"white\",\"ticks\":\"\"}},\"title\":{\"x\":0.05},\"xaxis\":{\"automargin\":true,\"gridcolor\":\"white\",\"linecolor\":\"white\",\"ticks\":\"\",\"title\":{\"standoff\":15},\"zerolinecolor\":\"white\",\"zerolinewidth\":2},\"yaxis\":{\"automargin\":true,\"gridcolor\":\"white\",\"linecolor\":\"white\",\"ticks\":\"\",\"title\":{\"standoff\":15},\"zerolinecolor\":\"white\",\"zerolinewidth\":2}}},\"title\":{\"font\":{\"color\":\"#4D5663\"},\"text\":\"Survival Rate Term Structure\"},\"xaxis\":{\"gridcolor\":\"#E1E5ED\",\"showgrid\":true,\"tickfont\":{\"color\":\"#4D5663\"},\"title\":{\"font\":{\"color\":\"#4D5663\"},\"text\":\"CDS Maturity\"},\"zerolinecolor\":\"#E1E5ED\"},\"yaxis\":{\"gridcolor\":\"#E1E5ED\",\"showgrid\":true,\"tickfont\":{\"color\":\"#4D5663\"},\"title\":{\"font\":{\"color\":\"#4D5663\"},\"text\":\"Survival Rate\"},\"zerolinecolor\":\"#E1E5ED\"}},                        {\"showLink\": true, \"linkText\": \"Export to plot.ly\", \"plotlyServerURL\": \"https://plot.ly\", \"responsive\": true}                    ).then(function(){\n",
       "                            \n",
       "var gd = document.getElementById('5b5b41ae-453d-4174-85c4-aecff37346ff');\n",
       "var x = new MutationObserver(function (mutations, observer) {{\n",
       "        var display = window.getComputedStyle(gd).display;\n",
       "        if (!display || display === 'none') {{\n",
       "            console.log([gd, 'removed!']);\n",
       "            Plotly.purge(gd);\n",
       "            observer.disconnect();\n",
       "        }}\n",
       "}});\n",
       "\n",
       "// Listen for the removal of the full notebook cells\n",
       "var notebookContainer = gd.closest('#notebook-container');\n",
       "if (notebookContainer) {{\n",
       "    x.observe(notebookContainer, {childList: true});\n",
       "}}\n",
       "\n",
       "// Listen for the clearing of the current output cell\n",
       "var outputEl = gd.closest('.output');\n",
       "if (outputEl) {{\n",
       "    x.observe(outputEl, {childList: true});\n",
       "}}\n",
       "\n",
       "                        })                };                });            </script>        </div>"
      ]
     },
     "metadata": {},
     "output_type": "display_data"
    }
   ],
   "source": [
    "# Survival rate Term structure\n",
    "s_data = [np.hstack(Survival_data.Survival[Survival_data.Country==i]) for i in names]\n",
    "Survival = pd.DataFrame(np.transpose(s_data), columns = names , index = [str(i)+'Y' for i in Survival_data.Maturity.unique()])\n",
    "Survival.iplot(title='Survival Rate Term Structure', xTitle='CDS Maturity', yTitle='Survival Rate')"
   ]
  },
  {
   "cell_type": "markdown",
   "id": "a39d53df",
   "metadata": {},
   "source": [
    "### 4.4 Effect of recovery rate\n",
    "\n",
    "Let's have a look at one entity and how a change of recovery rate can affect the calculation"
   ]
  },
  {
   "cell_type": "code",
   "execution_count": 26,
   "id": "859bffb6",
   "metadata": {},
   "outputs": [],
   "source": [
    "# UAE as an example\n",
    "UAE = CDS_market[CDS_market.COUNTRY == 'UAE'].reset_index()"
   ]
  },
  {
   "cell_type": "code",
   "execution_count": 27,
   "id": "6db1d175",
   "metadata": {},
   "outputs": [],
   "source": [
    "#get_survival_probability(UAE.tenor,UAE.disc_factors,UAE.mid,0.25,plot_prob=True,plot_hazard=True)"
   ]
  },
  {
   "cell_type": "code",
   "execution_count": 28,
   "id": "00c0b392",
   "metadata": {},
   "outputs": [
    {
     "data": {
      "application/vnd.plotly.v1+json": {
       "config": {
        "linkText": "Export to plot.ly",
        "plotlyServerURL": "https://plot.ly",
        "showLink": true
       },
       "data": [
        {
         "line": {
          "color": "rgba(255, 153, 51, 1.0)",
          "dash": "solid",
          "shape": "linear",
          "width": 1.3
         },
         "mode": "lines",
         "name": "10.0",
         "text": "",
         "type": "scatter",
         "x": [
          "0.0Y",
          "0.5Y",
          "1.0Y",
          "2.0Y",
          "3.0Y",
          "4.0Y",
          "5.0Y",
          "7.0Y",
          "10.0Y"
         ],
         "y": [
          1,
          0.999275525244198,
          0.9984791535634892,
          0.9953993008258589,
          0.9910075162382825,
          0.9849825147221535,
          0.9763401633086677,
          0.9537441919466432,
          0.9193287345459178
         ]
        },
        {
         "line": {
          "color": "rgba(55, 128, 191, 1.0)",
          "dash": "solid",
          "shape": "linear",
          "width": 1.3
         },
         "mode": "lines",
         "name": "20.0",
         "text": "",
         "type": "scatter",
         "x": [
          "0.0Y",
          "0.5Y",
          "1.0Y",
          "2.0Y",
          "3.0Y",
          "4.0Y",
          "5.0Y",
          "7.0Y",
          "10.0Y"
         ],
         "y": [
          1,
          0.9991850397019931,
          0.9982892878125795,
          0.9948260536804148,
          0.9898896010968529,
          0.983120827769862,
          0.9734176024518391,
          0.948093852661161,
          0.9096691092019641
         ]
        },
        {
         "line": {
          "color": "rgba(50, 171, 96, 1.0)",
          "dash": "solid",
          "shape": "linear",
          "width": 1.3
         },
         "mode": "lines",
         "name": "30.0",
         "text": "",
         "type": "scatter",
         "x": [
          "0.0Y",
          "0.5Y",
          "1.0Y",
          "2.0Y",
          "3.0Y",
          "4.0Y",
          "5.0Y",
          "7.0Y",
          "10.0Y"
         ],
         "y": [
          1,
          0.9990687252239877,
          0.9980452529889753,
          0.9940896206220597,
          0.9884542781452187,
          0.9807322544076121,
          0.9696713124629694,
          0.9408712550184708,
          0.8973829774419326
         ]
        },
        {
         "line": {
          "color": "rgba(128, 0, 128, 1.0)",
          "dash": "solid",
          "shape": "linear",
          "width": 1.3
         },
         "mode": "lines",
         "name": "40.0",
         "text": "",
         "type": "scatter",
         "x": [
          "0.0Y",
          "0.5Y",
          "1.0Y",
          "2.0Y",
          "3.0Y",
          "4.0Y",
          "5.0Y",
          "7.0Y",
          "10.0Y"
         ],
         "y": [
          1,
          0.9989136813715086,
          0.997720010154341,
          0.9931087568056712,
          0.986544001260452,
          0.9775562574212715,
          0.9646959369250409,
          0.9313142698095871,
          0.881231522180167
         ]
        },
        {
         "line": {
          "color": "rgba(219, 64, 82, 1.0)",
          "dash": "solid",
          "shape": "linear",
          "width": 1.3
         },
         "mode": "lines",
         "name": "50.0",
         "text": "",
         "type": "scatter",
         "x": [
          "0.0Y",
          "0.5Y",
          "1.0Y",
          "2.0Y",
          "3.0Y",
          "4.0Y",
          "5.0Y",
          "7.0Y",
          "10.0Y"
         ],
         "y": [
          1,
          0.998696700805449,
          0.9972649329154792,
          0.991737554209036,
          0.9838762910486969,
          0.9731266313022316,
          0.9577679948376719,
          0.9180734612605237,
          0.8590526250666923
         ]
        },
        {
         "line": {
          "color": "rgba(0, 128, 128, 1.0)",
          "dash": "solid",
          "shape": "linear",
          "width": 1.3
         },
         "mode": "lines",
         "name": "60.0",
         "text": "",
         "type": "scatter",
         "x": [
          "0.0Y",
          "0.5Y",
          "1.0Y",
          "2.0Y",
          "3.0Y",
          "4.0Y",
          "5.0Y",
          "7.0Y",
          "10.0Y"
         ],
         "y": [
          1,
          0.9983714066429138,
          0.9965828912278788,
          0.9896851296130305,
          0.9798892774766356,
          0.966518677071284,
          0.9474576828157732,
          0.8985117314890158,
          0.8267057778222502
         ]
        },
        {
         "line": {
          "color": "rgba(255, 255, 51, 1.0)",
          "dash": "solid",
          "shape": "linear",
          "width": 1.3
         },
         "mode": "lines",
         "name": "70.0",
         "text": "",
         "type": "scatter",
         "x": [
          "0.0Y",
          "0.5Y",
          "1.0Y",
          "2.0Y",
          "3.0Y",
          "4.0Y",
          "5.0Y",
          "7.0Y",
          "10.0Y"
         ],
         "y": [
          1,
          0.9978297203582208,
          0.9954476839243569,
          0.9862760568740091,
          0.9732828322203766,
          0.9556018959162053,
          0.9304889174824218,
          0.8666891763511384,
          0.775148471880168
         ]
        },
        {
         "line": {
          "color": "rgba(128, 128, 0, 1.0)",
          "dash": "solid",
          "shape": "linear",
          "width": 1.3
         },
         "mode": "lines",
         "name": "80.0",
         "text": "",
         "type": "scatter",
         "x": [
          "0.0Y",
          "0.5Y",
          "1.0Y",
          "2.0Y",
          "3.0Y",
          "4.0Y",
          "5.0Y",
          "7.0Y",
          "10.0Y"
         ],
         "y": [
          1,
          0.9967481092934302,
          0.993182987133721,
          0.9795012527289708,
          0.9602130887248645,
          0.9341246816688513,
          0.8973413221745722,
          0.8058517658385922,
          0.6802154824897813
         ]
        },
        {
         "line": {
          "color": "rgba(251, 128, 114, 1.0)",
          "dash": "solid",
          "shape": "linear",
          "width": 1.3
         },
         "mode": "lines",
         "name": "90.0",
         "text": "",
         "type": "scatter",
         "x": [
          "0.0Y",
          "0.5Y",
          "1.0Y",
          "2.0Y",
          "3.0Y",
          "4.0Y",
          "5.0Y",
          "7.0Y",
          "10.0Y"
         ],
         "y": [
          1,
          0.9935172996199796,
          0.9864343344775699,
          0.9595178749733814,
          0.9221194271459372,
          0.872438815927497,
          0.8039003244413406,
          0.643646826162534,
          0.44998918865899085
         ]
        }
       ],
       "layout": {
        "legend": {
         "bgcolor": "#F5F6F9",
         "font": {
          "color": "#4D5663"
         }
        },
        "paper_bgcolor": "#F5F6F9",
        "plot_bgcolor": "#F5F6F9",
        "template": {
         "data": {
          "bar": [
           {
            "error_x": {
             "color": "#2a3f5f"
            },
            "error_y": {
             "color": "#2a3f5f"
            },
            "marker": {
             "line": {
              "color": "#E5ECF6",
              "width": 0.5
             },
             "pattern": {
              "fillmode": "overlay",
              "size": 10,
              "solidity": 0.2
             }
            },
            "type": "bar"
           }
          ],
          "barpolar": [
           {
            "marker": {
             "line": {
              "color": "#E5ECF6",
              "width": 0.5
             },
             "pattern": {
              "fillmode": "overlay",
              "size": 10,
              "solidity": 0.2
             }
            },
            "type": "barpolar"
           }
          ],
          "carpet": [
           {
            "aaxis": {
             "endlinecolor": "#2a3f5f",
             "gridcolor": "white",
             "linecolor": "white",
             "minorgridcolor": "white",
             "startlinecolor": "#2a3f5f"
            },
            "baxis": {
             "endlinecolor": "#2a3f5f",
             "gridcolor": "white",
             "linecolor": "white",
             "minorgridcolor": "white",
             "startlinecolor": "#2a3f5f"
            },
            "type": "carpet"
           }
          ],
          "choropleth": [
           {
            "colorbar": {
             "outlinewidth": 0,
             "ticks": ""
            },
            "type": "choropleth"
           }
          ],
          "contour": [
           {
            "colorbar": {
             "outlinewidth": 0,
             "ticks": ""
            },
            "colorscale": [
             [
              0,
              "#0d0887"
             ],
             [
              0.1111111111111111,
              "#46039f"
             ],
             [
              0.2222222222222222,
              "#7201a8"
             ],
             [
              0.3333333333333333,
              "#9c179e"
             ],
             [
              0.4444444444444444,
              "#bd3786"
             ],
             [
              0.5555555555555556,
              "#d8576b"
             ],
             [
              0.6666666666666666,
              "#ed7953"
             ],
             [
              0.7777777777777778,
              "#fb9f3a"
             ],
             [
              0.8888888888888888,
              "#fdca26"
             ],
             [
              1,
              "#f0f921"
             ]
            ],
            "type": "contour"
           }
          ],
          "contourcarpet": [
           {
            "colorbar": {
             "outlinewidth": 0,
             "ticks": ""
            },
            "type": "contourcarpet"
           }
          ],
          "heatmap": [
           {
            "colorbar": {
             "outlinewidth": 0,
             "ticks": ""
            },
            "colorscale": [
             [
              0,
              "#0d0887"
             ],
             [
              0.1111111111111111,
              "#46039f"
             ],
             [
              0.2222222222222222,
              "#7201a8"
             ],
             [
              0.3333333333333333,
              "#9c179e"
             ],
             [
              0.4444444444444444,
              "#bd3786"
             ],
             [
              0.5555555555555556,
              "#d8576b"
             ],
             [
              0.6666666666666666,
              "#ed7953"
             ],
             [
              0.7777777777777778,
              "#fb9f3a"
             ],
             [
              0.8888888888888888,
              "#fdca26"
             ],
             [
              1,
              "#f0f921"
             ]
            ],
            "type": "heatmap"
           }
          ],
          "heatmapgl": [
           {
            "colorbar": {
             "outlinewidth": 0,
             "ticks": ""
            },
            "colorscale": [
             [
              0,
              "#0d0887"
             ],
             [
              0.1111111111111111,
              "#46039f"
             ],
             [
              0.2222222222222222,
              "#7201a8"
             ],
             [
              0.3333333333333333,
              "#9c179e"
             ],
             [
              0.4444444444444444,
              "#bd3786"
             ],
             [
              0.5555555555555556,
              "#d8576b"
             ],
             [
              0.6666666666666666,
              "#ed7953"
             ],
             [
              0.7777777777777778,
              "#fb9f3a"
             ],
             [
              0.8888888888888888,
              "#fdca26"
             ],
             [
              1,
              "#f0f921"
             ]
            ],
            "type": "heatmapgl"
           }
          ],
          "histogram": [
           {
            "marker": {
             "pattern": {
              "fillmode": "overlay",
              "size": 10,
              "solidity": 0.2
             }
            },
            "type": "histogram"
           }
          ],
          "histogram2d": [
           {
            "colorbar": {
             "outlinewidth": 0,
             "ticks": ""
            },
            "colorscale": [
             [
              0,
              "#0d0887"
             ],
             [
              0.1111111111111111,
              "#46039f"
             ],
             [
              0.2222222222222222,
              "#7201a8"
             ],
             [
              0.3333333333333333,
              "#9c179e"
             ],
             [
              0.4444444444444444,
              "#bd3786"
             ],
             [
              0.5555555555555556,
              "#d8576b"
             ],
             [
              0.6666666666666666,
              "#ed7953"
             ],
             [
              0.7777777777777778,
              "#fb9f3a"
             ],
             [
              0.8888888888888888,
              "#fdca26"
             ],
             [
              1,
              "#f0f921"
             ]
            ],
            "type": "histogram2d"
           }
          ],
          "histogram2dcontour": [
           {
            "colorbar": {
             "outlinewidth": 0,
             "ticks": ""
            },
            "colorscale": [
             [
              0,
              "#0d0887"
             ],
             [
              0.1111111111111111,
              "#46039f"
             ],
             [
              0.2222222222222222,
              "#7201a8"
             ],
             [
              0.3333333333333333,
              "#9c179e"
             ],
             [
              0.4444444444444444,
              "#bd3786"
             ],
             [
              0.5555555555555556,
              "#d8576b"
             ],
             [
              0.6666666666666666,
              "#ed7953"
             ],
             [
              0.7777777777777778,
              "#fb9f3a"
             ],
             [
              0.8888888888888888,
              "#fdca26"
             ],
             [
              1,
              "#f0f921"
             ]
            ],
            "type": "histogram2dcontour"
           }
          ],
          "mesh3d": [
           {
            "colorbar": {
             "outlinewidth": 0,
             "ticks": ""
            },
            "type": "mesh3d"
           }
          ],
          "parcoords": [
           {
            "line": {
             "colorbar": {
              "outlinewidth": 0,
              "ticks": ""
             }
            },
            "type": "parcoords"
           }
          ],
          "pie": [
           {
            "automargin": true,
            "type": "pie"
           }
          ],
          "scatter": [
           {
            "fillpattern": {
             "fillmode": "overlay",
             "size": 10,
             "solidity": 0.2
            },
            "type": "scatter"
           }
          ],
          "scatter3d": [
           {
            "line": {
             "colorbar": {
              "outlinewidth": 0,
              "ticks": ""
             }
            },
            "marker": {
             "colorbar": {
              "outlinewidth": 0,
              "ticks": ""
             }
            },
            "type": "scatter3d"
           }
          ],
          "scattercarpet": [
           {
            "marker": {
             "colorbar": {
              "outlinewidth": 0,
              "ticks": ""
             }
            },
            "type": "scattercarpet"
           }
          ],
          "scattergeo": [
           {
            "marker": {
             "colorbar": {
              "outlinewidth": 0,
              "ticks": ""
             }
            },
            "type": "scattergeo"
           }
          ],
          "scattergl": [
           {
            "marker": {
             "colorbar": {
              "outlinewidth": 0,
              "ticks": ""
             }
            },
            "type": "scattergl"
           }
          ],
          "scattermapbox": [
           {
            "marker": {
             "colorbar": {
              "outlinewidth": 0,
              "ticks": ""
             }
            },
            "type": "scattermapbox"
           }
          ],
          "scatterpolar": [
           {
            "marker": {
             "colorbar": {
              "outlinewidth": 0,
              "ticks": ""
             }
            },
            "type": "scatterpolar"
           }
          ],
          "scatterpolargl": [
           {
            "marker": {
             "colorbar": {
              "outlinewidth": 0,
              "ticks": ""
             }
            },
            "type": "scatterpolargl"
           }
          ],
          "scatterternary": [
           {
            "marker": {
             "colorbar": {
              "outlinewidth": 0,
              "ticks": ""
             }
            },
            "type": "scatterternary"
           }
          ],
          "surface": [
           {
            "colorbar": {
             "outlinewidth": 0,
             "ticks": ""
            },
            "colorscale": [
             [
              0,
              "#0d0887"
             ],
             [
              0.1111111111111111,
              "#46039f"
             ],
             [
              0.2222222222222222,
              "#7201a8"
             ],
             [
              0.3333333333333333,
              "#9c179e"
             ],
             [
              0.4444444444444444,
              "#bd3786"
             ],
             [
              0.5555555555555556,
              "#d8576b"
             ],
             [
              0.6666666666666666,
              "#ed7953"
             ],
             [
              0.7777777777777778,
              "#fb9f3a"
             ],
             [
              0.8888888888888888,
              "#fdca26"
             ],
             [
              1,
              "#f0f921"
             ]
            ],
            "type": "surface"
           }
          ],
          "table": [
           {
            "cells": {
             "fill": {
              "color": "#EBF0F8"
             },
             "line": {
              "color": "white"
             }
            },
            "header": {
             "fill": {
              "color": "#C8D4E3"
             },
             "line": {
              "color": "white"
             }
            },
            "type": "table"
           }
          ]
         },
         "layout": {
          "annotationdefaults": {
           "arrowcolor": "#2a3f5f",
           "arrowhead": 0,
           "arrowwidth": 1
          },
          "autotypenumbers": "strict",
          "coloraxis": {
           "colorbar": {
            "outlinewidth": 0,
            "ticks": ""
           }
          },
          "colorscale": {
           "diverging": [
            [
             0,
             "#8e0152"
            ],
            [
             0.1,
             "#c51b7d"
            ],
            [
             0.2,
             "#de77ae"
            ],
            [
             0.3,
             "#f1b6da"
            ],
            [
             0.4,
             "#fde0ef"
            ],
            [
             0.5,
             "#f7f7f7"
            ],
            [
             0.6,
             "#e6f5d0"
            ],
            [
             0.7,
             "#b8e186"
            ],
            [
             0.8,
             "#7fbc41"
            ],
            [
             0.9,
             "#4d9221"
            ],
            [
             1,
             "#276419"
            ]
           ],
           "sequential": [
            [
             0,
             "#0d0887"
            ],
            [
             0.1111111111111111,
             "#46039f"
            ],
            [
             0.2222222222222222,
             "#7201a8"
            ],
            [
             0.3333333333333333,
             "#9c179e"
            ],
            [
             0.4444444444444444,
             "#bd3786"
            ],
            [
             0.5555555555555556,
             "#d8576b"
            ],
            [
             0.6666666666666666,
             "#ed7953"
            ],
            [
             0.7777777777777778,
             "#fb9f3a"
            ],
            [
             0.8888888888888888,
             "#fdca26"
            ],
            [
             1,
             "#f0f921"
            ]
           ],
           "sequentialminus": [
            [
             0,
             "#0d0887"
            ],
            [
             0.1111111111111111,
             "#46039f"
            ],
            [
             0.2222222222222222,
             "#7201a8"
            ],
            [
             0.3333333333333333,
             "#9c179e"
            ],
            [
             0.4444444444444444,
             "#bd3786"
            ],
            [
             0.5555555555555556,
             "#d8576b"
            ],
            [
             0.6666666666666666,
             "#ed7953"
            ],
            [
             0.7777777777777778,
             "#fb9f3a"
            ],
            [
             0.8888888888888888,
             "#fdca26"
            ],
            [
             1,
             "#f0f921"
            ]
           ]
          },
          "colorway": [
           "#636efa",
           "#EF553B",
           "#00cc96",
           "#ab63fa",
           "#FFA15A",
           "#19d3f3",
           "#FF6692",
           "#B6E880",
           "#FF97FF",
           "#FECB52"
          ],
          "font": {
           "color": "#2a3f5f"
          },
          "geo": {
           "bgcolor": "white",
           "lakecolor": "white",
           "landcolor": "#E5ECF6",
           "showlakes": true,
           "showland": true,
           "subunitcolor": "white"
          },
          "hoverlabel": {
           "align": "left"
          },
          "hovermode": "closest",
          "mapbox": {
           "style": "light"
          },
          "paper_bgcolor": "white",
          "plot_bgcolor": "#E5ECF6",
          "polar": {
           "angularaxis": {
            "gridcolor": "white",
            "linecolor": "white",
            "ticks": ""
           },
           "bgcolor": "#E5ECF6",
           "radialaxis": {
            "gridcolor": "white",
            "linecolor": "white",
            "ticks": ""
           }
          },
          "scene": {
           "xaxis": {
            "backgroundcolor": "#E5ECF6",
            "gridcolor": "white",
            "gridwidth": 2,
            "linecolor": "white",
            "showbackground": true,
            "ticks": "",
            "zerolinecolor": "white"
           },
           "yaxis": {
            "backgroundcolor": "#E5ECF6",
            "gridcolor": "white",
            "gridwidth": 2,
            "linecolor": "white",
            "showbackground": true,
            "ticks": "",
            "zerolinecolor": "white"
           },
           "zaxis": {
            "backgroundcolor": "#E5ECF6",
            "gridcolor": "white",
            "gridwidth": 2,
            "linecolor": "white",
            "showbackground": true,
            "ticks": "",
            "zerolinecolor": "white"
           }
          },
          "shapedefaults": {
           "line": {
            "color": "#2a3f5f"
           }
          },
          "ternary": {
           "aaxis": {
            "gridcolor": "white",
            "linecolor": "white",
            "ticks": ""
           },
           "baxis": {
            "gridcolor": "white",
            "linecolor": "white",
            "ticks": ""
           },
           "bgcolor": "#E5ECF6",
           "caxis": {
            "gridcolor": "white",
            "linecolor": "white",
            "ticks": ""
           }
          },
          "title": {
           "x": 0.05
          },
          "xaxis": {
           "automargin": true,
           "gridcolor": "white",
           "linecolor": "white",
           "ticks": "",
           "title": {
            "standoff": 15
           },
           "zerolinecolor": "white",
           "zerolinewidth": 2
          },
          "yaxis": {
           "automargin": true,
           "gridcolor": "white",
           "linecolor": "white",
           "ticks": "",
           "title": {
            "standoff": 15
           },
           "zerolinecolor": "white",
           "zerolinewidth": 2
          }
         }
        },
        "title": {
         "font": {
          "color": "#4D5663"
         },
         "text": "Survival Probability for various Recovery Rate"
        },
        "xaxis": {
         "gridcolor": "#E1E5ED",
         "showgrid": true,
         "tickfont": {
          "color": "#4D5663"
         },
         "title": {
          "font": {
           "color": "#4D5663"
          },
          "text": "CDS Maturity"
         },
         "zerolinecolor": "#E1E5ED"
        },
        "yaxis": {
         "gridcolor": "#E1E5ED",
         "showgrid": true,
         "tickfont": {
          "color": "#4D5663"
         },
         "title": {
          "font": {
           "color": "#4D5663"
          },
          "text": "Survival Probability"
         },
         "zerolinecolor": "#E1E5ED"
        }
       }
      },
      "text/html": [
       "<div>                            <div id=\"a0cf9982-d388-4f46-b0d7-efded6df7db2\" class=\"plotly-graph-div\" style=\"height:525px; width:100%;\"></div>            <script type=\"text/javascript\">                require([\"plotly\"], function(Plotly) {                    window.PLOTLYENV=window.PLOTLYENV || {};\n",
       "                    window.PLOTLYENV.BASE_URL='https://plot.ly';                                    if (document.getElementById(\"a0cf9982-d388-4f46-b0d7-efded6df7db2\")) {                    Plotly.newPlot(                        \"a0cf9982-d388-4f46-b0d7-efded6df7db2\",                        [{\"line\":{\"color\":\"rgba(255, 153, 51, 1.0)\",\"dash\":\"solid\",\"shape\":\"linear\",\"width\":1.3},\"mode\":\"lines\",\"name\":\"10.0\",\"text\":\"\",\"x\":[\"0.0Y\",\"0.5Y\",\"1.0Y\",\"2.0Y\",\"3.0Y\",\"4.0Y\",\"5.0Y\",\"7.0Y\",\"10.0Y\"],\"y\":[1.0,0.999275525244198,0.9984791535634892,0.9953993008258589,0.9910075162382825,0.9849825147221535,0.9763401633086677,0.9537441919466432,0.9193287345459178],\"type\":\"scatter\"},{\"line\":{\"color\":\"rgba(55, 128, 191, 1.0)\",\"dash\":\"solid\",\"shape\":\"linear\",\"width\":1.3},\"mode\":\"lines\",\"name\":\"20.0\",\"text\":\"\",\"x\":[\"0.0Y\",\"0.5Y\",\"1.0Y\",\"2.0Y\",\"3.0Y\",\"4.0Y\",\"5.0Y\",\"7.0Y\",\"10.0Y\"],\"y\":[1.0,0.9991850397019931,0.9982892878125795,0.9948260536804148,0.9898896010968529,0.983120827769862,0.9734176024518391,0.948093852661161,0.9096691092019641],\"type\":\"scatter\"},{\"line\":{\"color\":\"rgba(50, 171, 96, 1.0)\",\"dash\":\"solid\",\"shape\":\"linear\",\"width\":1.3},\"mode\":\"lines\",\"name\":\"30.0\",\"text\":\"\",\"x\":[\"0.0Y\",\"0.5Y\",\"1.0Y\",\"2.0Y\",\"3.0Y\",\"4.0Y\",\"5.0Y\",\"7.0Y\",\"10.0Y\"],\"y\":[1.0,0.9990687252239877,0.9980452529889753,0.9940896206220597,0.9884542781452187,0.9807322544076121,0.9696713124629694,0.9408712550184708,0.8973829774419326],\"type\":\"scatter\"},{\"line\":{\"color\":\"rgba(128, 0, 128, 1.0)\",\"dash\":\"solid\",\"shape\":\"linear\",\"width\":1.3},\"mode\":\"lines\",\"name\":\"40.0\",\"text\":\"\",\"x\":[\"0.0Y\",\"0.5Y\",\"1.0Y\",\"2.0Y\",\"3.0Y\",\"4.0Y\",\"5.0Y\",\"7.0Y\",\"10.0Y\"],\"y\":[1.0,0.9989136813715086,0.997720010154341,0.9931087568056712,0.986544001260452,0.9775562574212715,0.9646959369250409,0.9313142698095871,0.881231522180167],\"type\":\"scatter\"},{\"line\":{\"color\":\"rgba(219, 64, 82, 1.0)\",\"dash\":\"solid\",\"shape\":\"linear\",\"width\":1.3},\"mode\":\"lines\",\"name\":\"50.0\",\"text\":\"\",\"x\":[\"0.0Y\",\"0.5Y\",\"1.0Y\",\"2.0Y\",\"3.0Y\",\"4.0Y\",\"5.0Y\",\"7.0Y\",\"10.0Y\"],\"y\":[1.0,0.998696700805449,0.9972649329154792,0.991737554209036,0.9838762910486969,0.9731266313022316,0.9577679948376719,0.9180734612605237,0.8590526250666923],\"type\":\"scatter\"},{\"line\":{\"color\":\"rgba(0, 128, 128, 1.0)\",\"dash\":\"solid\",\"shape\":\"linear\",\"width\":1.3},\"mode\":\"lines\",\"name\":\"60.0\",\"text\":\"\",\"x\":[\"0.0Y\",\"0.5Y\",\"1.0Y\",\"2.0Y\",\"3.0Y\",\"4.0Y\",\"5.0Y\",\"7.0Y\",\"10.0Y\"],\"y\":[1.0,0.9983714066429138,0.9965828912278788,0.9896851296130305,0.9798892774766356,0.966518677071284,0.9474576828157732,0.8985117314890158,0.8267057778222502],\"type\":\"scatter\"},{\"line\":{\"color\":\"rgba(255, 255, 51, 1.0)\",\"dash\":\"solid\",\"shape\":\"linear\",\"width\":1.3},\"mode\":\"lines\",\"name\":\"70.0\",\"text\":\"\",\"x\":[\"0.0Y\",\"0.5Y\",\"1.0Y\",\"2.0Y\",\"3.0Y\",\"4.0Y\",\"5.0Y\",\"7.0Y\",\"10.0Y\"],\"y\":[1.0,0.9978297203582208,0.9954476839243569,0.9862760568740091,0.9732828322203766,0.9556018959162053,0.9304889174824218,0.8666891763511384,0.775148471880168],\"type\":\"scatter\"},{\"line\":{\"color\":\"rgba(128, 128, 0, 1.0)\",\"dash\":\"solid\",\"shape\":\"linear\",\"width\":1.3},\"mode\":\"lines\",\"name\":\"80.0\",\"text\":\"\",\"x\":[\"0.0Y\",\"0.5Y\",\"1.0Y\",\"2.0Y\",\"3.0Y\",\"4.0Y\",\"5.0Y\",\"7.0Y\",\"10.0Y\"],\"y\":[1.0,0.9967481092934302,0.993182987133721,0.9795012527289708,0.9602130887248645,0.9341246816688513,0.8973413221745722,0.8058517658385922,0.6802154824897813],\"type\":\"scatter\"},{\"line\":{\"color\":\"rgba(251, 128, 114, 1.0)\",\"dash\":\"solid\",\"shape\":\"linear\",\"width\":1.3},\"mode\":\"lines\",\"name\":\"90.0\",\"text\":\"\",\"x\":[\"0.0Y\",\"0.5Y\",\"1.0Y\",\"2.0Y\",\"3.0Y\",\"4.0Y\",\"5.0Y\",\"7.0Y\",\"10.0Y\"],\"y\":[1.0,0.9935172996199796,0.9864343344775699,0.9595178749733814,0.9221194271459372,0.872438815927497,0.8039003244413406,0.643646826162534,0.44998918865899085],\"type\":\"scatter\"}],                        {\"legend\":{\"bgcolor\":\"#F5F6F9\",\"font\":{\"color\":\"#4D5663\"}},\"paper_bgcolor\":\"#F5F6F9\",\"plot_bgcolor\":\"#F5F6F9\",\"template\":{\"data\":{\"barpolar\":[{\"marker\":{\"line\":{\"color\":\"#E5ECF6\",\"width\":0.5},\"pattern\":{\"fillmode\":\"overlay\",\"size\":10,\"solidity\":0.2}},\"type\":\"barpolar\"}],\"bar\":[{\"error_x\":{\"color\":\"#2a3f5f\"},\"error_y\":{\"color\":\"#2a3f5f\"},\"marker\":{\"line\":{\"color\":\"#E5ECF6\",\"width\":0.5},\"pattern\":{\"fillmode\":\"overlay\",\"size\":10,\"solidity\":0.2}},\"type\":\"bar\"}],\"carpet\":[{\"aaxis\":{\"endlinecolor\":\"#2a3f5f\",\"gridcolor\":\"white\",\"linecolor\":\"white\",\"minorgridcolor\":\"white\",\"startlinecolor\":\"#2a3f5f\"},\"baxis\":{\"endlinecolor\":\"#2a3f5f\",\"gridcolor\":\"white\",\"linecolor\":\"white\",\"minorgridcolor\":\"white\",\"startlinecolor\":\"#2a3f5f\"},\"type\":\"carpet\"}],\"choropleth\":[{\"colorbar\":{\"outlinewidth\":0,\"ticks\":\"\"},\"type\":\"choropleth\"}],\"contourcarpet\":[{\"colorbar\":{\"outlinewidth\":0,\"ticks\":\"\"},\"type\":\"contourcarpet\"}],\"contour\":[{\"colorbar\":{\"outlinewidth\":0,\"ticks\":\"\"},\"colorscale\":[[0.0,\"#0d0887\"],[0.1111111111111111,\"#46039f\"],[0.2222222222222222,\"#7201a8\"],[0.3333333333333333,\"#9c179e\"],[0.4444444444444444,\"#bd3786\"],[0.5555555555555556,\"#d8576b\"],[0.6666666666666666,\"#ed7953\"],[0.7777777777777778,\"#fb9f3a\"],[0.8888888888888888,\"#fdca26\"],[1.0,\"#f0f921\"]],\"type\":\"contour\"}],\"heatmapgl\":[{\"colorbar\":{\"outlinewidth\":0,\"ticks\":\"\"},\"colorscale\":[[0.0,\"#0d0887\"],[0.1111111111111111,\"#46039f\"],[0.2222222222222222,\"#7201a8\"],[0.3333333333333333,\"#9c179e\"],[0.4444444444444444,\"#bd3786\"],[0.5555555555555556,\"#d8576b\"],[0.6666666666666666,\"#ed7953\"],[0.7777777777777778,\"#fb9f3a\"],[0.8888888888888888,\"#fdca26\"],[1.0,\"#f0f921\"]],\"type\":\"heatmapgl\"}],\"heatmap\":[{\"colorbar\":{\"outlinewidth\":0,\"ticks\":\"\"},\"colorscale\":[[0.0,\"#0d0887\"],[0.1111111111111111,\"#46039f\"],[0.2222222222222222,\"#7201a8\"],[0.3333333333333333,\"#9c179e\"],[0.4444444444444444,\"#bd3786\"],[0.5555555555555556,\"#d8576b\"],[0.6666666666666666,\"#ed7953\"],[0.7777777777777778,\"#fb9f3a\"],[0.8888888888888888,\"#fdca26\"],[1.0,\"#f0f921\"]],\"type\":\"heatmap\"}],\"histogram2dcontour\":[{\"colorbar\":{\"outlinewidth\":0,\"ticks\":\"\"},\"colorscale\":[[0.0,\"#0d0887\"],[0.1111111111111111,\"#46039f\"],[0.2222222222222222,\"#7201a8\"],[0.3333333333333333,\"#9c179e\"],[0.4444444444444444,\"#bd3786\"],[0.5555555555555556,\"#d8576b\"],[0.6666666666666666,\"#ed7953\"],[0.7777777777777778,\"#fb9f3a\"],[0.8888888888888888,\"#fdca26\"],[1.0,\"#f0f921\"]],\"type\":\"histogram2dcontour\"}],\"histogram2d\":[{\"colorbar\":{\"outlinewidth\":0,\"ticks\":\"\"},\"colorscale\":[[0.0,\"#0d0887\"],[0.1111111111111111,\"#46039f\"],[0.2222222222222222,\"#7201a8\"],[0.3333333333333333,\"#9c179e\"],[0.4444444444444444,\"#bd3786\"],[0.5555555555555556,\"#d8576b\"],[0.6666666666666666,\"#ed7953\"],[0.7777777777777778,\"#fb9f3a\"],[0.8888888888888888,\"#fdca26\"],[1.0,\"#f0f921\"]],\"type\":\"histogram2d\"}],\"histogram\":[{\"marker\":{\"pattern\":{\"fillmode\":\"overlay\",\"size\":10,\"solidity\":0.2}},\"type\":\"histogram\"}],\"mesh3d\":[{\"colorbar\":{\"outlinewidth\":0,\"ticks\":\"\"},\"type\":\"mesh3d\"}],\"parcoords\":[{\"line\":{\"colorbar\":{\"outlinewidth\":0,\"ticks\":\"\"}},\"type\":\"parcoords\"}],\"pie\":[{\"automargin\":true,\"type\":\"pie\"}],\"scatter3d\":[{\"line\":{\"colorbar\":{\"outlinewidth\":0,\"ticks\":\"\"}},\"marker\":{\"colorbar\":{\"outlinewidth\":0,\"ticks\":\"\"}},\"type\":\"scatter3d\"}],\"scattercarpet\":[{\"marker\":{\"colorbar\":{\"outlinewidth\":0,\"ticks\":\"\"}},\"type\":\"scattercarpet\"}],\"scattergeo\":[{\"marker\":{\"colorbar\":{\"outlinewidth\":0,\"ticks\":\"\"}},\"type\":\"scattergeo\"}],\"scattergl\":[{\"marker\":{\"colorbar\":{\"outlinewidth\":0,\"ticks\":\"\"}},\"type\":\"scattergl\"}],\"scattermapbox\":[{\"marker\":{\"colorbar\":{\"outlinewidth\":0,\"ticks\":\"\"}},\"type\":\"scattermapbox\"}],\"scatterpolargl\":[{\"marker\":{\"colorbar\":{\"outlinewidth\":0,\"ticks\":\"\"}},\"type\":\"scatterpolargl\"}],\"scatterpolar\":[{\"marker\":{\"colorbar\":{\"outlinewidth\":0,\"ticks\":\"\"}},\"type\":\"scatterpolar\"}],\"scatter\":[{\"fillpattern\":{\"fillmode\":\"overlay\",\"size\":10,\"solidity\":0.2},\"type\":\"scatter\"}],\"scatterternary\":[{\"marker\":{\"colorbar\":{\"outlinewidth\":0,\"ticks\":\"\"}},\"type\":\"scatterternary\"}],\"surface\":[{\"colorbar\":{\"outlinewidth\":0,\"ticks\":\"\"},\"colorscale\":[[0.0,\"#0d0887\"],[0.1111111111111111,\"#46039f\"],[0.2222222222222222,\"#7201a8\"],[0.3333333333333333,\"#9c179e\"],[0.4444444444444444,\"#bd3786\"],[0.5555555555555556,\"#d8576b\"],[0.6666666666666666,\"#ed7953\"],[0.7777777777777778,\"#fb9f3a\"],[0.8888888888888888,\"#fdca26\"],[1.0,\"#f0f921\"]],\"type\":\"surface\"}],\"table\":[{\"cells\":{\"fill\":{\"color\":\"#EBF0F8\"},\"line\":{\"color\":\"white\"}},\"header\":{\"fill\":{\"color\":\"#C8D4E3\"},\"line\":{\"color\":\"white\"}},\"type\":\"table\"}]},\"layout\":{\"annotationdefaults\":{\"arrowcolor\":\"#2a3f5f\",\"arrowhead\":0,\"arrowwidth\":1},\"autotypenumbers\":\"strict\",\"coloraxis\":{\"colorbar\":{\"outlinewidth\":0,\"ticks\":\"\"}},\"colorscale\":{\"diverging\":[[0,\"#8e0152\"],[0.1,\"#c51b7d\"],[0.2,\"#de77ae\"],[0.3,\"#f1b6da\"],[0.4,\"#fde0ef\"],[0.5,\"#f7f7f7\"],[0.6,\"#e6f5d0\"],[0.7,\"#b8e186\"],[0.8,\"#7fbc41\"],[0.9,\"#4d9221\"],[1,\"#276419\"]],\"sequential\":[[0.0,\"#0d0887\"],[0.1111111111111111,\"#46039f\"],[0.2222222222222222,\"#7201a8\"],[0.3333333333333333,\"#9c179e\"],[0.4444444444444444,\"#bd3786\"],[0.5555555555555556,\"#d8576b\"],[0.6666666666666666,\"#ed7953\"],[0.7777777777777778,\"#fb9f3a\"],[0.8888888888888888,\"#fdca26\"],[1.0,\"#f0f921\"]],\"sequentialminus\":[[0.0,\"#0d0887\"],[0.1111111111111111,\"#46039f\"],[0.2222222222222222,\"#7201a8\"],[0.3333333333333333,\"#9c179e\"],[0.4444444444444444,\"#bd3786\"],[0.5555555555555556,\"#d8576b\"],[0.6666666666666666,\"#ed7953\"],[0.7777777777777778,\"#fb9f3a\"],[0.8888888888888888,\"#fdca26\"],[1.0,\"#f0f921\"]]},\"colorway\":[\"#636efa\",\"#EF553B\",\"#00cc96\",\"#ab63fa\",\"#FFA15A\",\"#19d3f3\",\"#FF6692\",\"#B6E880\",\"#FF97FF\",\"#FECB52\"],\"font\":{\"color\":\"#2a3f5f\"},\"geo\":{\"bgcolor\":\"white\",\"lakecolor\":\"white\",\"landcolor\":\"#E5ECF6\",\"showlakes\":true,\"showland\":true,\"subunitcolor\":\"white\"},\"hoverlabel\":{\"align\":\"left\"},\"hovermode\":\"closest\",\"mapbox\":{\"style\":\"light\"},\"paper_bgcolor\":\"white\",\"plot_bgcolor\":\"#E5ECF6\",\"polar\":{\"angularaxis\":{\"gridcolor\":\"white\",\"linecolor\":\"white\",\"ticks\":\"\"},\"bgcolor\":\"#E5ECF6\",\"radialaxis\":{\"gridcolor\":\"white\",\"linecolor\":\"white\",\"ticks\":\"\"}},\"scene\":{\"xaxis\":{\"backgroundcolor\":\"#E5ECF6\",\"gridcolor\":\"white\",\"gridwidth\":2,\"linecolor\":\"white\",\"showbackground\":true,\"ticks\":\"\",\"zerolinecolor\":\"white\"},\"yaxis\":{\"backgroundcolor\":\"#E5ECF6\",\"gridcolor\":\"white\",\"gridwidth\":2,\"linecolor\":\"white\",\"showbackground\":true,\"ticks\":\"\",\"zerolinecolor\":\"white\"},\"zaxis\":{\"backgroundcolor\":\"#E5ECF6\",\"gridcolor\":\"white\",\"gridwidth\":2,\"linecolor\":\"white\",\"showbackground\":true,\"ticks\":\"\",\"zerolinecolor\":\"white\"}},\"shapedefaults\":{\"line\":{\"color\":\"#2a3f5f\"}},\"ternary\":{\"aaxis\":{\"gridcolor\":\"white\",\"linecolor\":\"white\",\"ticks\":\"\"},\"baxis\":{\"gridcolor\":\"white\",\"linecolor\":\"white\",\"ticks\":\"\"},\"bgcolor\":\"#E5ECF6\",\"caxis\":{\"gridcolor\":\"white\",\"linecolor\":\"white\",\"ticks\":\"\"}},\"title\":{\"x\":0.05},\"xaxis\":{\"automargin\":true,\"gridcolor\":\"white\",\"linecolor\":\"white\",\"ticks\":\"\",\"title\":{\"standoff\":15},\"zerolinecolor\":\"white\",\"zerolinewidth\":2},\"yaxis\":{\"automargin\":true,\"gridcolor\":\"white\",\"linecolor\":\"white\",\"ticks\":\"\",\"title\":{\"standoff\":15},\"zerolinecolor\":\"white\",\"zerolinewidth\":2}}},\"title\":{\"font\":{\"color\":\"#4D5663\"},\"text\":\"Survival Probability for various Recovery Rate\"},\"xaxis\":{\"gridcolor\":\"#E1E5ED\",\"showgrid\":true,\"tickfont\":{\"color\":\"#4D5663\"},\"title\":{\"font\":{\"color\":\"#4D5663\"},\"text\":\"CDS Maturity\"},\"zerolinecolor\":\"#E1E5ED\"},\"yaxis\":{\"gridcolor\":\"#E1E5ED\",\"showgrid\":true,\"tickfont\":{\"color\":\"#4D5663\"},\"title\":{\"font\":{\"color\":\"#4D5663\"},\"text\":\"Survival Probability\"},\"zerolinecolor\":\"#E1E5ED\"}},                        {\"showLink\": true, \"linkText\": \"Export to plot.ly\", \"plotlyServerURL\": \"https://plot.ly\", \"responsive\": true}                    ).then(function(){\n",
       "                            \n",
       "var gd = document.getElementById('a0cf9982-d388-4f46-b0d7-efded6df7db2');\n",
       "var x = new MutationObserver(function (mutations, observer) {{\n",
       "        var display = window.getComputedStyle(gd).display;\n",
       "        if (!display || display === 'none') {{\n",
       "            console.log([gd, 'removed!']);\n",
       "            Plotly.purge(gd);\n",
       "            observer.disconnect();\n",
       "        }}\n",
       "}});\n",
       "\n",
       "// Listen for the removal of the full notebook cells\n",
       "var notebookContainer = gd.closest('#notebook-container');\n",
       "if (notebookContainer) {{\n",
       "    x.observe(notebookContainer, {childList: true});\n",
       "}}\n",
       "\n",
       "// Listen for the clearing of the current output cell\n",
       "var outputEl = gd.closest('.output');\n",
       "if (outputEl) {{\n",
       "    x.observe(outputEl, {childList: true});\n",
       "}}\n",
       "\n",
       "                        })                };                });            </script>        </div>"
      ]
     },
     "metadata": {},
     "output_type": "display_data"
    }
   ],
   "source": [
    "# plot probabilities for various recovery rate\n",
    "sp = pd.DataFrame()\n",
    "\n",
    "for i in np.arange(0.1, 1, 0.1):\n",
    "    sp[i] = get_survival_probability(UAE.tenor,UAE.disc_factors,UAE.mid,i)['Survival']\n",
    "\n",
    "sp.columns = np.around(sp.columns*100)\n",
    "sp.index = [str(i)+'Y' for i in Survival_data.Maturity.unique()]\n",
    "sp.iplot(title='Survival Probability for various Recovery Rate',\n",
    "         xTitle='CDS Maturity', \n",
    "         yTitle='Survival Probability',\n",
    "         labels = sp.columns)"
   ]
  },
  {
   "cell_type": "code",
   "execution_count": 29,
   "id": "dda2fd8d",
   "metadata": {},
   "outputs": [
    {
     "data": {
      "image/png": "[encoded data removed]",
      "text/plain": [
       "<Figure size 1400x800 with 1 Axes>"
      ]
     },
     "metadata": {},
     "output_type": "display_data"
    }
   ],
   "source": [
    "hz = pd.DataFrame()\n",
    "\n",
    "for i in np.arange(0.1, 1, 0.1):\n",
    "    hz[i] = get_survival_probability(UAE.tenor,UAE.disc_factors,UAE.mid,i)['Hazard']\n",
    "    plt.step(hz.index, hz[i], label =f'{i*100:0.4}%')\n",
    "\n",
    "plt.title('Term Structure of Hazard Rates for various Recovery Rate')\n",
    "plt.xlabel('CDS Maturity')\n",
    "plt.ylabel('Hazard Rates')\n",
    "plt.legend();"
   ]
  },
  {
   "cell_type": "code",
   "execution_count": 30,
   "id": "900413a1",
   "metadata": {},
   "outputs": [
    {
     "data": {
      "application/vnd.plotly.v1+json": {
       "config": {
        "linkText": "Export to plot.ly",
        "plotlyServerURL": "https://plot.ly",
        "showLink": true
       },
       "data": [
        {
         "colorscale": [
          [
           0,
           "rgb(255, 153, 51)"
          ],
          [
           0.1111111111111111,
           "rgb(55, 128, 191)"
          ],
          [
           0.2222222222222222,
           "rgb(50, 171, 96)"
          ],
          [
           0.3333333333333333,
           "rgb(128, 0, 128)"
          ],
          [
           0.4444444444444444,
           "rgb(219, 64, 82)"
          ],
          [
           0.5555555555555556,
           "rgb(0, 128, 128)"
          ],
          [
           0.6666666666666666,
           "rgb(255, 255, 51)"
          ],
          [
           0.7777777777777778,
           "rgb(128, 128, 0)"
          ],
          [
           0.8888888888888888,
           "rgb(251, 128, 114)"
          ],
          [
           1,
           "rgb(128, 177, 211)"
          ]
         ],
         "type": "surface",
         "x": [
          "0.0Y",
          "0.5Y",
          "1.0Y",
          "2.0Y",
          "3.0Y",
          "4.0Y",
          "5.0Y",
          "7.0Y",
          "10.0Y"
         ],
         "y": [
          10,
          20,
          30,
          40,
          50,
          60,
          70,
          80,
          90
         ],
         "z": [
          [
           1,
           0.999275525244198,
           0.9984791535634892,
           0.9953993008258589,
           0.9910075162382825,
           0.9849825147221535,
           0.9763401633086677,
           0.9537441919466432,
           0.9193287345459178
          ],
          [
           1,
           0.9991850397019931,
           0.9982892878125795,
           0.9948260536804148,
           0.9898896010968529,
           0.983120827769862,
           0.9734176024518391,
           0.948093852661161,
           0.9096691092019641
          ],
          [
           1,
           0.9990687252239877,
           0.9980452529889753,
           0.9940896206220597,
           0.9884542781452187,
           0.9807322544076121,
           0.9696713124629694,
           0.9408712550184708,
           0.8973829774419326
          ],
          [
           1,
           0.9989136813715086,
           0.997720010154341,
           0.9931087568056712,
           0.986544001260452,
           0.9775562574212715,
           0.9646959369250409,
           0.9313142698095871,
           0.881231522180167
          ],
          [
           1,
           0.998696700805449,
           0.9972649329154792,
           0.991737554209036,
           0.9838762910486969,
           0.9731266313022316,
           0.9577679948376719,
           0.9180734612605237,
           0.8590526250666923
          ],
          [
           1,
           0.9983714066429138,
           0.9965828912278788,
           0.9896851296130305,
           0.9798892774766356,
           0.966518677071284,
           0.9474576828157732,
           0.8985117314890158,
           0.8267057778222502
          ],
          [
           1,
           0.9978297203582208,
           0.9954476839243569,
           0.9862760568740091,
           0.9732828322203766,
           0.9556018959162053,
           0.9304889174824218,
           0.8666891763511384,
           0.775148471880168
          ],
          [
           1,
           0.9967481092934302,
           0.993182987133721,
           0.9795012527289708,
           0.9602130887248645,
           0.9341246816688513,
           0.8973413221745722,
           0.8058517658385922,
           0.6802154824897813
          ],
          [
           1,
           0.9935172996199796,
           0.9864343344775699,
           0.9595178749733814,
           0.9221194271459372,
           0.872438815927497,
           0.8039003244413406,
           0.643646826162534,
           0.44998918865899085
          ]
         ]
        }
       ],
       "layout": {
        "legend": {
         "bgcolor": "#F5F6F9",
         "font": {
          "color": "#4D5663"
         }
        },
        "paper_bgcolor": "#F5F6F9",
        "plot_bgcolor": "#F5F6F9",
        "template": {
         "data": {
          "bar": [
           {
            "error_x": {
             "color": "#2a3f5f"
            },
            "error_y": {
             "color": "#2a3f5f"
            },
            "marker": {
             "line": {
              "color": "#E5ECF6",
              "width": 0.5
             },
             "pattern": {
              "fillmode": "overlay",
              "size": 10,
              "solidity": 0.2
             }
            },
            "type": "bar"
           }
          ],
          "barpolar": [
           {
            "marker": {
             "line": {
              "color": "#E5ECF6",
              "width": 0.5
             },
             "pattern": {
              "fillmode": "overlay",
              "size": 10,
              "solidity": 0.2
             }
            },
            "type": "barpolar"
           }
          ],
          "carpet": [
           {
            "aaxis": {
             "endlinecolor": "#2a3f5f",
             "gridcolor": "white",
             "linecolor": "white",
             "minorgridcolor": "white",
             "startlinecolor": "#2a3f5f"
            },
            "baxis": {
             "endlinecolor": "#2a3f5f",
             "gridcolor": "white",
             "linecolor": "white",
             "minorgridcolor": "white",
             "startlinecolor": "#2a3f5f"
            },
            "type": "carpet"
           }
          ],
          "choropleth": [
           {
            "colorbar": {
             "outlinewidth": 0,
             "ticks": ""
            },
            "type": "choropleth"
           }
          ],
          "contour": [
           {
            "colorbar": {
             "outlinewidth": 0,
             "ticks": ""
            },
            "colorscale": [
             [
              0,
              "#0d0887"
             ],
             [
              0.1111111111111111,
              "#46039f"
             ],
             [
              0.2222222222222222,
              "#7201a8"
             ],
             [
              0.3333333333333333,
              "#9c179e"
             ],
             [
              0.4444444444444444,
              "#bd3786"
             ],
             [
              0.5555555555555556,
              "#d8576b"
             ],
             [
              0.6666666666666666,
              "#ed7953"
             ],
             [
              0.7777777777777778,
              "#fb9f3a"
             ],
             [
              0.8888888888888888,
              "#fdca26"
             ],
             [
              1,
              "#f0f921"
             ]
            ],
            "type": "contour"
           }
          ],
          "contourcarpet": [
           {
            "colorbar": {
             "outlinewidth": 0,
             "ticks": ""
            },
            "type": "contourcarpet"
           }
          ],
          "heatmap": [
           {
            "colorbar": {
             "outlinewidth": 0,
             "ticks": ""
            },
            "colorscale": [
             [
              0,
              "#0d0887"
             ],
             [
              0.1111111111111111,
              "#46039f"
             ],
             [
              0.2222222222222222,
              "#7201a8"
             ],
             [
              0.3333333333333333,
              "#9c179e"
             ],
             [
              0.4444444444444444,
              "#bd3786"
             ],
             [
              0.5555555555555556,
              "#d8576b"
             ],
             [
              0.6666666666666666,
              "#ed7953"
             ],
             [
              0.7777777777777778,
              "#fb9f3a"
             ],
             [
              0.8888888888888888,
              "#fdca26"
             ],
             [
              1,
              "#f0f921"
             ]
            ],
            "type": "heatmap"
           }
          ],
          "heatmapgl": [
           {
            "colorbar": {
             "outlinewidth": 0,
             "ticks": ""
            },
            "colorscale": [
             [
              0,
              "#0d0887"
             ],
             [
              0.1111111111111111,
              "#46039f"
             ],
             [
              0.2222222222222222,
              "#7201a8"
             ],
             [
              0.3333333333333333,
              "#9c179e"
             ],
             [
              0.4444444444444444,
              "#bd3786"
             ],
             [
              0.5555555555555556,
              "#d8576b"
             ],
             [
              0.6666666666666666,
              "#ed7953"
             ],
             [
              0.7777777777777778,
              "#fb9f3a"
             ],
             [
              0.8888888888888888,
              "#fdca26"
             ],
             [
              1,
              "#f0f921"
             ]
            ],
            "type": "heatmapgl"
           }
          ],
          "histogram": [
           {
            "marker": {
             "pattern": {
              "fillmode": "overlay",
              "size": 10,
              "solidity": 0.2
             }
            },
            "type": "histogram"
           }
          ],
          "histogram2d": [
           {
            "colorbar": {
             "outlinewidth": 0,
             "ticks": ""
            },
            "colorscale": [
             [
              0,
              "#0d0887"
             ],
             [
              0.1111111111111111,
              "#46039f"
             ],
             [
              0.2222222222222222,
              "#7201a8"
             ],
             [
              0.3333333333333333,
              "#9c179e"
             ],
             [
              0.4444444444444444,
              "#bd3786"
             ],
             [
              0.5555555555555556,
              "#d8576b"
             ],
             [
              0.6666666666666666,
              "#ed7953"
             ],
             [
              0.7777777777777778,
              "#fb9f3a"
             ],
             [
              0.8888888888888888,
              "#fdca26"
             ],
             [
              1,
              "#f0f921"
             ]
            ],
            "type": "histogram2d"
           }
          ],
          "histogram2dcontour": [
           {
            "colorbar": {
             "outlinewidth": 0,
             "ticks": ""
            },
            "colorscale": [
             [
              0,
              "#0d0887"
             ],
             [
              0.1111111111111111,
              "#46039f"
             ],
             [
              0.2222222222222222,
              "#7201a8"
             ],
             [
              0.3333333333333333,
              "#9c179e"
             ],
             [
              0.4444444444444444,
              "#bd3786"
             ],
             [
              0.5555555555555556,
              "#d8576b"
             ],
             [
              0.6666666666666666,
              "#ed7953"
             ],
             [
              0.7777777777777778,
              "#fb9f3a"
             ],
             [
              0.8888888888888888,
              "#fdca26"
             ],
             [
              1,
              "#f0f921"
             ]
            ],
            "type": "histogram2dcontour"
           }
          ],
          "mesh3d": [
           {
            "colorbar": {
             "outlinewidth": 0,
             "ticks": ""
            },
            "type": "mesh3d"
           }
          ],
          "parcoords": [
           {
            "line": {
             "colorbar": {
              "outlinewidth": 0,
              "ticks": ""
             }
            },
            "type": "parcoords"
           }
          ],
          "pie": [
           {
            "automargin": true,
            "type": "pie"
           }
          ],
          "scatter": [
           {
            "fillpattern": {
             "fillmode": "overlay",
             "size": 10,
             "solidity": 0.2
            },
            "type": "scatter"
           }
          ],
          "scatter3d": [
           {
            "line": {
             "colorbar": {
              "outlinewidth": 0,
              "ticks": ""
             }
            },
            "marker": {
             "colorbar": {
              "outlinewidth": 0,
              "ticks": ""
             }
            },
            "type": "scatter3d"
           }
          ],
          "scattercarpet": [
           {
            "marker": {
             "colorbar": {
              "outlinewidth": 0,
              "ticks": ""
             }
            },
            "type": "scattercarpet"
           }
          ],
          "scattergeo": [
           {
            "marker": {
             "colorbar": {
              "outlinewidth": 0,
              "ticks": ""
             }
            },
            "type": "scattergeo"
           }
          ],
          "scattergl": [
           {
            "marker": {
             "colorbar": {
              "outlinewidth": 0,
              "ticks": ""
             }
            },
            "type": "scattergl"
           }
          ],
          "scattermapbox": [
           {
            "marker": {
             "colorbar": {
              "outlinewidth": 0,
              "ticks": ""
             }
            },
            "type": "scattermapbox"
           }
          ],
          "scatterpolar": [
           {
            "marker": {
             "colorbar": {
              "outlinewidth": 0,
              "ticks": ""
             }
            },
            "type": "scatterpolar"
           }
          ],
          "scatterpolargl": [
           {
            "marker": {
             "colorbar": {
              "outlinewidth": 0,
              "ticks": ""
             }
            },
            "type": "scatterpolargl"
           }
          ],
          "scatterternary": [
           {
            "marker": {
             "colorbar": {
              "outlinewidth": 0,
              "ticks": ""
             }
            },
            "type": "scatterternary"
           }
          ],
          "surface": [
           {
            "colorbar": {
             "outlinewidth": 0,
             "ticks": ""
            },
            "colorscale": [
             [
              0,
              "#0d0887"
             ],
             [
              0.1111111111111111,
              "#46039f"
             ],
             [
              0.2222222222222222,
              "#7201a8"
             ],
             [
              0.3333333333333333,
              "#9c179e"
             ],
             [
              0.4444444444444444,
              "#bd3786"
             ],
             [
              0.5555555555555556,
              "#d8576b"
             ],
             [
              0.6666666666666666,
              "#ed7953"
             ],
             [
              0.7777777777777778,
              "#fb9f3a"
             ],
             [
              0.8888888888888888,
              "#fdca26"
             ],
             [
              1,
              "#f0f921"
             ]
            ],
            "type": "surface"
           }
          ],
          "table": [
           {
            "cells": {
             "fill": {
              "color": "#EBF0F8"
             },
             "line": {
              "color": "white"
             }
            },
            "header": {
             "fill": {
              "color": "#C8D4E3"
             },
             "line": {
              "color": "white"
             }
            },
            "type": "table"
           }
          ]
         },
         "layout": {
          "annotationdefaults": {
           "arrowcolor": "#2a3f5f",
           "arrowhead": 0,
           "arrowwidth": 1
          },
          "autotypenumbers": "strict",
          "coloraxis": {
           "colorbar": {
            "outlinewidth": 0,
            "ticks": ""
           }
          },
          "colorscale": {
           "diverging": [
            [
             0,
             "#8e0152"
            ],
            [
             0.1,
             "#c51b7d"
            ],
            [
             0.2,
             "#de77ae"
            ],
            [
             0.3,
             "#f1b6da"
            ],
            [
             0.4,
             "#fde0ef"
            ],
            [
             0.5,
             "#f7f7f7"
            ],
            [
             0.6,
             "#e6f5d0"
            ],
            [
             0.7,
             "#b8e186"
            ],
            [
             0.8,
             "#7fbc41"
            ],
            [
             0.9,
             "#4d9221"
            ],
            [
             1,
             "#276419"
            ]
           ],
           "sequential": [
            [
             0,
             "#0d0887"
            ],
            [
             0.1111111111111111,
             "#46039f"
            ],
            [
             0.2222222222222222,
             "#7201a8"
            ],
            [
             0.3333333333333333,
             "#9c179e"
            ],
            [
             0.4444444444444444,
             "#bd3786"
            ],
            [
             0.5555555555555556,
             "#d8576b"
            ],
            [
             0.6666666666666666,
             "#ed7953"
            ],
            [
             0.7777777777777778,
             "#fb9f3a"
            ],
            [
             0.8888888888888888,
             "#fdca26"
            ],
            [
             1,
             "#f0f921"
            ]
           ],
           "sequentialminus": [
            [
             0,
             "#0d0887"
            ],
            [
             0.1111111111111111,
             "#46039f"
            ],
            [
             0.2222222222222222,
             "#7201a8"
            ],
            [
             0.3333333333333333,
             "#9c179e"
            ],
            [
             0.4444444444444444,
             "#bd3786"
            ],
            [
             0.5555555555555556,
             "#d8576b"
            ],
            [
             0.6666666666666666,
             "#ed7953"
            ],
            [
             0.7777777777777778,
             "#fb9f3a"
            ],
            [
             0.8888888888888888,
             "#fdca26"
            ],
            [
             1,
             "#f0f921"
            ]
           ]
          },
          "colorway": [
           "#636efa",
           "#EF553B",
           "#00cc96",
           "#ab63fa",
           "#FFA15A",
           "#19d3f3",
           "#FF6692",
           "#B6E880",
           "#FF97FF",
           "#FECB52"
          ],
          "font": {
           "color": "#2a3f5f"
          },
          "geo": {
           "bgcolor": "white",
           "lakecolor": "white",
           "landcolor": "#E5ECF6",
           "showlakes": true,
           "showland": true,
           "subunitcolor": "white"
          },
          "hoverlabel": {
           "align": "left"
          },
          "hovermode": "closest",
          "mapbox": {
           "style": "light"
          },
          "paper_bgcolor": "white",
          "plot_bgcolor": "#E5ECF6",
          "polar": {
           "angularaxis": {
            "gridcolor": "white",
            "linecolor": "white",
            "ticks": ""
           },
           "bgcolor": "#E5ECF6",
           "radialaxis": {
            "gridcolor": "white",
            "linecolor": "white",
            "ticks": ""
           }
          },
          "scene": {
           "xaxis": {
            "backgroundcolor": "#E5ECF6",
            "gridcolor": "white",
            "gridwidth": 2,
            "linecolor": "white",
            "showbackground": true,
            "ticks": "",
            "zerolinecolor": "white"
           },
           "yaxis": {
            "backgroundcolor": "#E5ECF6",
            "gridcolor": "white",
            "gridwidth": 2,
            "linecolor": "white",
            "showbackground": true,
            "ticks": "",
            "zerolinecolor": "white"
           },
           "zaxis": {
            "backgroundcolor": "#E5ECF6",
            "gridcolor": "white",
            "gridwidth": 2,
            "linecolor": "white",
            "showbackground": true,
            "ticks": "",
            "zerolinecolor": "white"
           }
          },
          "shapedefaults": {
           "line": {
            "color": "#2a3f5f"
           }
          },
          "ternary": {
           "aaxis": {
            "gridcolor": "white",
            "linecolor": "white",
            "ticks": ""
           },
           "baxis": {
            "gridcolor": "white",
            "linecolor": "white",
            "ticks": ""
           },
           "bgcolor": "#E5ECF6",
           "caxis": {
            "gridcolor": "white",
            "linecolor": "white",
            "ticks": ""
           }
          },
          "title": {
           "x": 0.05
          },
          "xaxis": {
           "automargin": true,
           "gridcolor": "white",
           "linecolor": "white",
           "ticks": "",
           "title": {
            "standoff": 15
           },
           "zerolinecolor": "white",
           "zerolinewidth": 2
          },
          "yaxis": {
           "automargin": true,
           "gridcolor": "white",
           "linecolor": "white",
           "ticks": "",
           "title": {
            "standoff": 15
           },
           "zerolinecolor": "white",
           "zerolinewidth": 2
          }
         }
        },
        "title": {
         "font": {
          "color": "#4D5663"
         },
         "text": "Relationship of Survival Probability, Maturity & Recovery Rate"
        },
        "xaxis": {
         "gridcolor": "#E1E5ED",
         "showgrid": true,
         "tickfont": {
          "color": "#4D5663"
         },
         "title": {
          "font": {
           "color": "#4D5663"
          },
          "text": ""
         },
         "zerolinecolor": "#E1E5ED"
        },
        "yaxis": {
         "gridcolor": "#E1E5ED",
         "showgrid": true,
         "tickfont": {
          "color": "#4D5663"
         },
         "title": {
          "font": {
           "color": "#4D5663"
          },
          "text": ""
         },
         "zerolinecolor": "#E1E5ED"
        }
       }
      },
      "text/html": [
       "<div>                            <div id=\"0a6a14e2-c995-481b-ad30-90e0619460e4\" class=\"plotly-graph-div\" style=\"height:525px; width:100%;\"></div>            <script type=\"text/javascript\">                require([\"plotly\"], function(Plotly) {                    window.PLOTLYENV=window.PLOTLYENV || {};\n",
       "                    window.PLOTLYENV.BASE_URL='https://plot.ly';                                    if (document.getElementById(\"0a6a14e2-c995-481b-ad30-90e0619460e4\")) {                    Plotly.newPlot(                        \"0a6a14e2-c995-481b-ad30-90e0619460e4\",                        [{\"colorscale\":[[0.0,\"rgb(255, 153, 51)\"],[0.1111111111111111,\"rgb(55, 128, 191)\"],[0.2222222222222222,\"rgb(50, 171, 96)\"],[0.3333333333333333,\"rgb(128, 0, 128)\"],[0.4444444444444444,\"rgb(219, 64, 82)\"],[0.5555555555555556,\"rgb(0, 128, 128)\"],[0.6666666666666666,\"rgb(255, 255, 51)\"],[0.7777777777777778,\"rgb(128, 128, 0)\"],[0.8888888888888888,\"rgb(251, 128, 114)\"],[1.0,\"rgb(128, 177, 211)\"]],\"x\":[\"0.0Y\",\"0.5Y\",\"1.0Y\",\"2.0Y\",\"3.0Y\",\"4.0Y\",\"5.0Y\",\"7.0Y\",\"10.0Y\"],\"y\":[10.0,20.0,30.0,40.0,50.0,60.0,70.0,80.0,90.0],\"z\":[[1.0,0.999275525244198,0.9984791535634892,0.9953993008258589,0.9910075162382825,0.9849825147221535,0.9763401633086677,0.9537441919466432,0.9193287345459178],[1.0,0.9991850397019931,0.9982892878125795,0.9948260536804148,0.9898896010968529,0.983120827769862,0.9734176024518391,0.948093852661161,0.9096691092019641],[1.0,0.9990687252239877,0.9980452529889753,0.9940896206220597,0.9884542781452187,0.9807322544076121,0.9696713124629694,0.9408712550184708,0.8973829774419326],[1.0,0.9989136813715086,0.997720010154341,0.9931087568056712,0.986544001260452,0.9775562574212715,0.9646959369250409,0.9313142698095871,0.881231522180167],[1.0,0.998696700805449,0.9972649329154792,0.991737554209036,0.9838762910486969,0.9731266313022316,0.9577679948376719,0.9180734612605237,0.8590526250666923],[1.0,0.9983714066429138,0.9965828912278788,0.9896851296130305,0.9798892774766356,0.966518677071284,0.9474576828157732,0.8985117314890158,0.8267057778222502],[1.0,0.9978297203582208,0.9954476839243569,0.9862760568740091,0.9732828322203766,0.9556018959162053,0.9304889174824218,0.8666891763511384,0.775148471880168],[1.0,0.9967481092934302,0.993182987133721,0.9795012527289708,0.9602130887248645,0.9341246816688513,0.8973413221745722,0.8058517658385922,0.6802154824897813],[1.0,0.9935172996199796,0.9864343344775699,0.9595178749733814,0.9221194271459372,0.872438815927497,0.8039003244413406,0.643646826162534,0.44998918865899085]],\"type\":\"surface\"}],                        {\"legend\":{\"bgcolor\":\"#F5F6F9\",\"font\":{\"color\":\"#4D5663\"}},\"paper_bgcolor\":\"#F5F6F9\",\"plot_bgcolor\":\"#F5F6F9\",\"template\":{\"data\":{\"barpolar\":[{\"marker\":{\"line\":{\"color\":\"#E5ECF6\",\"width\":0.5},\"pattern\":{\"fillmode\":\"overlay\",\"size\":10,\"solidity\":0.2}},\"type\":\"barpolar\"}],\"bar\":[{\"error_x\":{\"color\":\"#2a3f5f\"},\"error_y\":{\"color\":\"#2a3f5f\"},\"marker\":{\"line\":{\"color\":\"#E5ECF6\",\"width\":0.5},\"pattern\":{\"fillmode\":\"overlay\",\"size\":10,\"solidity\":0.2}},\"type\":\"bar\"}],\"carpet\":[{\"aaxis\":{\"endlinecolor\":\"#2a3f5f\",\"gridcolor\":\"white\",\"linecolor\":\"white\",\"minorgridcolor\":\"white\",\"startlinecolor\":\"#2a3f5f\"},\"baxis\":{\"endlinecolor\":\"#2a3f5f\",\"gridcolor\":\"white\",\"linecolor\":\"white\",\"minorgridcolor\":\"white\",\"startlinecolor\":\"#2a3f5f\"},\"type\":\"carpet\"}],\"choropleth\":[{\"colorbar\":{\"outlinewidth\":0,\"ticks\":\"\"},\"type\":\"choropleth\"}],\"contourcarpet\":[{\"colorbar\":{\"outlinewidth\":0,\"ticks\":\"\"},\"type\":\"contourcarpet\"}],\"contour\":[{\"colorbar\":{\"outlinewidth\":0,\"ticks\":\"\"},\"colorscale\":[[0.0,\"#0d0887\"],[0.1111111111111111,\"#46039f\"],[0.2222222222222222,\"#7201a8\"],[0.3333333333333333,\"#9c179e\"],[0.4444444444444444,\"#bd3786\"],[0.5555555555555556,\"#d8576b\"],[0.6666666666666666,\"#ed7953\"],[0.7777777777777778,\"#fb9f3a\"],[0.8888888888888888,\"#fdca26\"],[1.0,\"#f0f921\"]],\"type\":\"contour\"}],\"heatmapgl\":[{\"colorbar\":{\"outlinewidth\":0,\"ticks\":\"\"},\"colorscale\":[[0.0,\"#0d0887\"],[0.1111111111111111,\"#46039f\"],[0.2222222222222222,\"#7201a8\"],[0.3333333333333333,\"#9c179e\"],[0.4444444444444444,\"#bd3786\"],[0.5555555555555556,\"#d8576b\"],[0.6666666666666666,\"#ed7953\"],[0.7777777777777778,\"#fb9f3a\"],[0.8888888888888888,\"#fdca26\"],[1.0,\"#f0f921\"]],\"type\":\"heatmapgl\"}],\"heatmap\":[{\"colorbar\":{\"outlinewidth\":0,\"ticks\":\"\"},\"colorscale\":[[0.0,\"#0d0887\"],[0.1111111111111111,\"#46039f\"],[0.2222222222222222,\"#7201a8\"],[0.3333333333333333,\"#9c179e\"],[0.4444444444444444,\"#bd3786\"],[0.5555555555555556,\"#d8576b\"],[0.6666666666666666,\"#ed7953\"],[0.7777777777777778,\"#fb9f3a\"],[0.8888888888888888,\"#fdca26\"],[1.0,\"#f0f921\"]],\"type\":\"heatmap\"}],\"histogram2dcontour\":[{\"colorbar\":{\"outlinewidth\":0,\"ticks\":\"\"},\"colorscale\":[[0.0,\"#0d0887\"],[0.1111111111111111,\"#46039f\"],[0.2222222222222222,\"#7201a8\"],[0.3333333333333333,\"#9c179e\"],[0.4444444444444444,\"#bd3786\"],[0.5555555555555556,\"#d8576b\"],[0.6666666666666666,\"#ed7953\"],[0.7777777777777778,\"#fb9f3a\"],[0.8888888888888888,\"#fdca26\"],[1.0,\"#f0f921\"]],\"type\":\"histogram2dcontour\"}],\"histogram2d\":[{\"colorbar\":{\"outlinewidth\":0,\"ticks\":\"\"},\"colorscale\":[[0.0,\"#0d0887\"],[0.1111111111111111,\"#46039f\"],[0.2222222222222222,\"#7201a8\"],[0.3333333333333333,\"#9c179e\"],[0.4444444444444444,\"#bd3786\"],[0.5555555555555556,\"#d8576b\"],[0.6666666666666666,\"#ed7953\"],[0.7777777777777778,\"#fb9f3a\"],[0.8888888888888888,\"#fdca26\"],[1.0,\"#f0f921\"]],\"type\":\"histogram2d\"}],\"histogram\":[{\"marker\":{\"pattern\":{\"fillmode\":\"overlay\",\"size\":10,\"solidity\":0.2}},\"type\":\"histogram\"}],\"mesh3d\":[{\"colorbar\":{\"outlinewidth\":0,\"ticks\":\"\"},\"type\":\"mesh3d\"}],\"parcoords\":[{\"line\":{\"colorbar\":{\"outlinewidth\":0,\"ticks\":\"\"}},\"type\":\"parcoords\"}],\"pie\":[{\"automargin\":true,\"type\":\"pie\"}],\"scatter3d\":[{\"line\":{\"colorbar\":{\"outlinewidth\":0,\"ticks\":\"\"}},\"marker\":{\"colorbar\":{\"outlinewidth\":0,\"ticks\":\"\"}},\"type\":\"scatter3d\"}],\"scattercarpet\":[{\"marker\":{\"colorbar\":{\"outlinewidth\":0,\"ticks\":\"\"}},\"type\":\"scattercarpet\"}],\"scattergeo\":[{\"marker\":{\"colorbar\":{\"outlinewidth\":0,\"ticks\":\"\"}},\"type\":\"scattergeo\"}],\"scattergl\":[{\"marker\":{\"colorbar\":{\"outlinewidth\":0,\"ticks\":\"\"}},\"type\":\"scattergl\"}],\"scattermapbox\":[{\"marker\":{\"colorbar\":{\"outlinewidth\":0,\"ticks\":\"\"}},\"type\":\"scattermapbox\"}],\"scatterpolargl\":[{\"marker\":{\"colorbar\":{\"outlinewidth\":0,\"ticks\":\"\"}},\"type\":\"scatterpolargl\"}],\"scatterpolar\":[{\"marker\":{\"colorbar\":{\"outlinewidth\":0,\"ticks\":\"\"}},\"type\":\"scatterpolar\"}],\"scatter\":[{\"fillpattern\":{\"fillmode\":\"overlay\",\"size\":10,\"solidity\":0.2},\"type\":\"scatter\"}],\"scatterternary\":[{\"marker\":{\"colorbar\":{\"outlinewidth\":0,\"ticks\":\"\"}},\"type\":\"scatterternary\"}],\"surface\":[{\"colorbar\":{\"outlinewidth\":0,\"ticks\":\"\"},\"colorscale\":[[0.0,\"#0d0887\"],[0.1111111111111111,\"#46039f\"],[0.2222222222222222,\"#7201a8\"],[0.3333333333333333,\"#9c179e\"],[0.4444444444444444,\"#bd3786\"],[0.5555555555555556,\"#d8576b\"],[0.6666666666666666,\"#ed7953\"],[0.7777777777777778,\"#fb9f3a\"],[0.8888888888888888,\"#fdca26\"],[1.0,\"#f0f921\"]],\"type\":\"surface\"}],\"table\":[{\"cells\":{\"fill\":{\"color\":\"#EBF0F8\"},\"line\":{\"color\":\"white\"}},\"header\":{\"fill\":{\"color\":\"#C8D4E3\"},\"line\":{\"color\":\"white\"}},\"type\":\"table\"}]},\"layout\":{\"annotationdefaults\":{\"arrowcolor\":\"#2a3f5f\",\"arrowhead\":0,\"arrowwidth\":1},\"autotypenumbers\":\"strict\",\"coloraxis\":{\"colorbar\":{\"outlinewidth\":0,\"ticks\":\"\"}},\"colorscale\":{\"diverging\":[[0,\"#8e0152\"],[0.1,\"#c51b7d\"],[0.2,\"#de77ae\"],[0.3,\"#f1b6da\"],[0.4,\"#fde0ef\"],[0.5,\"#f7f7f7\"],[0.6,\"#e6f5d0\"],[0.7,\"#b8e186\"],[0.8,\"#7fbc41\"],[0.9,\"#4d9221\"],[1,\"#276419\"]],\"sequential\":[[0.0,\"#0d0887\"],[0.1111111111111111,\"#46039f\"],[0.2222222222222222,\"#7201a8\"],[0.3333333333333333,\"#9c179e\"],[0.4444444444444444,\"#bd3786\"],[0.5555555555555556,\"#d8576b\"],[0.6666666666666666,\"#ed7953\"],[0.7777777777777778,\"#fb9f3a\"],[0.8888888888888888,\"#fdca26\"],[1.0,\"#f0f921\"]],\"sequentialminus\":[[0.0,\"#0d0887\"],[0.1111111111111111,\"#46039f\"],[0.2222222222222222,\"#7201a8\"],[0.3333333333333333,\"#9c179e\"],[0.4444444444444444,\"#bd3786\"],[0.5555555555555556,\"#d8576b\"],[0.6666666666666666,\"#ed7953\"],[0.7777777777777778,\"#fb9f3a\"],[0.8888888888888888,\"#fdca26\"],[1.0,\"#f0f921\"]]},\"colorway\":[\"#636efa\",\"#EF553B\",\"#00cc96\",\"#ab63fa\",\"#FFA15A\",\"#19d3f3\",\"#FF6692\",\"#B6E880\",\"#FF97FF\",\"#FECB52\"],\"font\":{\"color\":\"#2a3f5f\"},\"geo\":{\"bgcolor\":\"white\",\"lakecolor\":\"white\",\"landcolor\":\"#E5ECF6\",\"showlakes\":true,\"showland\":true,\"subunitcolor\":\"white\"},\"hoverlabel\":{\"align\":\"left\"},\"hovermode\":\"closest\",\"mapbox\":{\"style\":\"light\"},\"paper_bgcolor\":\"white\",\"plot_bgcolor\":\"#E5ECF6\",\"polar\":{\"angularaxis\":{\"gridcolor\":\"white\",\"linecolor\":\"white\",\"ticks\":\"\"},\"bgcolor\":\"#E5ECF6\",\"radialaxis\":{\"gridcolor\":\"white\",\"linecolor\":\"white\",\"ticks\":\"\"}},\"scene\":{\"xaxis\":{\"backgroundcolor\":\"#E5ECF6\",\"gridcolor\":\"white\",\"gridwidth\":2,\"linecolor\":\"white\",\"showbackground\":true,\"ticks\":\"\",\"zerolinecolor\":\"white\"},\"yaxis\":{\"backgroundcolor\":\"#E5ECF6\",\"gridcolor\":\"white\",\"gridwidth\":2,\"linecolor\":\"white\",\"showbackground\":true,\"ticks\":\"\",\"zerolinecolor\":\"white\"},\"zaxis\":{\"backgroundcolor\":\"#E5ECF6\",\"gridcolor\":\"white\",\"gridwidth\":2,\"linecolor\":\"white\",\"showbackground\":true,\"ticks\":\"\",\"zerolinecolor\":\"white\"}},\"shapedefaults\":{\"line\":{\"color\":\"#2a3f5f\"}},\"ternary\":{\"aaxis\":{\"gridcolor\":\"white\",\"linecolor\":\"white\",\"ticks\":\"\"},\"baxis\":{\"gridcolor\":\"white\",\"linecolor\":\"white\",\"ticks\":\"\"},\"bgcolor\":\"#E5ECF6\",\"caxis\":{\"gridcolor\":\"white\",\"linecolor\":\"white\",\"ticks\":\"\"}},\"title\":{\"x\":0.05},\"xaxis\":{\"automargin\":true,\"gridcolor\":\"white\",\"linecolor\":\"white\",\"ticks\":\"\",\"title\":{\"standoff\":15},\"zerolinecolor\":\"white\",\"zerolinewidth\":2},\"yaxis\":{\"automargin\":true,\"gridcolor\":\"white\",\"linecolor\":\"white\",\"ticks\":\"\",\"title\":{\"standoff\":15},\"zerolinecolor\":\"white\",\"zerolinewidth\":2}}},\"title\":{\"font\":{\"color\":\"#4D5663\"},\"text\":\"Relationship of Survival Probability, Maturity & Recovery Rate\"},\"xaxis\":{\"gridcolor\":\"#E1E5ED\",\"showgrid\":true,\"tickfont\":{\"color\":\"#4D5663\"},\"title\":{\"font\":{\"color\":\"#4D5663\"},\"text\":\"\"},\"zerolinecolor\":\"#E1E5ED\"},\"yaxis\":{\"gridcolor\":\"#E1E5ED\",\"showgrid\":true,\"tickfont\":{\"color\":\"#4D5663\"},\"title\":{\"font\":{\"color\":\"#4D5663\"},\"text\":\"\"},\"zerolinecolor\":\"#E1E5ED\"}},                        {\"showLink\": true, \"linkText\": \"Export to plot.ly\", \"plotlyServerURL\": \"https://plot.ly\", \"responsive\": true}                    ).then(function(){\n",
       "                            \n",
       "var gd = document.getElementById('0a6a14e2-c995-481b-ad30-90e0619460e4');\n",
       "var x = new MutationObserver(function (mutations, observer) {{\n",
       "        var display = window.getComputedStyle(gd).display;\n",
       "        if (!display || display === 'none') {{\n",
       "            console.log([gd, 'removed!']);\n",
       "            Plotly.purge(gd);\n",
       "            observer.disconnect();\n",
       "        }}\n",
       "}});\n",
       "\n",
       "// Listen for the removal of the full notebook cells\n",
       "var notebookContainer = gd.closest('#notebook-container');\n",
       "if (notebookContainer) {{\n",
       "    x.observe(notebookContainer, {childList: true});\n",
       "}}\n",
       "\n",
       "// Listen for the clearing of the current output cell\n",
       "var outputEl = gd.closest('.output');\n",
       "if (outputEl) {{\n",
       "    x.observe(outputEl, {childList: true});\n",
       "}}\n",
       "\n",
       "                        })                };                });            </script>        </div>"
      ]
     },
     "metadata": {},
     "output_type": "display_data"
    }
   ],
   "source": [
    "# surface plot \n",
    "sp.iplot(kind='surface', title='Relationship of Survival Probability, Maturity & Recovery Rate')"
   ]
  },
  {
   "cell_type": "code",
   "execution_count": null,
   "id": "e8fe6911",
   "metadata": {},
   "outputs": [],
   "source": []
  }
 ],
 "metadata": {
  "kernelspec": {
   "display_name": "Python 3 (ipykernel)",
   "language": "python",
   "name": "python3"
  },
  "language_info": {
   "codemirror_mode": {
    "name": "ipython",
    "version": 3
   },
   "file_extension": ".py",
   "mimetype": "text/x-python",
   "name": "python",
   "nbconvert_exporter": "python",
   "pygments_lexer": "ipython3",
   "version": "3.11.5"
  }
 },
 "nbformat": 4,
 "nbformat_minor": 5
}
